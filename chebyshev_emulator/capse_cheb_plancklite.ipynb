{
 "cells": [
  {
   "attachments": {},
   "cell_type": "markdown",
   "id": "941c5646",
   "metadata": {},
   "source": [
    "# Capse.jl reloaded: using Chebyshev polynomials\n",
    "\n",
    "In this notebook we are going to use the trained Capse.jl emulators which takes advantage of the Chebyshev polynomials decomposition. The core ides is that, rather than using a Neural Networks that outputs the $C_\\ell$'s directly\n",
    "\n",
    "$$\n",
    "\\theta\\rightarrow \\mathrm{NN}(\\theta)\\rightarrow C_\\ell(\\theta)\n",
    "$$\n",
    "\n",
    "we decompose, at a fixed cosmology, the $C_\\ell$'s on the Chebyshev basis\n",
    "\n",
    "$$\n",
    "C_\\ell(\\theta)\\approx\\sum_{i=0}^N a_i(\\theta)T_i\n",
    "$$\n",
    "\n",
    "where $T_i$ is the $i$-th grade Chebyshev polynomial.\n",
    "In this case, the cosmological dependence is encoded in the Chebyshev expansion coefficients, which are the emulation target.\n",
    "\n",
    "$$\n",
    "\\theta\\rightarrow\\mathrm{NN}(\\theta)\\rightarrow a_i(\\theta)\\rightarrow C_\\ell(\\theta)\n",
    "$$\n",
    "\n",
    "In the first part of the notebook we are showing how the Chebyshev expansions can be used to approximate the CMB $C_\\ell$'s.\n",
    "\n",
    "In the second part  we are showing how to compute some Planck chains using the emulator.\n",
    "\n",
    "Let us start activating the static Julia environment and importing the relevant packages."
   ]
  },
  {
   "cell_type": "code",
   "execution_count": 1,
   "id": "ef772998",
   "metadata": {},
   "outputs": [
    {
     "name": "stderr",
     "output_type": "stream",
     "text": [
      "\u001b[32m\u001b[1m  Activating\u001b[22m\u001b[39m project at `~/Desktop/papers/capse_paper/chebyshev_emulator`\n",
      "\u001b[32m\u001b[1m  No Changes\u001b[22m\u001b[39m to `~/Desktop/papers/capse_paper/chebyshev_emulator/Project.toml`\n",
      "\u001b[32m\u001b[1m  No Changes\u001b[22m\u001b[39m to `~/Desktop/papers/capse_paper/chebyshev_emulator/Manifest.toml`\n"
     ]
    }
   ],
   "source": [
    "using Pkg\n",
    "Pkg.activate(\".\")\n",
    "Pkg.instantiate()\n",
    "Pkg.resolve()"
   ]
  },
  {
   "cell_type": "code",
   "execution_count": 2,
   "id": "58543380-350b-4b39-a05c-bf6a97afb06c",
   "metadata": {},
   "outputs": [],
   "source": [
    "using FastChebInterp\n",
    "using BenchmarkTools\n",
    "using LoopVectorization\n",
    "using SimpleChains\n",
    "using Turing\n",
    "using Optim\n",
    "using LinearAlgebra\n",
    "using StatsPlots\n",
    "using Pathfinder\n",
    "using Capse\n",
    "using NPZ\n",
    "import MCMCChains: compute_duration\n",
    "using MCMCDiagnosticTools\n",
    "using StatsPlots\n",
    "using MicroCanonicalHMC\n",
    "using Transducers\n",
    "using MCMCDiagnosticTools\n",
    "using DataFrames\n",
    "using PlanckLite\n",
    "include(\"utils.jl\");"
   ]
  },
  {
   "attachments": {},
   "cell_type": "markdown",
   "id": "5432ddc4",
   "metadata": {},
   "source": [
    "Since we are going to focus on the Planck analysis, here we are just going to use the multipoles $\\ell\\in[2,2508]$.\n",
    " In this example we are using a polynomial of grade $47$."
   ]
  },
  {
   "cell_type": "code",
   "execution_count": 3,
   "id": "78b01597-c699-42b2-967e-f2ae2e4521b5",
   "metadata": {},
   "outputs": [],
   "source": [
    "min_idx = 3\n",
    "max_idx = 2509\n",
    "\n",
    "grad_cheb = 48\n",
    "weights_folder = \"../weights/weights_cheb_cosmopowerspace_10000/\"\n",
    "l = Float64.(npzread(weights_folder*\"l.npy\")[min_idx:max_idx]);"
   ]
  },
  {
   "attachments": {},
   "cell_type": "markdown",
   "id": "680865d9",
   "metadata": {},
   "source": [
    "# Checking the emulator: using the validation dataset\n",
    "\n",
    "Here we are going to show how to use the emulators and the emulation error on the validation dataset.\n",
    "Here we are defining the MultiLayer Perceptron Architecture. Please: do not touch this cell!"
   ]
  },
  {
   "cell_type": "code",
   "execution_count": 4,
   "id": "c068dc0a-1ec7-4a76-90d8-695198f398ee",
   "metadata": {},
   "outputs": [],
   "source": [
    "mlpd = SimpleChain(\n",
    "  static(6),\n",
    "  TurboDense(tanh, 64),\n",
    "  TurboDense(tanh, 64),\n",
    "  TurboDense(tanh, 64),\n",
    "  TurboDense(tanh, 64),\n",
    "  TurboDense(tanh, 64),\n",
    "  TurboDense(identity, grad_cheb)\n",
    ");"
   ]
  },
  {
   "attachments": {},
   "cell_type": "markdown",
   "id": "7fbba719",
   "metadata": {},
   "source": [
    "Let us load the emulators."
   ]
  },
  {
   "cell_type": "code",
   "execution_count": 5,
   "id": "c239574a-16d5-4111-8804-71a966d95300",
   "metadata": {},
   "outputs": [],
   "source": [
    "weights_TT = npzread(weights_folder*\"weights_TT_lcdm.npy\")\n",
    "trained_emu_TT = Capse.SimpleChainsEmulator(Architecture= mlpd, Weights = weights_TT)\n",
    "CℓTT_emu = Capse.CℓEmulator(TrainedEmulator = trained_emu_TT, ℓgrid = l,\n",
    "                             InMinMax = npzread(weights_folder*\"inMinMax_lcdm.npy\"),\n",
    "                             OutMinMax = npzread(weights_folder*\"outMinMaxCℓTT_lcdm.npy\"),\n",
    "                             PolyGrid= zeros(50,50), ChebDegree = grad_cheb);"
   ]
  },
  {
   "cell_type": "code",
   "execution_count": 6,
   "id": "c2877c0b-433a-4ddf-b920-62b635854399",
   "metadata": {},
   "outputs": [],
   "source": [
    "weights_EE = npzread(weights_folder*\"weights_EE_lcdm.npy\")\n",
    "trained_emu_EE = Capse.SimpleChainsEmulator(Architecture= mlpd, Weights = weights_EE)\n",
    "CℓEE_emu = Capse.CℓEmulator(TrainedEmulator = trained_emu_EE, ℓgrid = l,\n",
    "                             InMinMax = npzread(weights_folder*\"inMinMax_lcdm.npy\"),\n",
    "                             OutMinMax = npzread(weights_folder*\"outMinMaxCℓEE_lcdm.npy\"),\n",
    "                             PolyGrid= zeros(50,50), ChebDegree = grad_cheb);"
   ]
  },
  {
   "cell_type": "code",
   "execution_count": 7,
   "id": "bc841e5f-b014-4713-a7c0-7d89d0f8e44b",
   "metadata": {},
   "outputs": [],
   "source": [
    "weights_TE = npzread(weights_folder*\"weights_TE_lcdm.npy\")\n",
    "trained_emu_TE = Capse.SimpleChainsEmulator(Architecture= mlpd, Weights = weights_TE)\n",
    "CℓTE_emu = Capse.CℓEmulator(TrainedEmulator = trained_emu_TE, ℓgrid = l,\n",
    "                             InMinMax = npzread(weights_folder*\"inMinMax_lcdm.npy\"),\n",
    "                             OutMinMax = npzread(weights_folder*\"outMinMaxCℓTE_lcdm.npy\"),\n",
    "                             PolyGrid= zeros(50,50), ChebDegree = grad_cheb);"
   ]
  },
  {
   "cell_type": "code",
   "execution_count": 8,
   "id": "bf29b91a",
   "metadata": {},
   "outputs": [],
   "source": [
    "weights_PP = npzread(weights_folder*\"weights_PP_lcdm.npy\")\n",
    "trained_emu_PP = Capse.SimpleChainsEmulator(Architecture= mlpd, Weights = weights_PP)\n",
    "CℓPP_emu = Capse.CℓEmulator(TrainedEmulator = trained_emu_PP, ℓgrid = l,\n",
    "                             InMinMax = npzread(weights_folder*\"inMinMax_lcdm.npy\"),\n",
    "                             OutMinMax = npzread(weights_folder*\"outMinMaxCℓPP_lcdm.npy\"),\n",
    "                             PolyGrid= zeros(50,50), ChebDegree = grad_cheb);"
   ]
  },
  {
   "attachments": {},
   "cell_type": "markdown",
   "id": "8734b8c3",
   "metadata": {},
   "source": [
    "The first thing to do is to evalute the PolyGrid: the polynomials on the $\\ell$ grid used in the training.\n",
    "After the evaluation, the result is stored and doesn't need to be computed again."
   ]
  },
  {
   "cell_type": "code",
   "execution_count": 9,
   "id": "3b97ae7e-7f17-40ee-bb7f-1b80782ef996",
   "metadata": {},
   "outputs": [],
   "source": [
    "Capse.eval_polygrid!(CℓEE_emu)\n",
    "Capse.eval_polygrid!(CℓTT_emu)\n",
    "Capse.eval_polygrid!(CℓTE_emu)\n",
    "Capse.eval_polygrid!(CℓPP_emu)"
   ]
  },
  {
   "attachments": {},
   "cell_type": "markdown",
   "id": "c5320b04",
   "metadata": {},
   "source": [
    "Let us now benchmark the $C_\\ell$'s computation"
   ]
  },
  {
   "cell_type": "code",
   "execution_count": 10,
   "id": "8caf242c",
   "metadata": {},
   "outputs": [
    {
     "data": {
      "text/plain": [
       "BenchmarkTools.Trial: 10000 samples with 1 evaluation.\n",
       " Range \u001b[90m(\u001b[39m\u001b[36m\u001b[1mmin\u001b[22m\u001b[39m … \u001b[35mmax\u001b[39m\u001b[90m):  \u001b[39m\u001b[36m\u001b[1m11.272 μs\u001b[22m\u001b[39m … \u001b[35m 2.775 ms\u001b[39m  \u001b[90m┊\u001b[39m GC \u001b[90m(\u001b[39mmin … max\u001b[90m): \u001b[39m0.00% … 97.86%\n",
       " Time  \u001b[90m(\u001b[39m\u001b[34m\u001b[1mmedian\u001b[22m\u001b[39m\u001b[90m):     \u001b[39m\u001b[34m\u001b[1m15.810 μs              \u001b[22m\u001b[39m\u001b[90m┊\u001b[39m GC \u001b[90m(\u001b[39mmedian\u001b[90m):    \u001b[39m0.00%\n",
       " Time  \u001b[90m(\u001b[39m\u001b[32m\u001b[1mmean\u001b[22m\u001b[39m ± \u001b[32mσ\u001b[39m\u001b[90m):   \u001b[39m\u001b[32m\u001b[1m17.086 μs\u001b[22m\u001b[39m ± \u001b[32m38.943 μs\u001b[39m  \u001b[90m┊\u001b[39m GC \u001b[90m(\u001b[39mmean ± σ\u001b[90m):  \u001b[39m3.11% ±  1.37%\n",
       "\n",
       "  \u001b[39m \u001b[39m \u001b[39m▃\u001b[39m█\u001b[39m▃\u001b[39m \u001b[39m \u001b[39m \u001b[39m \u001b[39m \u001b[39m \u001b[39m \u001b[39m▁\u001b[39m▅\u001b[39m▆\u001b[34m▂\u001b[39m\u001b[39m \u001b[39m \u001b[39m \u001b[32m \u001b[39m\u001b[39m \u001b[39m \u001b[39m \u001b[39m \u001b[39m \u001b[39m \u001b[39m \u001b[39m \u001b[39m \u001b[39m \u001b[39m \u001b[39m \u001b[39m \u001b[39m \u001b[39m \u001b[39m \u001b[39m \u001b[39m \u001b[39m \u001b[39m \u001b[39m \u001b[39m \u001b[39m \u001b[39m \u001b[39m \u001b[39m \u001b[39m \u001b[39m \u001b[39m \u001b[39m \u001b[39m \u001b[39m \u001b[39m \u001b[39m \u001b[39m \u001b[39m \u001b[39m \u001b[39m \u001b[39m \u001b[39m \u001b[39m \n",
       "  \u001b[39m▁\u001b[39m▃\u001b[39m█\u001b[39m█\u001b[39m█\u001b[39m▆\u001b[39m▄\u001b[39m▃\u001b[39m▂\u001b[39m▂\u001b[39m▃\u001b[39m▅\u001b[39m█\u001b[39m█\u001b[39m█\u001b[34m█\u001b[39m\u001b[39m█\u001b[39m▇\u001b[39m▆\u001b[32m▅\u001b[39m\u001b[39m▅\u001b[39m▄\u001b[39m▄\u001b[39m▃\u001b[39m▃\u001b[39m▃\u001b[39m▄\u001b[39m▄\u001b[39m▄\u001b[39m▄\u001b[39m▄\u001b[39m▃\u001b[39m▃\u001b[39m▂\u001b[39m▃\u001b[39m▂\u001b[39m▂\u001b[39m▂\u001b[39m▂\u001b[39m▂\u001b[39m▂\u001b[39m▂\u001b[39m▂\u001b[39m▂\u001b[39m▂\u001b[39m▁\u001b[39m▁\u001b[39m▁\u001b[39m▁\u001b[39m▁\u001b[39m▁\u001b[39m▁\u001b[39m▁\u001b[39m▁\u001b[39m▁\u001b[39m▁\u001b[39m▁\u001b[39m▁\u001b[39m▁\u001b[39m \u001b[39m▃\n",
       "  11.3 μs\u001b[90m         Histogram: frequency by time\u001b[39m        29.4 μs \u001b[0m\u001b[1m<\u001b[22m\n",
       "\n",
       " Memory estimate\u001b[90m: \u001b[39m\u001b[33m21.45 KiB\u001b[39m, allocs estimate\u001b[90m: \u001b[39m\u001b[33m11\u001b[39m."
      ]
     },
     "execution_count": 10,
     "metadata": {},
     "output_type": "execute_result"
    }
   ],
   "source": [
    "input_test = rand(6)\n",
    "@benchmark Capse.get_Cℓ($input_test, $CℓTE_emu)"
   ]
  },
  {
   "attachments": {},
   "cell_type": "markdown",
   "id": "950578f6",
   "metadata": {},
   "source": [
    "And also the Chebyshev coefficients emulation"
   ]
  },
  {
   "cell_type": "code",
   "execution_count": 11,
   "id": "b4b5af43",
   "metadata": {},
   "outputs": [
    {
     "data": {
      "text/plain": [
       "BenchmarkTools.Trial: 10000 samples with 9 evaluations.\n",
       " Range \u001b[90m(\u001b[39m\u001b[36m\u001b[1mmin\u001b[22m\u001b[39m … \u001b[35mmax\u001b[39m\u001b[90m):  \u001b[39m\u001b[36m\u001b[1m3.030 μs\u001b[22m\u001b[39m … \u001b[35m810.948 μs\u001b[39m  \u001b[90m┊\u001b[39m GC \u001b[90m(\u001b[39mmin … max\u001b[90m): \u001b[39m0.00% … 98.88%\n",
       " Time  \u001b[90m(\u001b[39m\u001b[34m\u001b[1mmedian\u001b[22m\u001b[39m\u001b[90m):     \u001b[39m\u001b[34m\u001b[1m3.742 μs               \u001b[22m\u001b[39m\u001b[90m┊\u001b[39m GC \u001b[90m(\u001b[39mmedian\u001b[90m):    \u001b[39m0.00%\n",
       " Time  \u001b[90m(\u001b[39m\u001b[32m\u001b[1mmean\u001b[22m\u001b[39m ± \u001b[32mσ\u001b[39m\u001b[90m):   \u001b[39m\u001b[32m\u001b[1m3.849 μs\u001b[22m\u001b[39m ± \u001b[32m  8.090 μs\u001b[39m  \u001b[90m┊\u001b[39m GC \u001b[90m(\u001b[39mmean ± σ\u001b[90m):  \u001b[39m2.08% ±  0.99%\n",
       "\n",
       "  \u001b[39m \u001b[39m \u001b[39m \u001b[39m \u001b[39m \u001b[39m \u001b[39m█\u001b[39m▃\u001b[39m \u001b[39m \u001b[39m \u001b[39m \u001b[39m \u001b[39m \u001b[39m▂\u001b[39m▁\u001b[34m▇\u001b[39m\u001b[39m▃\u001b[32m▂\u001b[39m\u001b[39m▁\u001b[39m \u001b[39m \u001b[39m \u001b[39m \u001b[39m \u001b[39m \u001b[39m \u001b[39m \u001b[39m \u001b[39m \u001b[39m \u001b[39m \u001b[39m \u001b[39m \u001b[39m \u001b[39m \u001b[39m \u001b[39m \u001b[39m \u001b[39m \u001b[39m \u001b[39m \u001b[39m \u001b[39m \u001b[39m \u001b[39m \u001b[39m \u001b[39m \u001b[39m \u001b[39m \u001b[39m \u001b[39m \u001b[39m \u001b[39m \u001b[39m \u001b[39m \u001b[39m \u001b[39m \u001b[39m \u001b[39m \u001b[39m \n",
       "  \u001b[39m▁\u001b[39m▃\u001b[39m▂\u001b[39m▂\u001b[39m▁\u001b[39m▂\u001b[39m█\u001b[39m█\u001b[39m▇\u001b[39m▄\u001b[39m▄\u001b[39m▄\u001b[39m▃\u001b[39m▅\u001b[39m█\u001b[39m█\u001b[34m█\u001b[39m\u001b[39m█\u001b[32m█\u001b[39m\u001b[39m█\u001b[39m▇\u001b[39m▅\u001b[39m▄\u001b[39m▃\u001b[39m▃\u001b[39m▂\u001b[39m▂\u001b[39m▂\u001b[39m▂\u001b[39m▂\u001b[39m▁\u001b[39m▁\u001b[39m▁\u001b[39m▁\u001b[39m▁\u001b[39m▂\u001b[39m▂\u001b[39m▂\u001b[39m▂\u001b[39m▁\u001b[39m▂\u001b[39m▁\u001b[39m▁\u001b[39m▁\u001b[39m▁\u001b[39m▁\u001b[39m▁\u001b[39m▁\u001b[39m▁\u001b[39m▁\u001b[39m▁\u001b[39m▁\u001b[39m▁\u001b[39m▁\u001b[39m▁\u001b[39m▁\u001b[39m▁\u001b[39m▁\u001b[39m▁\u001b[39m \u001b[39m▂\n",
       "  3.03 μs\u001b[90m         Histogram: frequency by time\u001b[39m        5.65 μs \u001b[0m\u001b[1m<\u001b[22m\n",
       "\n",
       " Memory estimate\u001b[90m: \u001b[39m\u001b[33m1.78 KiB\u001b[39m, allocs estimate\u001b[90m: \u001b[39m\u001b[33m9\u001b[39m."
      ]
     },
     "execution_count": 11,
     "metadata": {},
     "output_type": "execute_result"
    }
   ],
   "source": [
    "@benchmark Capse.get_chebcoefs($input_test, $CℓTE_emu)"
   ]
  },
  {
   "attachments": {},
   "cell_type": "markdown",
   "id": "f50f226d",
   "metadata": {},
   "source": [
    "Here we want to emphasize an important point:\n",
    "\n",
    "- emulating the Chebyshev coefficients requires around $4\\,\\mu s$\n",
    "- emulating the Chebyshev coefficients $\\textit{and}$  computing the $C_\\ell$'s takes $15\\,\\mu s$\n",
    "\n",
    "This simple observation can suggest us something: if we are able to write the likelihood in such a way that we do NOT compute the $C_\\ell$'s we can improve the overall computational performance."
   ]
  },
  {
   "attachments": {},
   "cell_type": "markdown",
   "id": "fa1e217f",
   "metadata": {},
   "source": [
    "# PlanckLite & Chebyshev"
   ]
  },
  {
   "cell_type": "code",
   "execution_count": 12,
   "id": "ab7d552a",
   "metadata": {},
   "outputs": [
    {
     "data": {
      "text/plain": [
       "call_emu_plancklite (generic function with 1 method)"
      ]
     },
     "execution_count": 12,
     "metadata": {},
     "output_type": "execute_result"
    }
   ],
   "source": [
    "lsTT = 2:2508\n",
    "lsTE = 2:1996\n",
    "facTT=lsTT.*(lsTT.+1)./(2*π)\n",
    "facTE=lsTE.*(lsTE.+1)./(2*π)\n",
    "\n",
    "function call_emu_plancklite(θ, Emu_TT, Emu_TE, Emu_EE, facTT, facTE)\n",
    "    return PlanckLite.bin_Cℓ(Capse.get_Cℓ(θ, Emu_TT)[1:2507]./facTT,\n",
    "                            Capse.get_Cℓ(θ, Emu_TE)[1:1995]./facTE,\n",
    "                            Capse.get_Cℓ(θ, Emu_EE)[1:1995]./facTE)\n",
    "end"
   ]
  },
  {
   "cell_type": "code",
   "execution_count": 13,
   "id": "9280adc0",
   "metadata": {},
   "outputs": [],
   "source": [
    "Γ = sqrt(PlanckLite.cov)\n",
    "iΓ = inv(Γ)\n",
    "D = iΓ * PlanckLite.data;"
   ]
  },
  {
   "cell_type": "code",
   "execution_count": 14,
   "id": "ce6ecbe0",
   "metadata": {},
   "outputs": [
    {
     "data": {
      "text/plain": [
       "theory_plancklite (generic function with 1 method)"
      ]
     },
     "execution_count": 14,
     "metadata": {},
     "output_type": "execute_result"
    }
   ],
   "source": [
    "theory_plancklite(θ) = call_emu_plancklite(θ, CℓTT_emu, CℓTE_emu, CℓEE_emu, facTT, facTE)"
   ]
  },
  {
   "cell_type": "code",
   "execution_count": 15,
   "id": "756a3321",
   "metadata": {},
   "outputs": [
    {
     "data": {
      "text/plain": [
       "BenchmarkTools.Trial: 10000 samples with 1 evaluation.\n",
       " Range \u001b[90m(\u001b[39m\u001b[36m\u001b[1mmin\u001b[22m\u001b[39m … \u001b[35mmax\u001b[39m\u001b[90m):  \u001b[39m\u001b[36m\u001b[1m241.318 μs\u001b[22m\u001b[39m … \u001b[35m  6.483 ms\u001b[39m  \u001b[90m┊\u001b[39m GC \u001b[90m(\u001b[39mmin … max\u001b[90m): \u001b[39m0.00% … 89.79%\n",
       " Time  \u001b[90m(\u001b[39m\u001b[34m\u001b[1mmedian\u001b[22m\u001b[39m\u001b[90m):     \u001b[39m\u001b[34m\u001b[1m287.275 μs               \u001b[22m\u001b[39m\u001b[90m┊\u001b[39m GC \u001b[90m(\u001b[39mmedian\u001b[90m):    \u001b[39m0.00%\n",
       " Time  \u001b[90m(\u001b[39m\u001b[32m\u001b[1mmean\u001b[22m\u001b[39m ± \u001b[32mσ\u001b[39m\u001b[90m):   \u001b[39m\u001b[32m\u001b[1m320.320 μs\u001b[22m\u001b[39m ± \u001b[32m374.620 μs\u001b[39m  \u001b[90m┊\u001b[39m GC \u001b[90m(\u001b[39mmean ± σ\u001b[90m):  \u001b[39m7.49% ±  6.09%\n",
       "\n",
       "  \u001b[39m▂\u001b[39m▃\u001b[39m▁\u001b[39m▁\u001b[39m▁\u001b[39m▆\u001b[39m▇\u001b[39m█\u001b[34m█\u001b[39m\u001b[39m▇\u001b[39m▆\u001b[39m▄\u001b[39m▄\u001b[39m▃\u001b[32m▃\u001b[39m\u001b[39m▃\u001b[39m▂\u001b[39m▂\u001b[39m▂\u001b[39m▁\u001b[39m▁\u001b[39m▁\u001b[39m▁\u001b[39m \u001b[39m \u001b[39m \u001b[39m \u001b[39m \u001b[39m \u001b[39m \u001b[39m \u001b[39m \u001b[39m \u001b[39m \u001b[39m \u001b[39m \u001b[39m \u001b[39m \u001b[39m \u001b[39m \u001b[39m \u001b[39m \u001b[39m \u001b[39m \u001b[39m \u001b[39m \u001b[39m \u001b[39m \u001b[39m \u001b[39m \u001b[39m \u001b[39m \u001b[39m \u001b[39m \u001b[39m \u001b[39m \u001b[39m \u001b[39m \u001b[39m \u001b[39m \u001b[39m \u001b[39m \u001b[39m▂\n",
       "  \u001b[39m█\u001b[39m█\u001b[39m█\u001b[39m█\u001b[39m█\u001b[39m█\u001b[39m█\u001b[39m█\u001b[34m█\u001b[39m\u001b[39m█\u001b[39m█\u001b[39m█\u001b[39m█\u001b[39m█\u001b[32m█\u001b[39m\u001b[39m█\u001b[39m█\u001b[39m█\u001b[39m█\u001b[39m█\u001b[39m█\u001b[39m█\u001b[39m█\u001b[39m█\u001b[39m█\u001b[39m▇\u001b[39m█\u001b[39m▆\u001b[39m▇\u001b[39m▇\u001b[39m█\u001b[39m▇\u001b[39m▇\u001b[39m▆\u001b[39m▅\u001b[39m▅\u001b[39m▅\u001b[39m▅\u001b[39m▃\u001b[39m▅\u001b[39m▅\u001b[39m▅\u001b[39m▅\u001b[39m▄\u001b[39m▁\u001b[39m▄\u001b[39m▄\u001b[39m▃\u001b[39m▃\u001b[39m▃\u001b[39m▁\u001b[39m▁\u001b[39m▁\u001b[39m▃\u001b[39m▁\u001b[39m▁\u001b[39m▁\u001b[39m▁\u001b[39m▁\u001b[39m▁\u001b[39m▄\u001b[39m \u001b[39m█\n",
       "  241 μs\u001b[90m        \u001b[39m\u001b[90mHistogram: \u001b[39m\u001b[90m\u001b[1mlog(\u001b[22m\u001b[39m\u001b[90mfrequency\u001b[39m\u001b[90m\u001b[1m)\u001b[22m\u001b[39m\u001b[90m by time\u001b[39m        581 μs \u001b[0m\u001b[1m<\u001b[22m\n",
       "\n",
       " Memory estimate\u001b[90m: \u001b[39m\u001b[33m492.48 KiB\u001b[39m, allocs estimate\u001b[90m: \u001b[39m\u001b[33m8878\u001b[39m."
      ]
     },
     "execution_count": 15,
     "metadata": {},
     "output_type": "execute_result"
    }
   ],
   "source": [
    "@benchmark theory_plancklite(ones(6))"
   ]
  },
  {
   "cell_type": "code",
   "execution_count": 16,
   "id": "6c5b29b4",
   "metadata": {},
   "outputs": [],
   "source": [
    "function bin_grid(Emu_TT, Emu_TE, Emu_EE, facTT, facTE)\n",
    "    result = zeros(613,48)\n",
    "    for i in 1:48\n",
    "    result[:, i] =  PlanckLite.bin_Cℓ(Emu_TT.PolyGrid[1:2507,i]./facTT,\n",
    "                             Emu_TE.PolyGrid[1:1995,i]./facTE,\n",
    "                             Emu_EE.PolyGrid[1:1995,i]./facTE)\n",
    "    end\n",
    "    return result\n",
    "end\n",
    "\n",
    "binned_grid_std = bin_grid(CℓTT_emu, CℓTE_emu, CℓEE_emu, facTT, facTE);"
   ]
  },
  {
   "cell_type": "code",
   "execution_count": 17,
   "id": "c3d0eacb",
   "metadata": {},
   "outputs": [
    {
     "data": {
      "text/plain": [
       "theory_fast (generic function with 1 method)"
      ]
     },
     "execution_count": 17,
     "metadata": {},
     "output_type": "execute_result"
    }
   ],
   "source": [
    "function fast_computation(θ, CℓTT_emu, CℓTE_emu, CℓEE_emu, binned_grid)\n",
    "    coeff_TT = Capse.get_chebcoefs(θ, CℓTT_emu)\n",
    "    coeff_TE = Capse.get_chebcoefs(θ, CℓTE_emu)\n",
    "    coeff_EE = Capse.get_chebcoefs(θ, CℓEE_emu)\n",
    "    TT = binned_grid[1:215,:]   * coeff_TT\n",
    "    TE = binned_grid[216:414,:] * coeff_TE\n",
    "    EE = binned_grid[415:613,:] * coeff_EE\n",
    "\n",
    "    return vcat(TT, TE, EE)\n",
    "end\n",
    "\n",
    "function super_fast_computation(θ, CℓTT_emu, CℓTE_emu, CℓEE_emu, binned_grid_TT, binned_grid_TE, binned_grid_EE)\n",
    "    #coeff_TT = Capse.get_chebcoefs(θ, CℓTT_emu)\n",
    "    #coeff_TE = Capse.get_chebcoefs(θ, CℓTE_emu)\n",
    "    #coeff_EE = Capse.get_chebcoefs(θ, CℓEE_emu)\n",
    "    #TT = binned_grid_TT   * coeff_TT\n",
    "    #TE = binned_grid_TE * coeff_TE\n",
    "    #EE = binned_grid_TT * coeff_EE\n",
    "\n",
    "    return binned_grid_TT * Capse.get_chebcoefs(θ, CℓTT_emu) +\n",
    "                binned_grid_TE * Capse.get_chebcoefs(θ, CℓTE_emu) +\n",
    "                binned_grid_EE * Capse.get_chebcoefs(θ, CℓEE_emu)\n",
    "end \n",
    "\n",
    "binned_grid_TT_std = binned_grid_std[1:215,:]\n",
    "binned_grid_TE_std = binned_grid_std[216:414,:]\n",
    "\n",
    "binned_grid_TT = zeros(613,48)\n",
    "binned_grid_TE = zeros(613,48)\n",
    "binned_grid_EE = zeros(613,48)\n",
    "\n",
    "binned_grid_TT[1:215,:]   = binned_grid_std[1:215,:]\n",
    "binned_grid_TE[216:414,:] = binned_grid_std[216:414,:]\n",
    "binned_grid_EE[415:613,:] = binned_grid_std[415:613,:]\n",
    "\n",
    "binned_grid_TT = iΓ * binned_grid_TT\n",
    "binned_grid_TE = iΓ * binned_grid_TE\n",
    "binned_grid_EE = iΓ * binned_grid_EE\n",
    "\n",
    "\n",
    "theory_fast_std(θ) = fast_computation(θ, CℓTT_emu, CℓTE_emu, CℓEE_emu, binned_grid_std)\n",
    "theory_fast(θ) = super_fast_computation(θ, CℓTT_emu, CℓTE_emu, CℓEE_emu, binned_grid_TT, binned_grid_TE, binned_grid_EE)"
   ]
  },
  {
   "cell_type": "code",
   "execution_count": 18,
   "id": "42899597",
   "metadata": {},
   "outputs": [
    {
     "data": {
      "text/plain": [
       "613-element Vector{Float64}:\n",
       " -1.6653345369377348e-15\n",
       "  6.661338147750939e-16\n",
       " -6.661338147750939e-16\n",
       "  1.9984014443252818e-15\n",
       " -1.5543122344752192e-15\n",
       " -6.661338147750939e-16\n",
       "  2.4424906541753444e-15\n",
       " -6.661338147750939e-16\n",
       " -6.661338147750939e-16\n",
       "  0.0\n",
       " -1.5543122344752192e-15\n",
       " -2.220446049250313e-15\n",
       "  2.220446049250313e-16\n",
       "  ⋮\n",
       " -3.7730235602495554e-17\n",
       "  1.1102230246251565e-16\n",
       " -1.8735013540549517e-16\n",
       "  8.326672684688674e-17\n",
       " -1.1102230246251565e-16\n",
       " -9.71445146547012e-17\n",
       "  7.28583859910259e-17\n",
       " -2.7755575615628914e-17\n",
       " -1.1796119636642288e-16\n",
       " -8.326672684688674e-17\n",
       "  6.938893903907228e-18\n",
       "  1.1102230246251565e-16"
      ]
     },
     "execution_count": 18,
     "metadata": {},
     "output_type": "execute_result"
    }
   ],
   "source": [
    "iΓ * theory_fast_std(ones(6)) .- theory_fast(ones(6))"
   ]
  },
  {
   "cell_type": "code",
   "execution_count": 19,
   "id": "01fa7581",
   "metadata": {},
   "outputs": [
    {
     "data": {
      "text/plain": [
       "BenchmarkTools.Trial: 10000 samples with 1 evaluation.\n",
       " Range \u001b[90m(\u001b[39m\u001b[36m\u001b[1mmin\u001b[22m\u001b[39m … \u001b[35mmax\u001b[39m\u001b[90m):  \u001b[39m\u001b[36m\u001b[1m23.858 μs\u001b[22m\u001b[39m … \u001b[35m 5.837 ms\u001b[39m  \u001b[90m┊\u001b[39m GC \u001b[90m(\u001b[39mmin … max\u001b[90m): \u001b[39m0.00% … 84.04%\n",
       " Time  \u001b[90m(\u001b[39m\u001b[34m\u001b[1mmedian\u001b[22m\u001b[39m\u001b[90m):     \u001b[39m\u001b[34m\u001b[1m32.002 μs              \u001b[22m\u001b[39m\u001b[90m┊\u001b[39m GC \u001b[90m(\u001b[39mmedian\u001b[90m):    \u001b[39m0.00%\n",
       " Time  \u001b[90m(\u001b[39m\u001b[32m\u001b[1mmean\u001b[22m\u001b[39m ± \u001b[32mσ\u001b[39m\u001b[90m):   \u001b[39m\u001b[32m\u001b[1m32.891 μs\u001b[22m\u001b[39m ± \u001b[32m81.632 μs\u001b[39m  \u001b[90m┊\u001b[39m GC \u001b[90m(\u001b[39mmean ± σ\u001b[90m):  \u001b[39m2.91% ±  1.18%\n",
       "\n",
       "  \u001b[39m \u001b[39m \u001b[39m \u001b[39m \u001b[39m▂\u001b[39m▅\u001b[39m█\u001b[39m█\u001b[39m▇\u001b[39m▅\u001b[39m▃\u001b[39m▂\u001b[39m \u001b[39m \u001b[39m \u001b[39m \u001b[39m \u001b[39m \u001b[39m \u001b[39m \u001b[39m \u001b[39m \u001b[39m \u001b[39m \u001b[34m \u001b[39m\u001b[39m▁\u001b[32m▁\u001b[39m\u001b[39m▄\u001b[39m▅\u001b[39m▅\u001b[39m▃\u001b[39m▂\u001b[39m▁\u001b[39m \u001b[39m \u001b[39m \u001b[39m \u001b[39m \u001b[39m \u001b[39m \u001b[39m \u001b[39m \u001b[39m \u001b[39m \u001b[39m \u001b[39m \u001b[39m \u001b[39m \u001b[39m \u001b[39m \u001b[39m \u001b[39m \u001b[39m \u001b[39m \u001b[39m \u001b[39m \u001b[39m \u001b[39m \u001b[39m \u001b[39m \u001b[39m \n",
       "  \u001b[39m▁\u001b[39m▁\u001b[39m▂\u001b[39m▆\u001b[39m█\u001b[39m█\u001b[39m█\u001b[39m█\u001b[39m█\u001b[39m█\u001b[39m█\u001b[39m█\u001b[39m█\u001b[39m▇\u001b[39m▆\u001b[39m▅\u001b[39m▅\u001b[39m▄\u001b[39m▄\u001b[39m▄\u001b[39m▃\u001b[39m▃\u001b[39m▄\u001b[39m▆\u001b[34m▇\u001b[39m\u001b[39m█\u001b[32m█\u001b[39m\u001b[39m█\u001b[39m█\u001b[39m█\u001b[39m█\u001b[39m█\u001b[39m█\u001b[39m█\u001b[39m▆\u001b[39m▅\u001b[39m▄\u001b[39m▄\u001b[39m▄\u001b[39m▄\u001b[39m▃\u001b[39m▄\u001b[39m▄\u001b[39m▄\u001b[39m▃\u001b[39m▃\u001b[39m▄\u001b[39m▄\u001b[39m▃\u001b[39m▃\u001b[39m▂\u001b[39m▂\u001b[39m▂\u001b[39m▂\u001b[39m▂\u001b[39m▂\u001b[39m▁\u001b[39m▁\u001b[39m▁\u001b[39m \u001b[39m▄\n",
       "  23.9 μs\u001b[90m         Histogram: frequency by time\u001b[39m        44.2 μs \u001b[0m\u001b[1m<\u001b[22m\n",
       "\n",
       " Memory estimate\u001b[90m: \u001b[39m\u001b[33m25.20 KiB\u001b[39m, allocs estimate\u001b[90m: \u001b[39m\u001b[33m32\u001b[39m."
      ]
     },
     "execution_count": 19,
     "metadata": {},
     "output_type": "execute_result"
    }
   ],
   "source": [
    "@benchmark theory_fast(ones(6))"
   ]
  },
  {
   "cell_type": "code",
   "execution_count": 20,
   "id": "16203ab4",
   "metadata": {},
   "outputs": [
    {
     "data": {
      "text/plain": [
       "DynamicPPL.Model{typeof(CMB_planck_ultra_fast), (:D,), (), (), Tuple{Vector{Float64}}, Tuple{}, DynamicPPL.DefaultContext}(CMB_planck_ultra_fast, (D = [9.643012835639828, 10.803277764202981, 12.837021443612652, 12.159764105419248, 11.744821016084751, 13.713281787419634, 13.957299336082897, 15.005683408044218, 15.585981279991291, 13.764821092399968  …  -0.4208097528485547, 0.9948910443777017, 3.0065727299752423, 0.38248077476446013, -1.567094536865492, 1.6989024589667159, 1.0732606672031262, -1.6425448532692997, 2.311295810549454, 0.6863715328875395],), NamedTuple(), DynamicPPL.DefaultContext())"
      ]
     },
     "execution_count": 20,
     "metadata": {},
     "output_type": "execute_result"
    }
   ],
   "source": [
    "@model function CMB_planck_ultra_fast(D)\n",
    "    #prior on model parameters\n",
    "    ln10As ~ Uniform(0.25, 0.35)\n",
    "    ns     ~ Uniform(0.88, 1.06)\n",
    "    h0     ~ Uniform(0.60, 0.80)\n",
    "    ωb     ~ Uniform(0.1985, 0.25)\n",
    "    ωc     ~ Uniform(0.08, 0.20)\n",
    "    τ      ~ Normal(0.0506, 0.0086)\n",
    "    yₚ     ~ Normal(1.0, 0.0025)\n",
    "\n",
    "    θ = [10*ln10As, ns, 100*h0, ωb/10, ωc, τ]\n",
    "    #compute theoretical prediction\n",
    "    pred = theory_fast(θ) ./(yₚ^2)\n",
    "    #compute likelihood\n",
    "    D ~ MvNormal(pred, I)\n",
    "\n",
    "    return nothing\n",
    "end\n",
    "\n",
    "CMB_model_planck_ultra_fast = CMB_planck_ultra_fast(D)"
   ]
  },
  {
   "cell_type": "code",
   "execution_count": 27,
   "id": "b167fd64",
   "metadata": {},
   "outputs": [
    {
     "data": {
      "text/plain": [
       "ModeResult with maximized lp of -836.24\n",
       "[0.305187288403472, 0.9634362838080824, 0.6713595762487374, 0.22341839776457806, 0.12063380739590773, 0.05713245520556747, 1.0005309971887268]"
      ]
     },
     "execution_count": 27,
     "metadata": {},
     "output_type": "execute_result"
    }
   ],
   "source": [
    "bestfit_Planck = optimize(CMB_model_planck_ultra_fast, MAP(), Optim.Options(iterations=100000, allow_f_increases=true))"
   ]
  },
  {
   "cell_type": "code",
   "execution_count": 28,
   "id": "6f59746e",
   "metadata": {},
   "outputs": [
    {
     "data": {
      "text/plain": [
       "BenchmarkTools.Trial: 81 samples with 1 evaluation.\n",
       " Range \u001b[90m(\u001b[39m\u001b[36m\u001b[1mmin\u001b[22m\u001b[39m … \u001b[35mmax\u001b[39m\u001b[90m):  \u001b[39m\u001b[36m\u001b[1m34.039 ms\u001b[22m\u001b[39m … \u001b[35m153.964 ms\u001b[39m  \u001b[90m┊\u001b[39m GC \u001b[90m(\u001b[39mmin … max\u001b[90m): \u001b[39m0.00% … 5.17%\n",
       " Time  \u001b[90m(\u001b[39m\u001b[34m\u001b[1mmedian\u001b[22m\u001b[39m\u001b[90m):     \u001b[39m\u001b[34m\u001b[1m53.444 ms               \u001b[22m\u001b[39m\u001b[90m┊\u001b[39m GC \u001b[90m(\u001b[39mmedian\u001b[90m):    \u001b[39m0.00%\n",
       " Time  \u001b[90m(\u001b[39m\u001b[32m\u001b[1mmean\u001b[22m\u001b[39m ± \u001b[32mσ\u001b[39m\u001b[90m):   \u001b[39m\u001b[32m\u001b[1m63.049 ms\u001b[22m\u001b[39m ± \u001b[32m 25.805 ms\u001b[39m  \u001b[90m┊\u001b[39m GC \u001b[90m(\u001b[39mmean ± σ\u001b[90m):  \u001b[39m5.18% ± 6.07%\n",
       "\n",
       "  \u001b[39m▁\u001b[39m▁\u001b[39m \u001b[39m▁\u001b[39m▆\u001b[39m█\u001b[39m▃\u001b[39m \u001b[39m▃\u001b[39m▃\u001b[39m▃\u001b[34m \u001b[39m\u001b[39m▁\u001b[39m \u001b[39m \u001b[39m \u001b[39m \u001b[32m \u001b[39m\u001b[39m▁\u001b[39m \u001b[39m▁\u001b[39m \u001b[39m▁\u001b[39m \u001b[39m \u001b[39m \u001b[39m \u001b[39m \u001b[39m \u001b[39m \u001b[39m \u001b[39m \u001b[39m \u001b[39m \u001b[39m \u001b[39m \u001b[39m \u001b[39m \u001b[39m \u001b[39m \u001b[39m \u001b[39m \u001b[39m \u001b[39m \u001b[39m \u001b[39m \u001b[39m \u001b[39m \u001b[39m \u001b[39m \u001b[39m \u001b[39m \u001b[39m \u001b[39m \u001b[39m \u001b[39m \u001b[39m \u001b[39m \u001b[39m \u001b[39m \u001b[39m \u001b[39m \n",
       "  \u001b[39m█\u001b[39m█\u001b[39m▇\u001b[39m█\u001b[39m█\u001b[39m█\u001b[39m█\u001b[39m▇\u001b[39m█\u001b[39m█\u001b[39m█\u001b[34m▇\u001b[39m\u001b[39m█\u001b[39m▄\u001b[39m▇\u001b[39m▄\u001b[39m▄\u001b[32m▄\u001b[39m\u001b[39m█\u001b[39m▇\u001b[39m█\u001b[39m▇\u001b[39m█\u001b[39m▁\u001b[39m▁\u001b[39m▁\u001b[39m▄\u001b[39m▁\u001b[39m▄\u001b[39m▄\u001b[39m▁\u001b[39m▄\u001b[39m▁\u001b[39m▁\u001b[39m▄\u001b[39m▄\u001b[39m▇\u001b[39m▄\u001b[39m▇\u001b[39m▁\u001b[39m▄\u001b[39m▁\u001b[39m▁\u001b[39m▁\u001b[39m▄\u001b[39m▁\u001b[39m▁\u001b[39m▁\u001b[39m▁\u001b[39m▄\u001b[39m▁\u001b[39m▁\u001b[39m▁\u001b[39m▁\u001b[39m▄\u001b[39m▁\u001b[39m▁\u001b[39m▁\u001b[39m▁\u001b[39m▄\u001b[39m \u001b[39m▁\n",
       "  34 ms\u001b[90m           Histogram: frequency by time\u001b[39m          139 ms \u001b[0m\u001b[1m<\u001b[22m\n",
       "\n",
       " Memory estimate\u001b[90m: \u001b[39m\u001b[33m23.46 MiB\u001b[39m, allocs estimate\u001b[90m: \u001b[39m\u001b[33m11861\u001b[39m."
      ]
     },
     "execution_count": 28,
     "metadata": {},
     "output_type": "execute_result"
    }
   ],
   "source": [
    "@benchmark optimize(CMB_model_planck_ultra_fast, MAP(), Optim.Options(iterations=100000, allow_f_increases=true))"
   ]
  },
  {
   "cell_type": "code",
   "execution_count": 21,
   "id": "606c0b77",
   "metadata": {},
   "outputs": [
    {
     "name": "stderr",
     "output_type": "stream",
     "text": [
      "\u001b[33m\u001b[1m┌ \u001b[22m\u001b[39m\u001b[33m\u001b[1mWarning: \u001b[22m\u001b[39m3 (0.9%) updates to the inverse Hessian estimate were rejected to keep it positive definite.\n",
      "\u001b[33m\u001b[1m└ \u001b[22m\u001b[39m\u001b[90m@ Pathfinder ~/.julia/packages/Pathfinder/1B4yO/src/singlepath.jl:212\u001b[39m\n",
      "\u001b[33m\u001b[1m┌ \u001b[22m\u001b[39m\u001b[33m\u001b[1mWarning: \u001b[22m\u001b[39m1 (0.3%) updates to the inverse Hessian estimate were rejected to keep it positive definite.\n",
      "\u001b[33m\u001b[1m└ \u001b[22m\u001b[39m\u001b[90m@ Pathfinder ~/.julia/packages/Pathfinder/1B4yO/src/singlepath.jl:212\u001b[39m\n",
      "\u001b[33m\u001b[1m┌ \u001b[22m\u001b[39m\u001b[33m\u001b[1mWarning: \u001b[22m\u001b[39m1 (0.3%) updates to the inverse Hessian estimate were rejected to keep it positive definite.\n",
      "\u001b[33m\u001b[1m└ \u001b[22m\u001b[39m\u001b[90m@ Pathfinder ~/.julia/packages/Pathfinder/1B4yO/src/singlepath.jl:212\u001b[39m\n",
      "\u001b[33m\u001b[1m┌ \u001b[22m\u001b[39m\u001b[33m\u001b[1mWarning: \u001b[22m\u001b[39m2 (0.8%) updates to the inverse Hessian estimate were rejected to keep it positive definite.\n",
      "\u001b[33m\u001b[1m└ \u001b[22m\u001b[39m\u001b[90m@ Pathfinder ~/.julia/packages/Pathfinder/1B4yO/src/singlepath.jl:212\u001b[39m\n",
      "\u001b[33m\u001b[1m┌ \u001b[22m\u001b[39m\u001b[33m\u001b[1mWarning: \u001b[22m\u001b[39m2 (0.8%) updates to the inverse Hessian estimate were rejected to keep it positive definite.\n",
      "\u001b[33m\u001b[1m└ \u001b[22m\u001b[39m\u001b[90m@ Pathfinder ~/.julia/packages/Pathfinder/1B4yO/src/singlepath.jl:212\u001b[39m\n",
      "\u001b[33m\u001b[1m┌ \u001b[22m\u001b[39m\u001b[33m\u001b[1mWarning: \u001b[22m\u001b[39m2 (0.8%) updates to the inverse Hessian estimate were rejected to keep it positive definite.\n",
      "\u001b[33m\u001b[1m└ \u001b[22m\u001b[39m\u001b[90m@ Pathfinder ~/.julia/packages/Pathfinder/1B4yO/src/singlepath.jl:212\u001b[39m\n",
      "\u001b[33m\u001b[1m┌ \u001b[22m\u001b[39m\u001b[33m\u001b[1mWarning: \u001b[22m\u001b[39m4 (1.6%) updates to the inverse Hessian estimate were rejected to keep it positive definite.\n",
      "\u001b[33m\u001b[1m└ \u001b[22m\u001b[39m\u001b[90m@ Pathfinder ~/.julia/packages/Pathfinder/1B4yO/src/singlepath.jl:212\u001b[39m\n",
      "\u001b[33m\u001b[1m┌ \u001b[22m\u001b[39m\u001b[33m\u001b[1mWarning: \u001b[22m\u001b[39m2 (0.6%) updates to the inverse Hessian estimate were rejected to keep it positive definite.\n",
      "\u001b[33m\u001b[1m└ \u001b[22m\u001b[39m\u001b[90m@ Pathfinder ~/.julia/packages/Pathfinder/1B4yO/src/singlepath.jl:212\u001b[39m\n",
      "\u001b[33m\u001b[1m┌ \u001b[22m\u001b[39m\u001b[33m\u001b[1mWarning: \u001b[22m\u001b[39m1 (0.4%) updates to the inverse Hessian estimate were rejected to keep it positive definite.\n",
      "\u001b[33m\u001b[1m└ \u001b[22m\u001b[39m\u001b[90m@ Pathfinder ~/.julia/packages/Pathfinder/1B4yO/src/singlepath.jl:212\u001b[39m\n",
      "\u001b[33m\u001b[1m┌ \u001b[22m\u001b[39m\u001b[33m\u001b[1mWarning: \u001b[22m\u001b[39m1 (0.3%) updates to the inverse Hessian estimate were rejected to keep it positive definite.\n",
      "\u001b[33m\u001b[1m└ \u001b[22m\u001b[39m\u001b[90m@ Pathfinder ~/.julia/packages/Pathfinder/1B4yO/src/singlepath.jl:212\u001b[39m\n"
     ]
    },
    {
     "name": "stdout",
     "output_type": "stream",
     "text": [
      "  2.251304 seconds (2.75 M allocations: 1.873 GiB, 6.08% gc time)\n"
     ]
    },
    {
     "data": {
      "text/plain": [
       "Multi-path Pathfinder result\n",
       "  runs: 6\n",
       "  draws: 5000\n",
       "  Pareto shape diagnostic: 0.68 (ok)"
      ]
     },
     "execution_count": 21,
     "metadata": {},
     "output_type": "execute_result"
    }
   ],
   "source": [
    "result_multi = multipathfinder(CMB_model_planck_ultra_fast, 5000; nruns=6, executor = Transducers.PreferParallel())\n",
    "@time result_multi = multipathfinder(CMB_model_planck_ultra_fast, 5000; nruns=6, executor = Transducers.PreferParallel())"
   ]
  },
  {
   "cell_type": "code",
   "execution_count": 22,
   "id": "a655650c",
   "metadata": {},
   "outputs": [
    {
     "data": {
      "text/plain": [
       "Chains MCMC chain (5000×7×1 Array{Float64, 3}):\n",
       "\n",
       "Iterations        = 1:1:5000\n",
       "Number of chains  = 1\n",
       "Samples per chain = 5000\n",
       "parameters        = ln10As, ns, h0, ωb, ωc, τ, yₚ\n",
       "\n",
       "Summary Statistics\n",
       " \u001b[1m parameters \u001b[0m \u001b[1m    mean \u001b[0m \u001b[1m     std \u001b[0m \u001b[1m naive_se \u001b[0m \u001b[1m    mcse \u001b[0m \u001b[1m       ess \u001b[0m \u001b[1m    rhat \u001b[0m\n",
       " \u001b[90m     Symbol \u001b[0m \u001b[90m Float64 \u001b[0m \u001b[90m Float64 \u001b[0m \u001b[90m  Float64 \u001b[0m \u001b[90m Float64 \u001b[0m \u001b[90m   Float64 \u001b[0m \u001b[90m Float64 \u001b[0m\n",
       "\n",
       "      ln10As    0.3051    0.0017     0.0000    0.0000   5054.3383    0.9999\n",
       "          ns    0.9633    0.0043     0.0001    0.0001   4874.5400    1.0000\n",
       "          h0    0.6714    0.0060     0.0001    0.0001   4851.8876    0.9999\n",
       "          ωb    0.2235    0.0015     0.0000    0.0000   4860.5026    1.0001\n",
       "          ωc    0.1206    0.0014     0.0000    0.0000   4901.2249    1.0000\n",
       "           τ    0.0566    0.0084     0.0001    0.0001   5152.8918    0.9998\n",
       "          yₚ    1.0005    0.0026     0.0000    0.0000   5097.8528    1.0013\n",
       "\n",
       "Quantiles\n",
       " \u001b[1m parameters \u001b[0m \u001b[1m    2.5% \u001b[0m \u001b[1m   25.0% \u001b[0m \u001b[1m   50.0% \u001b[0m \u001b[1m   75.0% \u001b[0m \u001b[1m   97.5% \u001b[0m\n",
       " \u001b[90m     Symbol \u001b[0m \u001b[90m Float64 \u001b[0m \u001b[90m Float64 \u001b[0m \u001b[90m Float64 \u001b[0m \u001b[90m Float64 \u001b[0m \u001b[90m Float64 \u001b[0m\n",
       "\n",
       "      ln10As    0.3018    0.3040    0.3050    0.3063    0.3085\n",
       "          ns    0.9560    0.9602    0.9635    0.9664    0.9717\n",
       "          h0    0.6604    0.6670    0.6713    0.6755    0.6834\n",
       "          ωb    0.2209    0.2224    0.2234    0.2244    0.2264\n",
       "          ωc    0.1180    0.1197    0.1206    0.1216    0.1232\n",
       "           τ    0.0410    0.0510    0.0566    0.0623    0.0731\n",
       "          yₚ    0.9947    0.9990    1.0006    1.0022    1.0057\n"
      ]
     },
     "execution_count": 22,
     "metadata": {},
     "output_type": "execute_result"
    }
   ],
   "source": [
    "result_multi.draws_transformed"
   ]
  },
  {
   "cell_type": "code",
   "execution_count": 23,
   "id": "09ad0dd0",
   "metadata": {},
   "outputs": [],
   "source": [
    "nsteps = 5000\n",
    "nadapts = 500\n",
    "nchains = 6\n",
    "\n",
    "init_params = collect.(eachrow(result_multi.draws_transformed.value[1:nchains, :, 1]));"
   ]
  },
  {
   "cell_type": "code",
   "execution_count": 24,
   "id": "feb81894",
   "metadata": {},
   "outputs": [
    {
     "name": "stderr",
     "output_type": "stream",
     "text": [
      "\u001b[36m\u001b[1m┌ \u001b[22m\u001b[39m\u001b[36m\u001b[1mInfo: \u001b[22m\u001b[39mFound initial step size\n",
      "\u001b[36m\u001b[1m└ \u001b[22m\u001b[39m  ϵ = 0.000732421875\n",
      "\u001b[36m\u001b[1m┌ \u001b[22m\u001b[39m\u001b[36m\u001b[1mInfo: \u001b[22m\u001b[39mFound initial step size\n",
      "\u001b[36m\u001b[1m└ \u001b[22m\u001b[39m  ϵ = 0.00078125\n",
      "\u001b[36m\u001b[1m┌ \u001b[22m\u001b[39m\u001b[36m\u001b[1mInfo: \u001b[22m\u001b[39mFound initial step size\n",
      "\u001b[36m\u001b[1m└ \u001b[22m\u001b[39m  ϵ = 0.000390625\n",
      "\u001b[36m\u001b[1m┌ \u001b[22m\u001b[39m\u001b[36m\u001b[1mInfo: \u001b[22m\u001b[39mFound initial step size\n",
      "\u001b[36m\u001b[1m└ \u001b[22m\u001b[39m  ϵ = 0.00078125\n",
      "\u001b[36m\u001b[1m┌ \u001b[22m\u001b[39m\u001b[36m\u001b[1mInfo: \u001b[22m\u001b[39mFound initial step size\n",
      "\u001b[36m\u001b[1m└ \u001b[22m\u001b[39m  ϵ = 0.000390625\n",
      "\u001b[36m\u001b[1m┌ \u001b[22m\u001b[39m\u001b[36m\u001b[1mInfo: \u001b[22m\u001b[39mFound initial step size\n",
      "\u001b[36m\u001b[1m└ \u001b[22m\u001b[39m  ϵ = 0.000390625\n",
      "\u001b[32mSampling (6 threads): 100%|█████████████████████████████| Time: 0:01:56\u001b[39m\n"
     ]
    },
    {
     "data": {
      "text/plain": [
       "Chains MCMC chain (5000×19×6 Array{Float64, 3}):\n",
       "\n",
       "Iterations        = 501:1:5500\n",
       "Number of chains  = 6\n",
       "Samples per chain = 5000\n",
       "Wall duration     = 233.86 seconds\n",
       "Compute duration  = 1031.24 seconds\n",
       "parameters        = ln10As, ns, h0, ωb, ωc, τ, yₚ\n",
       "internals         = lp, n_steps, is_accept, acceptance_rate, log_density, hamiltonian_energy, hamiltonian_energy_error, max_hamiltonian_energy_error, tree_depth, numerical_error, step_size, nom_step_size\n",
       "\n",
       "Summary Statistics\n",
       " \u001b[1m parameters \u001b[0m \u001b[1m    mean \u001b[0m \u001b[1m     std \u001b[0m \u001b[1m naive_se \u001b[0m \u001b[1m    mcse \u001b[0m \u001b[1m        ess \u001b[0m \u001b[1m    rhat \u001b[0m \u001b[1m\u001b[0m ⋯\n",
       " \u001b[90m     Symbol \u001b[0m \u001b[90m Float64 \u001b[0m \u001b[90m Float64 \u001b[0m \u001b[90m  Float64 \u001b[0m \u001b[90m Float64 \u001b[0m \u001b[90m    Float64 \u001b[0m \u001b[90m Float64 \u001b[0m \u001b[90m\u001b[0m ⋯\n",
       "\n",
       "      ln10As    0.3052    0.0017     0.0000    0.0000   11536.2204    1.0004   ⋯\n",
       "          ns    0.9635    0.0044     0.0000    0.0000    9843.4582    1.0003   ⋯\n",
       "          h0    0.6714    0.0060     0.0000    0.0001    7818.1383    1.0004   ⋯\n",
       "          ωb    0.2234    0.0014     0.0000    0.0000   10323.6100    1.0004   ⋯\n",
       "          ωc    0.1206    0.0014     0.0000    0.0000    8295.6172    1.0003   ⋯\n",
       "           τ    0.0571    0.0082     0.0000    0.0001   11088.4534    1.0005   ⋯\n",
       "          yₚ    1.0005    0.0025     0.0000    0.0000   39451.0639    0.9999   ⋯\n",
       "\u001b[36m                                                                1 column omitted\u001b[0m\n",
       "\n",
       "Quantiles\n",
       " \u001b[1m parameters \u001b[0m \u001b[1m    2.5% \u001b[0m \u001b[1m   25.0% \u001b[0m \u001b[1m   50.0% \u001b[0m \u001b[1m   75.0% \u001b[0m \u001b[1m   97.5% \u001b[0m\n",
       " \u001b[90m     Symbol \u001b[0m \u001b[90m Float64 \u001b[0m \u001b[90m Float64 \u001b[0m \u001b[90m Float64 \u001b[0m \u001b[90m Float64 \u001b[0m \u001b[90m Float64 \u001b[0m\n",
       "\n",
       "      ln10As    0.3019    0.3041    0.3052    0.3063    0.3085\n",
       "          ns    0.9549    0.9605    0.9635    0.9664    0.9720\n",
       "          h0    0.6598    0.6674    0.6714    0.6755    0.6830\n",
       "          ωb    0.2206    0.2224    0.2234    0.2244    0.2263\n",
       "          ωc    0.1180    0.1197    0.1206    0.1215    0.1233\n",
       "           τ    0.0411    0.0516    0.0571    0.0627    0.0732\n",
       "          yₚ    0.9957    0.9989    1.0005    1.0022    1.0054\n"
      ]
     },
     "execution_count": 24,
     "metadata": {},
     "output_type": "execute_result"
    }
   ],
   "source": [
    "chains_planck_std_NUTS = sample(CMB_model_planck_ultra_fast, NUTS(nadapts, 0.65), MCMCThreads(), 5000, nchains; init_params = init_params)"
   ]
  },
  {
   "cell_type": "code",
   "execution_count": 25,
   "id": "886b8e17",
   "metadata": {},
   "outputs": [
    {
     "data": {
      "text/plain": [
       "13.625230630885428"
      ]
     },
     "execution_count": 25,
     "metadata": {},
     "output_type": "execute_result"
    }
   ],
   "source": [
    "CPU_s_Planck_NUTS = compute_duration(chains_planck_std_NUTS)\n",
    "Planck_NUTS_ESS = mean(MCMCDiagnosticTools.ess_rhat(chains_planck_std_NUTS)[[:ln10As, :ns, :h0, :ωb,:ωc, :τ, :yₚ],:ess])\n",
    "Planck_NUTS_ESS_s = Planck_NUTS_ESS/CPU_s_Planck_NUTS"
   ]
  },
  {
   "attachments": {},
   "cell_type": "markdown",
   "id": "feb0984e",
   "metadata": {},
   "source": [
    "## MCHMC Stuff"
   ]
  },
  {
   "cell_type": "code",
   "execution_count": 29,
   "id": "0cf26200",
   "metadata": {},
   "outputs": [
    {
     "name": "stderr",
     "output_type": "stream",
     "text": [
      "\u001b[36m\u001b[1m[ \u001b[22m\u001b[39m\u001b[36m\u001b[1mInfo: \u001b[22m\u001b[39mTuning sigma ⏳\n",
      "\u001b[36m\u001b[1m[ \u001b[22m\u001b[39m\u001b[36m\u001b[1mInfo: \u001b[22m\u001b[39mTuning eps ⏳\n",
      "\u001b[32mMCHMC (tuning):  19%|██████▌                            |  ETA: 0:00:08\u001b[39m"
     ]
    },
    {
     "name": "stdout",
     "output_type": "stream",
     "text": [
      "Burn in step: 4000\n"
     ]
    },
    {
     "name": "stderr",
     "output_type": "stream",
     "text": [
      "\u001b[32mMCHMC (tuning):  20%|███████                            |  ETA: 0:00:08\u001b[39m"
     ]
    },
    {
     "name": "stdout",
     "output_type": "stream",
     "text": [
      "eps --->0.001071261550603264\n"
     ]
    },
    {
     "name": "stderr",
     "output_type": "stream",
     "text": [
      "\u001b[32mMCHMC (tuning):  39%|█████████████▊                     |  ETA: 0:00:05\u001b[39m"
     ]
    },
    {
     "name": "stdout",
     "output_type": "stream",
     "text": [
      "Burn in step: 8000\n",
      "eps --->0.09003837253635981\n"
     ]
    },
    {
     "name": "stderr",
     "output_type": "stream",
     "text": [
      "\u001b[32mMCHMC (tuning):  59%|████████████████████▊              |  ETA: 0:00:04\u001b[39m"
     ]
    },
    {
     "name": "stdout",
     "output_type": "stream",
     "text": [
      "Burn in step: 12000\n",
      "eps --->0.09950108084928186\n"
     ]
    },
    {
     "name": "stderr",
     "output_type": "stream",
     "text": [
      "\u001b[32mMCHMC (tuning):  79%|███████████████████████████▊       |  ETA: 0:00:02\u001b[39m"
     ]
    },
    {
     "name": "stdout",
     "output_type": "stream",
     "text": [
      "Burn in step: 16000\n",
      "eps --->0.08612716213341816\n"
     ]
    },
    {
     "name": "stderr",
     "output_type": "stream",
     "text": [
      "\u001b[A2mMCHMC (tuning): 100%|███████████████████████████████████| Time: 0:00:08\u001b[39m"
     ]
    },
    {
     "name": "stdout",
     "output_type": "stream",
     "text": [
      "Burn in step: 20000\n",
      "eps --->0.10749541188850717\n"
     ]
    },
    {
     "name": "stderr",
     "output_type": "stream",
     "text": [
      "\u001b[36m\u001b[1m[ \u001b[22m\u001b[39m\u001b[36m\u001b[1mInfo: \u001b[22m\u001b[39meps: 0.10749541188850717\n",
      "\u001b[36m\u001b[1m[ \u001b[22m\u001b[39m\u001b[36m\u001b[1mInfo: \u001b[22m\u001b[39mL: 2.6457513110645907\n",
      "\u001b[36m\u001b[1m[ \u001b[22m\u001b[39m\u001b[36m\u001b[1mInfo: \u001b[22m\u001b[39mnu: 0.10996861200892329\n",
      "\u001b[36m\u001b[1m[ \u001b[22m\u001b[39m\u001b[36m\u001b[1mInfo: \u001b[22m\u001b[39msigma: [0.07711308411879499, 0.20260245978857944, 0.21503762824055003, 0.12840579611625044, 0.08114520897726812, 0.009293887991398367, 0.0023192761480757096]\n",
      "\u001b[36m\u001b[1m[ \u001b[22m\u001b[39m\u001b[36m\u001b[1mInfo: \u001b[22m\u001b[39madaptive: true\n",
      "\u001b[A2mMCHMC: 100%|████████████████████████████████████████████| Time: 0:01:05\u001b[39m"
     ]
    },
    {
     "name": "stdout",
     "output_type": "stream",
     "text": [
      " 78.544728 seconds (71.28 M allocations: 73.659 GiB, 7.93% gc time, 4.41% compilation time: <1% of which was recompilation)\n"
     ]
    },
    {
     "data": {
      "text/plain": [
       "78.57601404190063"
      ]
     },
     "execution_count": 29,
     "metadata": {},
     "output_type": "execute_result"
    }
   ],
   "source": [
    "d = 7\n",
    "target = TuringTarget(CMB_model_planck_ultra_fast)\n",
    "nadapts = 20_000\n",
    "nsteps = 200000\n",
    "\n",
    "spl = MCHMC(nadapts, 0.001; init_eps=0.05, L=sqrt(d),# sigma=ones(d),  #try higher init_eps\n",
    "            adaptive=true)\n",
    "start_mchmc = time()\n",
    "@time planck_mchmc = Sample(spl, target, nsteps;\n",
    "                    progress=true,\n",
    "                    dialog=true, file_name=\"chain_1\",\n",
    "                    initial_x=bestfit_Planck.values.array)\n",
    "end_mchmc = time()\n",
    "end_mchmc - start_mchmc"
   ]
  },
  {
   "cell_type": "code",
   "execution_count": 31,
   "id": "66667ae4",
   "metadata": {},
   "outputs": [
    {
     "name": "stderr",
     "output_type": "stream",
     "text": [
      "\u001b[36m\u001b[1m[ \u001b[22m\u001b[39m\u001b[36m\u001b[1mInfo: \u001b[22m\u001b[39mTuning sigma ⏳\n",
      "\u001b[36m\u001b[1m[ \u001b[22m\u001b[39m\u001b[36m\u001b[1mInfo: \u001b[22m\u001b[39mTuning eps ⏳\n",
      "\u001b[32mMCHMC (tuning):  20%|██████▉                            |  ETA: 0:00:06\u001b[39m"
     ]
    },
    {
     "name": "stdout",
     "output_type": "stream",
     "text": [
      "Burn in step: 4000\n",
      "eps --->0.0008712916688737017\n"
     ]
    },
    {
     "name": "stderr",
     "output_type": "stream",
     "text": [
      "\u001b[32mMCHMC (tuning):  40%|██████████████                     |  ETA: 0:00:04\u001b[39m"
     ]
    },
    {
     "name": "stdout",
     "output_type": "stream",
     "text": [
      "Burn in step: 8000\n",
      "eps --->0.014923325257076434\n"
     ]
    },
    {
     "name": "stderr",
     "output_type": "stream",
     "text": [
      "\u001b[32mMCHMC (tuning):  59%|████████████████████▊              |  ETA: 0:00:03\u001b[39m"
     ]
    },
    {
     "name": "stdout",
     "output_type": "stream",
     "text": [
      "Burn in step: 12000\n",
      "eps --->0.017751291101307364\n"
     ]
    },
    {
     "name": "stderr",
     "output_type": "stream",
     "text": [
      "\u001b[32mMCHMC (tuning):  79%|███████████████████████████▋       |  ETA: 0:00:02\u001b[39m"
     ]
    },
    {
     "name": "stdout",
     "output_type": "stream",
     "text": [
      "Burn in step: 16000\n",
      "eps --->0.02291769305407718\n"
     ]
    },
    {
     "name": "stderr",
     "output_type": "stream",
     "text": [
      "\u001b[A2mMCHMC (tuning): 100%|███████████████████████████████████| Time: 0:00:07\u001b[39m"
     ]
    },
    {
     "name": "stdout",
     "output_type": "stream",
     "text": [
      "Burn in step: 20000\n",
      "eps --->0.013700462742265019\n"
     ]
    },
    {
     "name": "stderr",
     "output_type": "stream",
     "text": [
      "\u001b[36m\u001b[1m[ \u001b[22m\u001b[39m\u001b[36m\u001b[1mInfo: \u001b[22m\u001b[39meps: 0.013700462742265019\n",
      "\u001b[36m\u001b[1m[ \u001b[22m\u001b[39m\u001b[36m\u001b[1mInfo: \u001b[22m\u001b[39mL: 2.6457513110645907\n",
      "\u001b[36m\u001b[1m[ \u001b[22m\u001b[39m\u001b[36m\u001b[1mInfo: \u001b[22m\u001b[39mnu: 0.03856421604989937\n",
      "\u001b[36m\u001b[1m[ \u001b[22m\u001b[39m\u001b[36m\u001b[1mInfo: \u001b[22m\u001b[39msigma: [0.5379006559205911, 0.6154570877709639, 0.7515065999224838, 0.4564835692695301, 0.28386569311500365, 0.020019522921321836, 0.026068370100390946]\n",
      "\u001b[36m\u001b[1m[ \u001b[22m\u001b[39m\u001b[36m\u001b[1mInfo: \u001b[22m\u001b[39madaptive: true\n",
      "\u001b[A2mMCHMC: 100%|████████████████████████████████████████████| Time: 0:01:03\u001b[39m\u001b[36m\u001b[1m[ \u001b[22m\u001b[39m\u001b[36m\u001b[1mInfo: \u001b[22m\u001b[39mTuning sigma ⏳\n",
      "\u001b[36m\u001b[1m[ \u001b[22m\u001b[39m\u001b[36m\u001b[1mInfo: \u001b[22m\u001b[39mTuning eps ⏳\n",
      "\u001b[32mMCHMC (tuning):  19%|██████▌                            |  ETA: 0:00:05\u001b[39m"
     ]
    },
    {
     "name": "stdout",
     "output_type": "stream",
     "text": [
      "Burn in step: 4000\n",
      "eps --->0.0017088986204636804\n"
     ]
    },
    {
     "name": "stderr",
     "output_type": "stream",
     "text": [
      "\u001b[32mMCHMC (tuning):  39%|█████████████▋                     |  ETA: 0:00:04\u001b[39m"
     ]
    },
    {
     "name": "stdout",
     "output_type": "stream",
     "text": [
      "Burn in step: 8000\n",
      "eps --->0.005931500676072603\n"
     ]
    },
    {
     "name": "stderr",
     "output_type": "stream",
     "text": [
      "\u001b[32mMCHMC (tuning):  59%|████████████████████▋              |  ETA: 0:00:03\u001b[39m"
     ]
    },
    {
     "name": "stdout",
     "output_type": "stream",
     "text": [
      "Burn in step: 12000\n",
      "eps --->0.008997865368823688\n"
     ]
    },
    {
     "name": "stderr",
     "output_type": "stream",
     "text": [
      "\u001b[32mMCHMC (tuning):  79%|███████████████████████████▊       |  ETA: 0:00:02\u001b[39m"
     ]
    },
    {
     "name": "stdout",
     "output_type": "stream",
     "text": [
      "Burn in step: 16000\n",
      "eps --->0.00891709657347562\n"
     ]
    },
    {
     "name": "stderr",
     "output_type": "stream",
     "text": [
      "\u001b[A2mMCHMC (tuning): 100%|███████████████████████████████████| Time: 0:00:07\u001b[39m"
     ]
    },
    {
     "name": "stdout",
     "output_type": "stream",
     "text": [
      "Burn in step: 20000\n",
      "eps --->0.009690149908083463\n"
     ]
    },
    {
     "name": "stderr",
     "output_type": "stream",
     "text": [
      "\u001b[36m\u001b[1m[ \u001b[22m\u001b[39m\u001b[36m\u001b[1mInfo: \u001b[22m\u001b[39meps: 0.009690149908083463\n",
      "\u001b[36m\u001b[1m[ \u001b[22m\u001b[39m\u001b[36m\u001b[1mInfo: \u001b[22m\u001b[39mL: 2.6457513110645907\n",
      "\u001b[36m\u001b[1m[ \u001b[22m\u001b[39m\u001b[36m\u001b[1mInfo: \u001b[22m\u001b[39mnu: 0.032408020877642114\n",
      "\u001b[36m\u001b[1m[ \u001b[22m\u001b[39m\u001b[36m\u001b[1mInfo: \u001b[22m\u001b[39msigma: [1.1269817274221217, 0.30930376800083703, 0.47086813163425284, 1.0692721142423747, 0.1493989735698836, 0.04821889029455214, 0.016151785614939216]\n",
      "\u001b[36m\u001b[1m[ \u001b[22m\u001b[39m\u001b[36m\u001b[1mInfo: \u001b[22m\u001b[39madaptive: true\n",
      "\u001b[A2mMCHMC: 100%|████████████████████████████████████████████| Time: 0:01:06\u001b[39m\u001b[36m\u001b[1m[ \u001b[22m\u001b[39m\u001b[36m\u001b[1mInfo: \u001b[22m\u001b[39mTuning sigma ⏳\n",
      "\u001b[36m\u001b[1m[ \u001b[22m\u001b[39m\u001b[36m\u001b[1mInfo: \u001b[22m\u001b[39mTuning eps ⏳\n",
      "\u001b[32mMCHMC (tuning):  20%|███████                            |  ETA: 0:00:06\u001b[39m"
     ]
    },
    {
     "name": "stdout",
     "output_type": "stream",
     "text": [
      "Burn in step: 4000\n",
      "eps --->0.001180472742811993\n"
     ]
    },
    {
     "name": "stderr",
     "output_type": "stream",
     "text": [
      "\u001b[32mMCHMC (tuning):  39%|█████████████▋                     |  ETA: 0:00:05\u001b[39m"
     ]
    },
    {
     "name": "stdout",
     "output_type": "stream",
     "text": [
      "Burn in step: 8000\n",
      "eps --->0.013504408206032674\n"
     ]
    },
    {
     "name": "stderr",
     "output_type": "stream",
     "text": [
      "\u001b[32mMCHMC (tuning):  60%|████████████████████▉              |  ETA: 0:00:03\u001b[39m"
     ]
    },
    {
     "name": "stdout",
     "output_type": "stream",
     "text": [
      "Burn in step: 12000\n",
      "eps --->0.01565893143720719\n"
     ]
    },
    {
     "name": "stderr",
     "output_type": "stream",
     "text": [
      "\u001b[32mMCHMC (tuning):  79%|███████████████████████████▋       |  ETA: 0:00:02\u001b[39m"
     ]
    },
    {
     "name": "stdout",
     "output_type": "stream",
     "text": [
      "Burn in step: 16000\n",
      "eps --->0.019892067530506232\n"
     ]
    },
    {
     "name": "stderr",
     "output_type": "stream",
     "text": [
      "\u001b[A2mMCHMC (tuning): 100%|███████████████████████████████████| Time: 0:00:08\u001b[39m"
     ]
    },
    {
     "name": "stdout",
     "output_type": "stream",
     "text": [
      "Burn in step: 20000\n",
      "eps --->0.023097628796563272\n"
     ]
    },
    {
     "name": "stderr",
     "output_type": "stream",
     "text": [
      "\u001b[36m\u001b[1m[ \u001b[22m\u001b[39m\u001b[36m\u001b[1mInfo: \u001b[22m\u001b[39meps: 0.023097628796563272\n",
      "\u001b[36m\u001b[1m[ \u001b[22m\u001b[39m\u001b[36m\u001b[1mInfo: \u001b[22m\u001b[39mL: 2.6457513110645907\n",
      "\u001b[36m\u001b[1m[ \u001b[22m\u001b[39m\u001b[36m\u001b[1mInfo: \u001b[22m\u001b[39mnu: 0.05016186075795197\n",
      "\u001b[36m\u001b[1m[ \u001b[22m\u001b[39m\u001b[36m\u001b[1mInfo: \u001b[22m\u001b[39msigma: [0.38696770569233513, 0.1863104762568004, 0.4189243323402523, 0.1516399053779516, 0.16729112577611902, 0.016652575999558803, 0.02218479093275954]\n",
      "\u001b[36m\u001b[1m[ \u001b[22m\u001b[39m\u001b[36m\u001b[1mInfo: \u001b[22m\u001b[39madaptive: true\n",
      "\u001b[A2mMCHMC: 100%|████████████████████████████████████████████| Time: 0:01:06\u001b[39m\u001b[36m\u001b[1m[ \u001b[22m\u001b[39m\u001b[36m\u001b[1mInfo: \u001b[22m\u001b[39mTuning sigma ⏳\n",
      "\u001b[36m\u001b[1m[ \u001b[22m\u001b[39m\u001b[36m\u001b[1mInfo: \u001b[22m\u001b[39mTuning eps ⏳\n",
      "\u001b[32mMCHMC (tuning):  20%|███████                            |  ETA: 0:00:05\u001b[39m"
     ]
    },
    {
     "name": "stdout",
     "output_type": "stream",
     "text": [
      "Burn in step: 4000\n",
      "eps --->0.000818679703252221\n"
     ]
    },
    {
     "name": "stderr",
     "output_type": "stream",
     "text": [
      "\u001b[32mMCHMC (tuning):  40%|██████████████                     |  ETA: 0:00:04\u001b[39m"
     ]
    },
    {
     "name": "stdout",
     "output_type": "stream",
     "text": [
      "Burn in step: 8000\n",
      "eps --->0.0064710630155018715\n"
     ]
    },
    {
     "name": "stderr",
     "output_type": "stream",
     "text": [
      "\u001b[32mMCHMC (tuning):  59%|████████████████████▊              |  ETA: 0:00:03\u001b[39m"
     ]
    },
    {
     "name": "stdout",
     "output_type": "stream",
     "text": [
      "Burn in step: 12000\n",
      "eps --->0.008661245618626266\n"
     ]
    },
    {
     "name": "stderr",
     "output_type": "stream",
     "text": [
      "\u001b[32mMCHMC (tuning):  79%|███████████████████████████▊       |  ETA: 0:00:02\u001b[39m"
     ]
    },
    {
     "name": "stdout",
     "output_type": "stream",
     "text": [
      "Burn in step: 16000\n",
      "eps --->0.013079331135260034\n"
     ]
    },
    {
     "name": "stderr",
     "output_type": "stream",
     "text": [
      "\u001b[A2mMCHMC (tuning): 100%|███████████████████████████████████| Time: 0:00:08\u001b[39m"
     ]
    },
    {
     "name": "stdout",
     "output_type": "stream",
     "text": [
      "Burn in step: 20000\n",
      "eps --->0.017687775130696862\n"
     ]
    },
    {
     "name": "stderr",
     "output_type": "stream",
     "text": [
      "\u001b[36m\u001b[1m[ \u001b[22m\u001b[39m\u001b[36m\u001b[1mInfo: \u001b[22m\u001b[39meps: 0.017687775130696862\n",
      "\u001b[36m\u001b[1m[ \u001b[22m\u001b[39m\u001b[36m\u001b[1mInfo: \u001b[22m\u001b[39mL: 2.6457513110645907\n",
      "\u001b[36m\u001b[1m[ \u001b[22m\u001b[39m\u001b[36m\u001b[1mInfo: \u001b[22m\u001b[39mnu: 0.043851191163672226\n",
      "\u001b[36m\u001b[1m[ \u001b[22m\u001b[39m\u001b[36m\u001b[1mInfo: \u001b[22m\u001b[39msigma: [0.9294305286306811, 0.26715243354898266, 0.34712646983740586, 0.37857623243829164, 0.1615264414550656, 0.023686401411764924, 0.039233862165349284]\n",
      "\u001b[36m\u001b[1m[ \u001b[22m\u001b[39m\u001b[36m\u001b[1mInfo: \u001b[22m\u001b[39madaptive: true\n",
      "\u001b[A2mMCHMC: 100%|████████████████████████████████████████████| Time: 0:01:05\u001b[39m\u001b[36m\u001b[1m[ \u001b[22m\u001b[39m\u001b[36m\u001b[1mInfo: \u001b[22m\u001b[39mTuning sigma ⏳\n",
      "\u001b[36m\u001b[1m[ \u001b[22m\u001b[39m\u001b[36m\u001b[1mInfo: \u001b[22m\u001b[39mTuning eps ⏳\n",
      "\u001b[32mMCHMC (tuning):  20%|██████▉                            |  ETA: 0:00:05\u001b[39m"
     ]
    },
    {
     "name": "stdout",
     "output_type": "stream",
     "text": [
      "Burn in step: 4000\n",
      "eps --->0.001121682589609043\n"
     ]
    },
    {
     "name": "stderr",
     "output_type": "stream",
     "text": [
      "\u001b[32mMCHMC (tuning):  39%|█████████████▊                     |  ETA: 0:00:04\u001b[39m"
     ]
    },
    {
     "name": "stdout",
     "output_type": "stream",
     "text": [
      "Burn in step: 8000\n",
      "eps --->0.013068466945803894\n"
     ]
    },
    {
     "name": "stderr",
     "output_type": "stream",
     "text": [
      "\u001b[32mMCHMC (tuning):  60%|█████████████████████              |  ETA: 0:00:03\u001b[39m"
     ]
    },
    {
     "name": "stdout",
     "output_type": "stream",
     "text": [
      "Burn in step: 12000\n",
      "eps --->0.015969583366740397\n"
     ]
    },
    {
     "name": "stderr",
     "output_type": "stream",
     "text": [
      "\u001b[32mMCHMC (tuning):  80%|████████████████████████████       |  ETA: 0:00:02\u001b[39m"
     ]
    },
    {
     "name": "stdout",
     "output_type": "stream",
     "text": [
      "Burn in step: 16000\n",
      "eps --->0.026451172160349794\n"
     ]
    },
    {
     "name": "stderr",
     "output_type": "stream",
     "text": [
      "\u001b[A2mMCHMC (tuning): 100%|███████████████████████████████████| Time: 0:00:08\u001b[39m"
     ]
    },
    {
     "name": "stdout",
     "output_type": "stream",
     "text": [
      "Burn in step: 20000\n",
      "eps --->0.025665414400416243\n"
     ]
    },
    {
     "name": "stderr",
     "output_type": "stream",
     "text": [
      "\u001b[36m\u001b[1m[ \u001b[22m\u001b[39m\u001b[36m\u001b[1mInfo: \u001b[22m\u001b[39meps: 0.025665414400416243\n",
      "\u001b[36m\u001b[1m[ \u001b[22m\u001b[39m\u001b[36m\u001b[1mInfo: \u001b[22m\u001b[39mL: 2.6457513110645907\n",
      "\u001b[36m\u001b[1m[ \u001b[22m\u001b[39m\u001b[36m\u001b[1mInfo: \u001b[22m\u001b[39mnu: 0.052902412270285186\n",
      "\u001b[36m\u001b[1m[ \u001b[22m\u001b[39m\u001b[36m\u001b[1mInfo: \u001b[22m\u001b[39msigma: [0.42895983547440664, 0.2936403097263702, 0.6733522807576505, 0.5567256236322892, 0.14812816685373653, 0.025943761936916897, 0.011296043516274567]\n",
      "\u001b[36m\u001b[1m[ \u001b[22m\u001b[39m\u001b[36m\u001b[1mInfo: \u001b[22m\u001b[39madaptive: true\n",
      "\u001b[A2mMCHMC: 100%|████████████████████████████████████████████| Time: 0:01:05\u001b[39m\u001b[36m\u001b[1m[ \u001b[22m\u001b[39m\u001b[36m\u001b[1mInfo: \u001b[22m\u001b[39mTuning sigma ⏳\n",
      "\u001b[36m\u001b[1m[ \u001b[22m\u001b[39m\u001b[36m\u001b[1mInfo: \u001b[22m\u001b[39mTuning eps ⏳\n",
      "\u001b[32mMCHMC (tuning):  19%|██████▌                            |  ETA: 0:00:06\u001b[39m"
     ]
    },
    {
     "name": "stdout",
     "output_type": "stream",
     "text": [
      "Burn in step: 4000\n",
      "eps --->0.0011111875350427742\n"
     ]
    },
    {
     "name": "stderr",
     "output_type": "stream",
     "text": [
      "\u001b[32mMCHMC (tuning):  40%|██████████████                     |  ETA: 0:00:04\u001b[39m"
     ]
    },
    {
     "name": "stdout",
     "output_type": "stream",
     "text": [
      "Burn in step: 8000\n",
      "eps --->0.05386379032917042\n"
     ]
    },
    {
     "name": "stderr",
     "output_type": "stream",
     "text": [
      "\u001b[32mMCHMC (tuning):  59%|████████████████████▋              |  ETA: 0:00:03\u001b[39m"
     ]
    },
    {
     "name": "stdout",
     "output_type": "stream",
     "text": [
      "Burn in step: 12000\n",
      "eps --->0.06755398474148226\n"
     ]
    },
    {
     "name": "stderr",
     "output_type": "stream",
     "text": [
      "\u001b[32mMCHMC (tuning):  79%|███████████████████████████▊       |  ETA: 0:00:02\u001b[39m"
     ]
    },
    {
     "name": "stdout",
     "output_type": "stream",
     "text": [
      "Burn in step: 16000\n",
      "eps --->0.10322874771956835\n"
     ]
    },
    {
     "name": "stderr",
     "output_type": "stream",
     "text": [
      "\u001b[A2mMCHMC (tuning): 100%|███████████████████████████████████| Time: 0:00:08\u001b[39m"
     ]
    },
    {
     "name": "stdout",
     "output_type": "stream",
     "text": [
      "Burn in step: 20000\n",
      "eps --->0.09182133577952538\n"
     ]
    },
    {
     "name": "stderr",
     "output_type": "stream",
     "text": [
      "\u001b[36m\u001b[1m[ \u001b[22m\u001b[39m\u001b[36m\u001b[1mInfo: \u001b[22m\u001b[39meps: 0.09182133577952538\n",
      "\u001b[36m\u001b[1m[ \u001b[22m\u001b[39m\u001b[36m\u001b[1mInfo: \u001b[22m\u001b[39mL: 2.6457513110645907\n",
      "\u001b[36m\u001b[1m[ \u001b[22m\u001b[39m\u001b[36m\u001b[1mInfo: \u001b[22m\u001b[39mnu: 0.10133115639164428\n",
      "\u001b[36m\u001b[1m[ \u001b[22m\u001b[39m\u001b[36m\u001b[1mInfo: \u001b[22m\u001b[39msigma: [0.062416327166186336, 0.5127141567876453, 0.19351785832374635, 0.15950917523227773, 0.13464471032236594, 0.008242060268859559, 0.002396356918780667]\n",
      "\u001b[36m\u001b[1m[ \u001b[22m\u001b[39m\u001b[36m\u001b[1mInfo: \u001b[22m\u001b[39madaptive: true\n",
      "\u001b[A2mMCHMC: 100%|████████████████████████████████████████████| Time: 0:01:04\u001b[39m\u001b[36m\u001b[1m[ \u001b[22m\u001b[39m\u001b[36m\u001b[1mInfo: \u001b[22m\u001b[39mTuning sigma ⏳\n",
      "\u001b[36m\u001b[1m[ \u001b[22m\u001b[39m\u001b[36m\u001b[1mInfo: \u001b[22m\u001b[39mTuning eps ⏳\n",
      "\u001b[32mMCHMC (tuning):  19%|██████▊                            |  ETA: 0:00:06\u001b[39m"
     ]
    },
    {
     "name": "stdout",
     "output_type": "stream",
     "text": [
      "Burn in step: 4000\n",
      "eps --->0.0011898772924798736\n"
     ]
    },
    {
     "name": "stderr",
     "output_type": "stream",
     "text": [
      "\u001b[32mMCHMC (tuning):  39%|█████████████▋                     |  ETA: 0:00:04\u001b[39m"
     ]
    },
    {
     "name": "stdout",
     "output_type": "stream",
     "text": [
      "Burn in step: 8000\n",
      "eps --->0.02579652563436573\n"
     ]
    },
    {
     "name": "stderr",
     "output_type": "stream",
     "text": [
      "\u001b[32mMCHMC (tuning):  60%|████████████████████▉              |  ETA: 0:00:03\u001b[39m"
     ]
    },
    {
     "name": "stdout",
     "output_type": "stream",
     "text": [
      "Burn in step: 12000\n",
      "eps --->0.016052392944034728\n"
     ]
    },
    {
     "name": "stderr",
     "output_type": "stream",
     "text": [
      "\u001b[32mMCHMC (tuning):  79%|███████████████████████████▋       |  ETA: 0:00:02\u001b[39m"
     ]
    },
    {
     "name": "stdout",
     "output_type": "stream",
     "text": [
      "Burn in step: 16000\n",
      "eps --->0.020930126381991893\n"
     ]
    },
    {
     "name": "stderr",
     "output_type": "stream",
     "text": [
      "\u001b[A2mMCHMC (tuning): 100%|███████████████████████████████████| Time: 0:00:08\u001b[39m"
     ]
    },
    {
     "name": "stdout",
     "output_type": "stream",
     "text": [
      "Burn in step: 20000\n",
      "eps --->0.021857324965269917\n"
     ]
    },
    {
     "name": "stderr",
     "output_type": "stream",
     "text": [
      "\u001b[36m\u001b[1m[ \u001b[22m\u001b[39m\u001b[36m\u001b[1mInfo: \u001b[22m\u001b[39meps: 0.021857324965269917\n",
      "\u001b[36m\u001b[1m[ \u001b[22m\u001b[39m\u001b[36m\u001b[1mInfo: \u001b[22m\u001b[39mL: 2.6457513110645907\n",
      "\u001b[36m\u001b[1m[ \u001b[22m\u001b[39m\u001b[36m\u001b[1mInfo: \u001b[22m\u001b[39mnu: 0.04878500561020701\n",
      "\u001b[36m\u001b[1m[ \u001b[22m\u001b[39m\u001b[36m\u001b[1mInfo: \u001b[22m\u001b[39msigma: [0.41029027284913544, 0.26060847992556374, 0.1826518136286482, 0.18350161708391902, 0.16111531273888893, 0.01766734409535758, 0.02526668724851994]\n",
      "\u001b[36m\u001b[1m[ \u001b[22m\u001b[39m\u001b[36m\u001b[1mInfo: \u001b[22m\u001b[39madaptive: true\n",
      "\u001b[A2mMCHMC: 100%|████████████████████████████████████████████| Time: 0:01:06\u001b[39m\u001b[36m\u001b[1m[ \u001b[22m\u001b[39m\u001b[36m\u001b[1mInfo: \u001b[22m\u001b[39mTuning sigma ⏳\n",
      "\u001b[36m\u001b[1m[ \u001b[22m\u001b[39m\u001b[36m\u001b[1mInfo: \u001b[22m\u001b[39mTuning eps ⏳\n",
      "\u001b[32mMCHMC (tuning):  19%|██████▊                            |  ETA: 0:00:06\u001b[39m"
     ]
    },
    {
     "name": "stdout",
     "output_type": "stream",
     "text": [
      "Burn in step: 4000\n",
      "eps --->0.0009537521967685694\n"
     ]
    },
    {
     "name": "stderr",
     "output_type": "stream",
     "text": [
      "\u001b[32mMCHMC (tuning):  40%|██████████████                     |  ETA: 0:00:04\u001b[39m"
     ]
    },
    {
     "name": "stdout",
     "output_type": "stream",
     "text": [
      "Burn in step: 8000\n",
      "eps --->0.006130977648340512\n"
     ]
    },
    {
     "name": "stderr",
     "output_type": "stream",
     "text": [
      "\u001b[32mMCHMC (tuning):  59%|████████████████████▋              |  ETA: 0:00:03\u001b[39m"
     ]
    },
    {
     "name": "stdout",
     "output_type": "stream",
     "text": [
      "Burn in step: 12000\n",
      "eps --->0.010201540274976923\n"
     ]
    },
    {
     "name": "stderr",
     "output_type": "stream",
     "text": [
      "\u001b[32mMCHMC (tuning):  80%|███████████████████████████▉       |  ETA: 0:00:02\u001b[39m"
     ]
    },
    {
     "name": "stdout",
     "output_type": "stream",
     "text": [
      "Burn in step: 16000\n",
      "eps --->0.01168944087272976\n"
     ]
    },
    {
     "name": "stderr",
     "output_type": "stream",
     "text": [
      "\u001b[A2mMCHMC (tuning): 100%|███████████████████████████████████| Time: 0:00:08\u001b[39m"
     ]
    },
    {
     "name": "stdout",
     "output_type": "stream",
     "text": [
      "Burn in step: 20000\n",
      "eps --->0.011839433964718591\n"
     ]
    },
    {
     "name": "stderr",
     "output_type": "stream",
     "text": [
      "\u001b[36m\u001b[1m[ \u001b[22m\u001b[39m\u001b[36m\u001b[1mInfo: \u001b[22m\u001b[39meps: 0.011839433964718591\n",
      "\u001b[36m\u001b[1m[ \u001b[22m\u001b[39m\u001b[36m\u001b[1mInfo: \u001b[22m\u001b[39mL: 2.6457513110645907\n",
      "\u001b[36m\u001b[1m[ \u001b[22m\u001b[39m\u001b[36m\u001b[1mInfo: \u001b[22m\u001b[39mnu: 0.03583681224321547\n",
      "\u001b[36m\u001b[1m[ \u001b[22m\u001b[39m\u001b[36m\u001b[1mInfo: \u001b[22m\u001b[39msigma: [0.7480362620435304, 0.21964586727268903, 0.29230392367052555, 0.18142550497808402, 0.1607324730938147, 0.034908067729428185, 0.014483530292841433]\n",
      "\u001b[36m\u001b[1m[ \u001b[22m\u001b[39m\u001b[36m\u001b[1mInfo: \u001b[22m\u001b[39madaptive: true\n",
      "\u001b[A2mMCHMC: 100%|████████████████████████████████████████████| Time: 0:01:04\u001b[39m"
     ]
    },
    {
     "name": "stdout",
     "output_type": "stream",
     "text": [
      "605.279083 seconds (521.36 M allocations: 633.994 GiB, 8.96% gc time)\n"
     ]
    },
    {
     "data": {
      "text/plain": [
       "605.3349211215973"
      ]
     },
     "execution_count": 31,
     "metadata": {},
     "output_type": "execute_result"
    }
   ],
   "source": [
    "n_parallel_mchmc = 8\n",
    "chains = Vector{Any}(undef, n_parallel_mchmc)\n",
    "vec_ess = zeros(n_parallel_mchmc)\n",
    "\n",
    "start_mchmc = time()\n",
    "@time for i in 1:n_parallel_mchmc\n",
    "    chains[i] = Sample(MCHMC(nadapts, 0.001; init_eps=0.05, L=sqrt(d), adaptive=true), target, nsteps;\n",
    "                       progress=true,\n",
    "                       dialog=true, file_name=\"chain_1\",\n",
    "                       initial_x=bestfit_Planck.values.array)\n",
    "    vec_ess[i] = mean(Summarize(chains[i])[1][1:7])\n",
    "end\n",
    "\n",
    "end_mchmc = time()\n",
    "time_mchmc_parallel_Planck = end_mchmc - start_mchmc"
   ]
  },
  {
   "cell_type": "code",
   "execution_count": 33,
   "id": "f6e0df3d",
   "metadata": {},
   "outputs": [
    {
     "data": {
      "text/plain": [
       "32.70205001929367"
      ]
     },
     "execution_count": 33,
     "metadata": {},
     "output_type": "execute_result"
    }
   ],
   "source": [
    "Planck_MCHMC_parallel_ESS_s = sum(vec_ess)/time_mchmc_parallel_Planck"
   ]
  },
  {
   "cell_type": "code",
   "execution_count": 36,
   "id": "86bf6655",
   "metadata": {},
   "outputs": [],
   "source": [
    "x = [mapreduce(permutedims, vcat, chains[i]) for i in 1:n_parallel_mchmc]\n",
    "\n",
    "planck_mchmc_multi_chains = zeros(nsteps*n_parallel_mchmc, 7)\n",
    "for i in 1:7\n",
    "    planck_mchmc_multi_chains[:,i] = extract_single(x, i, n_parallel_mchmc)\n",
    "end"
   ]
  },
  {
   "cell_type": "code",
   "execution_count": 37,
   "id": "f361c7a7",
   "metadata": {},
   "outputs": [],
   "source": [
    "npzwrite(\"chains_Planck_cheb_MOPED_MCHMC_multi.npy\", planck_mchmc_multi_chains)"
   ]
  },
  {
   "cell_type": "code",
   "execution_count": null,
   "id": "7a03439d",
   "metadata": {},
   "outputs": [],
   "source": []
  }
 ],
 "metadata": {
  "kernelspec": {
   "display_name": "nt 8 1.9.2",
   "language": "julia",
   "name": "nt-8-1.9"
  },
  "language_info": {
   "file_extension": ".jl",
   "mimetype": "application/julia",
   "name": "julia",
   "version": "1.9.2"
  }
 },
 "nbformat": 4,
 "nbformat_minor": 5
}
