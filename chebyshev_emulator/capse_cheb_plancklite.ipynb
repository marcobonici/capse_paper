{
 "cells": [
  {
   "attachments": {},
   "cell_type": "markdown",
   "id": "941c5646",
   "metadata": {},
   "source": [
    "# Capse.jl reloaded: using Chebyshev polynomials\n",
    "\n",
    "In this notebook we are going to use the trained Capse.jl emulators which takes advantage of the Chebyshev polynomials decomposition. The core ides is that, rather than using a Neural Networks that outputs the $C_\\ell$'s directly\n",
    "\n",
    "$$\n",
    "\\theta\\rightarrow \\mathrm{NN}(\\theta)\\rightarrow C_\\ell(\\theta)\n",
    "$$\n",
    "\n",
    "we decompose, at a fixed cosmology, the $C_\\ell$'s on the Chebyshev basis\n",
    "\n",
    "$$\n",
    "C_\\ell(\\theta)\\approx\\sum_{i=0}^N a_i(\\theta)T_i\n",
    "$$\n",
    "\n",
    "where $T_i$ is the $i$-th grade Chebyshev polynomial.\n",
    "In this case, the cosmological dependence is encoded in the Chebyshev expansion coefficients, which are the emulation target.\n",
    "\n",
    "$$\n",
    "\\theta\\rightarrow\\mathrm{NN}(\\theta)\\rightarrow a_i(\\theta)\\rightarrow C_\\ell(\\theta)\n",
    "$$\n",
    "\n",
    "In the first part of the notebook we are showing how the Chebyshev expansions can be used to approximate the CMB $C_\\ell$'s.\n",
    "\n",
    "In the second part  we are showing how to compute some Planck chains using the emulator.\n",
    "\n",
    "Let us start activating the static Julia environment and importing the relevant packages."
   ]
  },
  {
   "cell_type": "code",
   "execution_count": 1,
   "id": "ef772998",
   "metadata": {},
   "outputs": [
    {
     "name": "stderr",
     "output_type": "stream",
     "text": [
      "\u001b[32m\u001b[1m  Activating\u001b[22m\u001b[39m project at `~/Desktop/papers/capse_paper/chebyshev_emulator`\n",
      "\u001b[32m\u001b[1m  No Changes\u001b[22m\u001b[39m to `~/Desktop/papers/capse_paper/chebyshev_emulator/Project.toml`\n",
      "\u001b[32m\u001b[1m  No Changes\u001b[22m\u001b[39m to `~/Desktop/papers/capse_paper/chebyshev_emulator/Manifest.toml`\n"
     ]
    }
   ],
   "source": [
    "using Pkg\n",
    "Pkg.activate(\".\")\n",
    "Pkg.instantiate()\n",
    "Pkg.resolve()"
   ]
  },
  {
   "cell_type": "code",
   "execution_count": 2,
   "id": "58543380-350b-4b39-a05c-bf6a97afb06c",
   "metadata": {},
   "outputs": [],
   "source": [
    "using FastChebInterp\n",
    "using BenchmarkTools\n",
    "using LoopVectorization\n",
    "using SimpleChains\n",
    "using Turing\n",
    "using Optim\n",
    "using LinearAlgebra\n",
    "using StatsPlots\n",
    "using Pathfinder\n",
    "using Capse\n",
    "using NPZ\n",
    "import MCMCChains: compute_duration\n",
    "using MCMCDiagnosticTools\n",
    "using StatsPlots\n",
    "using MicroCanonicalHMC\n",
    "using Transducers\n",
    "using MCMCDiagnosticTools\n",
    "using DataFrames\n",
    "using PlanckLite\n",
    "include(\"utils.jl\");"
   ]
  },
  {
   "attachments": {},
   "cell_type": "markdown",
   "id": "5432ddc4",
   "metadata": {},
   "source": [
    "Since we are going to focus on the Planck analysis, here we are just going to use the multipoles $\\ell\\in[2,2508]$.\n",
    " In this example we are using a polynomial of grade $47$."
   ]
  },
  {
   "cell_type": "code",
   "execution_count": 3,
   "id": "78b01597-c699-42b2-967e-f2ae2e4521b5",
   "metadata": {},
   "outputs": [],
   "source": [
    "min_idx = 3\n",
    "max_idx = 2509\n",
    "\n",
    "grad_cheb = 48\n",
    "weights_folder = \"../data/weights/weights_cheb_cosmopowerspace_10000/\"\n",
    "l = Float64.(npzread(weights_folder*\"l.npy\")[min_idx:max_idx]);"
   ]
  },
  {
   "attachments": {},
   "cell_type": "markdown",
   "id": "680865d9",
   "metadata": {},
   "source": [
    "# Checking the emulator: using the validation dataset\n",
    "\n",
    "Here we are going to show how to use the emulators and the emulation error on the validation dataset.\n",
    "Here we are defining the MultiLayer Perceptron Architecture. Please: do not touch this cell!"
   ]
  },
  {
   "cell_type": "code",
   "execution_count": 4,
   "id": "c068dc0a-1ec7-4a76-90d8-695198f398ee",
   "metadata": {},
   "outputs": [],
   "source": [
    "mlpd = SimpleChain(\n",
    "  static(6),\n",
    "  TurboDense(tanh, 64),\n",
    "  TurboDense(tanh, 64),\n",
    "  TurboDense(tanh, 64),\n",
    "  TurboDense(tanh, 64),\n",
    "  TurboDense(tanh, 64),\n",
    "  TurboDense(identity, grad_cheb)\n",
    ");"
   ]
  },
  {
   "attachments": {},
   "cell_type": "markdown",
   "id": "7fbba719",
   "metadata": {},
   "source": [
    "Let us load the emulators."
   ]
  },
  {
   "cell_type": "code",
   "execution_count": 5,
   "id": "c239574a-16d5-4111-8804-71a966d95300",
   "metadata": {},
   "outputs": [],
   "source": [
    "weights_TT = npzread(weights_folder*\"weights_TT_lcdm.npy\")\n",
    "trained_emu_TT = Capse.SimpleChainsEmulator(Architecture= mlpd, Weights = weights_TT)\n",
    "CℓTT_emu = Capse.CℓEmulator(TrainedEmulator = trained_emu_TT, ℓgrid = l,\n",
    "                             InMinMax = npzread(weights_folder*\"inMinMax_lcdm.npy\"),\n",
    "                             OutMinMax = npzread(weights_folder*\"outMinMaxCℓTT_lcdm.npy\"),\n",
    "                             PolyGrid= zeros(50,50), ChebDegree = grad_cheb);"
   ]
  },
  {
   "cell_type": "code",
   "execution_count": 6,
   "id": "c2877c0b-433a-4ddf-b920-62b635854399",
   "metadata": {},
   "outputs": [],
   "source": [
    "weights_EE = npzread(weights_folder*\"weights_EE_lcdm.npy\")\n",
    "trained_emu_EE = Capse.SimpleChainsEmulator(Architecture= mlpd, Weights = weights_EE)\n",
    "CℓEE_emu = Capse.CℓEmulator(TrainedEmulator = trained_emu_EE, ℓgrid = l,\n",
    "                             InMinMax = npzread(weights_folder*\"inMinMax_lcdm.npy\"),\n",
    "                             OutMinMax = npzread(weights_folder*\"outMinMaxCℓEE_lcdm.npy\"),\n",
    "                             PolyGrid= zeros(50,50), ChebDegree = grad_cheb);"
   ]
  },
  {
   "cell_type": "code",
   "execution_count": 7,
   "id": "bc841e5f-b014-4713-a7c0-7d89d0f8e44b",
   "metadata": {},
   "outputs": [],
   "source": [
    "weights_TE = npzread(weights_folder*\"weights_TE_lcdm.npy\")\n",
    "trained_emu_TE = Capse.SimpleChainsEmulator(Architecture= mlpd, Weights = weights_TE)\n",
    "CℓTE_emu = Capse.CℓEmulator(TrainedEmulator = trained_emu_TE, ℓgrid = l,\n",
    "                             InMinMax = npzread(weights_folder*\"inMinMax_lcdm.npy\"),\n",
    "                             OutMinMax = npzread(weights_folder*\"outMinMaxCℓTE_lcdm.npy\"),\n",
    "                             PolyGrid= zeros(50,50), ChebDegree = grad_cheb);"
   ]
  },
  {
   "cell_type": "code",
   "execution_count": 8,
   "id": "bf29b91a",
   "metadata": {},
   "outputs": [],
   "source": [
    "weights_PP = npzread(weights_folder*\"weights_PP_lcdm.npy\")\n",
    "trained_emu_PP = Capse.SimpleChainsEmulator(Architecture= mlpd, Weights = weights_PP)\n",
    "CℓPP_emu = Capse.CℓEmulator(TrainedEmulator = trained_emu_PP, ℓgrid = l,\n",
    "                             InMinMax = npzread(weights_folder*\"inMinMax_lcdm.npy\"),\n",
    "                             OutMinMax = npzread(weights_folder*\"outMinMaxCℓPP_lcdm.npy\"),\n",
    "                             PolyGrid= zeros(50,50), ChebDegree = grad_cheb);"
   ]
  },
  {
   "attachments": {},
   "cell_type": "markdown",
   "id": "8734b8c3",
   "metadata": {},
   "source": [
    "The first thing to do is to evalute the PolyGrid: the polynomials on the $\\ell$ grid used in the training.\n",
    "After the evaluation, the result is stored and doesn't need to be computed again."
   ]
  },
  {
   "cell_type": "code",
   "execution_count": 9,
   "id": "3b97ae7e-7f17-40ee-bb7f-1b80782ef996",
   "metadata": {},
   "outputs": [],
   "source": [
    "Capse.eval_polygrid!(CℓEE_emu)\n",
    "Capse.eval_polygrid!(CℓTT_emu)\n",
    "Capse.eval_polygrid!(CℓTE_emu)\n",
    "Capse.eval_polygrid!(CℓPP_emu)"
   ]
  },
  {
   "attachments": {},
   "cell_type": "markdown",
   "id": "c5320b04",
   "metadata": {},
   "source": [
    "Let us now benchmark the $C_\\ell$'s computation"
   ]
  },
  {
   "cell_type": "code",
   "execution_count": 10,
   "id": "8caf242c",
   "metadata": {},
   "outputs": [
    {
     "data": {
      "text/plain": [
       "BenchmarkTools.Trial: 10000 samples with 1 evaluation.\n",
       " Range \u001b[90m(\u001b[39m\u001b[36m\u001b[1mmin\u001b[22m\u001b[39m … \u001b[35mmax\u001b[39m\u001b[90m):  \u001b[39m\u001b[36m\u001b[1m10.413 μs\u001b[22m\u001b[39m … \u001b[35m 2.758 ms\u001b[39m  \u001b[90m┊\u001b[39m GC \u001b[90m(\u001b[39mmin … max\u001b[90m): \u001b[39m0.00% … 98.16%\n",
       " Time  \u001b[90m(\u001b[39m\u001b[34m\u001b[1mmedian\u001b[22m\u001b[39m\u001b[90m):     \u001b[39m\u001b[34m\u001b[1m14.708 μs              \u001b[22m\u001b[39m\u001b[90m┊\u001b[39m GC \u001b[90m(\u001b[39mmedian\u001b[90m):    \u001b[39m0.00%\n",
       " Time  \u001b[90m(\u001b[39m\u001b[32m\u001b[1mmean\u001b[22m\u001b[39m ± \u001b[32mσ\u001b[39m\u001b[90m):   \u001b[39m\u001b[32m\u001b[1m15.763 μs\u001b[22m\u001b[39m ± \u001b[32m38.017 μs\u001b[39m  \u001b[90m┊\u001b[39m GC \u001b[90m(\u001b[39mmean ± σ\u001b[90m):  \u001b[39m3.34% ±  1.39%\n",
       "\n",
       "  \u001b[39m \u001b[39m \u001b[39m▅\u001b[39m█\u001b[39m▂\u001b[39m \u001b[39m \u001b[39m \u001b[39m \u001b[39m \u001b[39m \u001b[39m \u001b[39m \u001b[39m▂\u001b[34m▃\u001b[39m\u001b[39m▁\u001b[39m \u001b[39m \u001b[32m \u001b[39m\u001b[39m \u001b[39m \u001b[39m \u001b[39m \u001b[39m \u001b[39m \u001b[39m \u001b[39m \u001b[39m \u001b[39m \u001b[39m \u001b[39m \u001b[39m \u001b[39m \u001b[39m \u001b[39m \u001b[39m \u001b[39m \u001b[39m \u001b[39m \u001b[39m \u001b[39m \u001b[39m \u001b[39m \u001b[39m \u001b[39m \u001b[39m \u001b[39m \u001b[39m \u001b[39m \u001b[39m \u001b[39m \u001b[39m \u001b[39m \u001b[39m \u001b[39m \u001b[39m \u001b[39m \u001b[39m \u001b[39m \u001b[39m \u001b[39m \n",
       "  \u001b[39m▁\u001b[39m▄\u001b[39m█\u001b[39m█\u001b[39m█\u001b[39m▅\u001b[39m▃\u001b[39m▃\u001b[39m▂\u001b[39m▂\u001b[39m▂\u001b[39m▃\u001b[39m▇\u001b[39m█\u001b[34m█\u001b[39m\u001b[39m█\u001b[39m█\u001b[39m▆\u001b[32m▅\u001b[39m\u001b[39m▅\u001b[39m▄\u001b[39m▄\u001b[39m▃\u001b[39m▃\u001b[39m▃\u001b[39m▂\u001b[39m▂\u001b[39m▃\u001b[39m▃\u001b[39m▃\u001b[39m▃\u001b[39m▃\u001b[39m▃\u001b[39m▃\u001b[39m▂\u001b[39m▂\u001b[39m▂\u001b[39m▂\u001b[39m▂\u001b[39m▂\u001b[39m▂\u001b[39m▂\u001b[39m▂\u001b[39m▁\u001b[39m▁\u001b[39m▁\u001b[39m▁\u001b[39m▁\u001b[39m▁\u001b[39m▁\u001b[39m▁\u001b[39m▁\u001b[39m▁\u001b[39m▁\u001b[39m▁\u001b[39m▁\u001b[39m▁\u001b[39m▁\u001b[39m▁\u001b[39m \u001b[39m▂\n",
       "  10.4 μs\u001b[90m         Histogram: frequency by time\u001b[39m          28 μs \u001b[0m\u001b[1m<\u001b[22m\n",
       "\n",
       " Memory estimate\u001b[90m: \u001b[39m\u001b[33m21.45 KiB\u001b[39m, allocs estimate\u001b[90m: \u001b[39m\u001b[33m11\u001b[39m."
      ]
     },
     "execution_count": 10,
     "metadata": {},
     "output_type": "execute_result"
    }
   ],
   "source": [
    "input_test = rand(6)\n",
    "@benchmark Capse.get_Cℓ($input_test, $CℓTE_emu)"
   ]
  },
  {
   "attachments": {},
   "cell_type": "markdown",
   "id": "950578f6",
   "metadata": {},
   "source": [
    "And also the Chebyshev coefficients emulation"
   ]
  },
  {
   "cell_type": "code",
   "execution_count": 11,
   "id": "b4b5af43",
   "metadata": {},
   "outputs": [
    {
     "data": {
      "text/plain": [
       "BenchmarkTools.Trial: 10000 samples with 9 evaluations.\n",
       " Range \u001b[90m(\u001b[39m\u001b[36m\u001b[1mmin\u001b[22m\u001b[39m … \u001b[35mmax\u001b[39m\u001b[90m):  \u001b[39m\u001b[36m\u001b[1m2.852 μs\u001b[22m\u001b[39m … \u001b[35m790.853 μs\u001b[39m  \u001b[90m┊\u001b[39m GC \u001b[90m(\u001b[39mmin … max\u001b[90m): \u001b[39m0.00% … 98.89%\n",
       " Time  \u001b[90m(\u001b[39m\u001b[34m\u001b[1mmedian\u001b[22m\u001b[39m\u001b[90m):     \u001b[39m\u001b[34m\u001b[1m3.643 μs               \u001b[22m\u001b[39m\u001b[90m┊\u001b[39m GC \u001b[90m(\u001b[39mmedian\u001b[90m):    \u001b[39m0.00%\n",
       " Time  \u001b[90m(\u001b[39m\u001b[32m\u001b[1mmean\u001b[22m\u001b[39m ± \u001b[32mσ\u001b[39m\u001b[90m):   \u001b[39m\u001b[32m\u001b[1m3.729 μs\u001b[22m\u001b[39m ± \u001b[32m  7.882 μs\u001b[39m  \u001b[90m┊\u001b[39m GC \u001b[90m(\u001b[39mmean ± σ\u001b[90m):  \u001b[39m2.10% ±  0.99%\n",
       "\n",
       "  \u001b[39m \u001b[39m \u001b[39m \u001b[39m \u001b[39m \u001b[39m \u001b[39m \u001b[39m \u001b[39m \u001b[39m \u001b[39m \u001b[39m█\u001b[39m \u001b[39m \u001b[39m \u001b[39m \u001b[39m \u001b[39m \u001b[39m \u001b[39m▃\u001b[34m▂\u001b[39m\u001b[39m▂\u001b[32m▃\u001b[39m\u001b[39m \u001b[39m \u001b[39m \u001b[39m \u001b[39m \u001b[39m \u001b[39m \u001b[39m \u001b[39m \u001b[39m \u001b[39m \u001b[39m \u001b[39m \u001b[39m \u001b[39m \u001b[39m \u001b[39m \u001b[39m \u001b[39m \u001b[39m \u001b[39m \u001b[39m \u001b[39m \u001b[39m \u001b[39m \u001b[39m \u001b[39m \u001b[39m \u001b[39m \u001b[39m \u001b[39m \u001b[39m \u001b[39m \u001b[39m \u001b[39m \u001b[39m \u001b[39m \u001b[39m \n",
       "  \u001b[39m▁\u001b[39m▁\u001b[39m▁\u001b[39m▁\u001b[39m▁\u001b[39m▂\u001b[39m▂\u001b[39m▂\u001b[39m▃\u001b[39m▆\u001b[39m▅\u001b[39m█\u001b[39m█\u001b[39m▄\u001b[39m▂\u001b[39m▂\u001b[39m▃\u001b[39m▆\u001b[39m▅\u001b[39m█\u001b[34m█\u001b[39m\u001b[39m█\u001b[32m█\u001b[39m\u001b[39m▇\u001b[39m▆\u001b[39m▄\u001b[39m▄\u001b[39m▃\u001b[39m▃\u001b[39m▃\u001b[39m▂\u001b[39m▂\u001b[39m▂\u001b[39m▂\u001b[39m▂\u001b[39m▂\u001b[39m▂\u001b[39m▁\u001b[39m▁\u001b[39m▁\u001b[39m▁\u001b[39m▁\u001b[39m▁\u001b[39m▁\u001b[39m▁\u001b[39m▁\u001b[39m▁\u001b[39m▁\u001b[39m▁\u001b[39m▁\u001b[39m▁\u001b[39m▁\u001b[39m▁\u001b[39m▁\u001b[39m▁\u001b[39m▁\u001b[39m▁\u001b[39m▁\u001b[39m▁\u001b[39m \u001b[39m▂\n",
       "  2.85 μs\u001b[90m         Histogram: frequency by time\u001b[39m        5.19 μs \u001b[0m\u001b[1m<\u001b[22m\n",
       "\n",
       " Memory estimate\u001b[90m: \u001b[39m\u001b[33m1.78 KiB\u001b[39m, allocs estimate\u001b[90m: \u001b[39m\u001b[33m9\u001b[39m."
      ]
     },
     "execution_count": 11,
     "metadata": {},
     "output_type": "execute_result"
    }
   ],
   "source": [
    "@benchmark Capse.get_chebcoefs($input_test, $CℓTE_emu)"
   ]
  },
  {
   "attachments": {},
   "cell_type": "markdown",
   "id": "f50f226d",
   "metadata": {},
   "source": [
    "Here we want to emphasize an important point:\n",
    "\n",
    "- emulating the Chebyshev coefficients requires around $4\\,\\mu s$\n",
    "- emulating the Chebyshev coefficients $\\textit{and}$  computing the $C_\\ell$'s takes $15\\,\\mu s$\n",
    "\n",
    "This simple observation can suggest us something: if we are able to write the likelihood in such a way that we do NOT compute the $C_\\ell$'s we can improve the overall computational performance."
   ]
  },
  {
   "attachments": {},
   "cell_type": "markdown",
   "id": "fa1e217f",
   "metadata": {},
   "source": [
    "# PlanckLite & Chebyshev"
   ]
  },
  {
   "cell_type": "code",
   "execution_count": 12,
   "id": "ab7d552a",
   "metadata": {},
   "outputs": [
    {
     "data": {
      "text/plain": [
       "call_emu_plancklite (generic function with 1 method)"
      ]
     },
     "execution_count": 12,
     "metadata": {},
     "output_type": "execute_result"
    }
   ],
   "source": [
    "lsTT = 2:2508\n",
    "lsTE = 2:1996\n",
    "facTT=lsTT.*(lsTT.+1)./(2*π)\n",
    "facTE=lsTE.*(lsTE.+1)./(2*π)\n",
    "\n",
    "function call_emu_plancklite(θ, Emu_TT, Emu_TE, Emu_EE, facTT, facTE)\n",
    "    return PlanckLite.bin_Cℓ(Capse.get_Cℓ(θ, Emu_TT)[1:2507]./facTT,\n",
    "                            Capse.get_Cℓ(θ, Emu_TE)[1:1995]./facTE,\n",
    "                            Capse.get_Cℓ(θ, Emu_EE)[1:1995]./facTE)\n",
    "end"
   ]
  },
  {
   "cell_type": "code",
   "execution_count": 13,
   "id": "9280adc0",
   "metadata": {},
   "outputs": [],
   "source": [
    "Γ = sqrt(PlanckLite.cov)\n",
    "iΓ = inv(Γ)\n",
    "D = iΓ * PlanckLite.data;"
   ]
  },
  {
   "cell_type": "code",
   "execution_count": 14,
   "id": "ce6ecbe0",
   "metadata": {},
   "outputs": [
    {
     "data": {
      "text/plain": [
       "theory_plancklite (generic function with 1 method)"
      ]
     },
     "execution_count": 14,
     "metadata": {},
     "output_type": "execute_result"
    }
   ],
   "source": [
    "theory_plancklite(θ) = call_emu_plancklite(θ, CℓTT_emu, CℓTE_emu, CℓEE_emu, facTT, facTE)"
   ]
  },
  {
   "cell_type": "code",
   "execution_count": 15,
   "id": "756a3321",
   "metadata": {},
   "outputs": [
    {
     "data": {
      "text/plain": [
       "BenchmarkTools.Trial: 10000 samples with 1 evaluation.\n",
       " Range \u001b[90m(\u001b[39m\u001b[36m\u001b[1mmin\u001b[22m\u001b[39m … \u001b[35mmax\u001b[39m\u001b[90m):  \u001b[39m\u001b[36m\u001b[1m247.032 μs\u001b[22m\u001b[39m … \u001b[35m  7.347 ms\u001b[39m  \u001b[90m┊\u001b[39m GC \u001b[90m(\u001b[39mmin … max\u001b[90m): \u001b[39m0.00% … 86.29%\n",
       " Time  \u001b[90m(\u001b[39m\u001b[34m\u001b[1mmedian\u001b[22m\u001b[39m\u001b[90m):     \u001b[39m\u001b[34m\u001b[1m303.349 μs               \u001b[22m\u001b[39m\u001b[90m┊\u001b[39m GC \u001b[90m(\u001b[39mmedian\u001b[90m):    \u001b[39m0.00%\n",
       " Time  \u001b[90m(\u001b[39m\u001b[32m\u001b[1mmean\u001b[22m\u001b[39m ± \u001b[32mσ\u001b[39m\u001b[90m):   \u001b[39m\u001b[32m\u001b[1m366.383 μs\u001b[22m\u001b[39m ± \u001b[32m378.963 μs\u001b[39m  \u001b[90m┊\u001b[39m GC \u001b[90m(\u001b[39mmean ± σ\u001b[90m):  \u001b[39m6.23% ±  5.95%\n",
       "\n",
       "  \u001b[39m▆\u001b[39m▅\u001b[39m▄\u001b[39m▄\u001b[39m▇\u001b[39m█\u001b[34m▇\u001b[39m\u001b[39m▆\u001b[39m▅\u001b[39m▄\u001b[39m▄\u001b[39m▃\u001b[39m▂\u001b[32m▂\u001b[39m\u001b[39m▂\u001b[39m▂\u001b[39m▂\u001b[39m▁\u001b[39m \u001b[39m \u001b[39m \u001b[39m \u001b[39m \u001b[39m \u001b[39m \u001b[39m \u001b[39m \u001b[39m \u001b[39m \u001b[39m \u001b[39m \u001b[39m \u001b[39m \u001b[39m▂\u001b[39m▂\u001b[39m▂\u001b[39m▁\u001b[39m \u001b[39m▁\u001b[39m▁\u001b[39m▁\u001b[39m▁\u001b[39m \u001b[39m \u001b[39m \u001b[39m \u001b[39m \u001b[39m \u001b[39m▂\u001b[39m▂\u001b[39m▂\u001b[39m▁\u001b[39m▁\u001b[39m▁\u001b[39m \u001b[39m \u001b[39m \u001b[39m \u001b[39m \u001b[39m \u001b[39m \u001b[39m \u001b[39m▂\n",
       "  \u001b[39m█\u001b[39m█\u001b[39m█\u001b[39m█\u001b[39m█\u001b[39m█\u001b[34m█\u001b[39m\u001b[39m█\u001b[39m█\u001b[39m█\u001b[39m█\u001b[39m█\u001b[39m█\u001b[32m█\u001b[39m\u001b[39m█\u001b[39m█\u001b[39m█\u001b[39m█\u001b[39m█\u001b[39m▆\u001b[39m▇\u001b[39m▄\u001b[39m▆\u001b[39m▅\u001b[39m▃\u001b[39m▅\u001b[39m▆\u001b[39m▅\u001b[39m▄\u001b[39m▁\u001b[39m▃\u001b[39m▃\u001b[39m▅\u001b[39m█\u001b[39m█\u001b[39m█\u001b[39m█\u001b[39m█\u001b[39m█\u001b[39m█\u001b[39m█\u001b[39m█\u001b[39m█\u001b[39m▇\u001b[39m▇\u001b[39m▆\u001b[39m▆\u001b[39m▇\u001b[39m█\u001b[39m█\u001b[39m█\u001b[39m█\u001b[39m█\u001b[39m█\u001b[39m█\u001b[39m▆\u001b[39m▆\u001b[39m▅\u001b[39m▅\u001b[39m▅\u001b[39m▆\u001b[39m \u001b[39m█\n",
       "  247 μs\u001b[90m        \u001b[39m\u001b[90mHistogram: \u001b[39m\u001b[90m\u001b[1mlog(\u001b[22m\u001b[39m\u001b[90mfrequency\u001b[39m\u001b[90m\u001b[1m)\u001b[22m\u001b[39m\u001b[90m by time\u001b[39m        815 μs \u001b[0m\u001b[1m<\u001b[22m\n",
       "\n",
       " Memory estimate\u001b[90m: \u001b[39m\u001b[33m492.48 KiB\u001b[39m, allocs estimate\u001b[90m: \u001b[39m\u001b[33m8878\u001b[39m."
      ]
     },
     "execution_count": 15,
     "metadata": {},
     "output_type": "execute_result"
    }
   ],
   "source": [
    "@benchmark theory_plancklite(ones(6))"
   ]
  },
  {
   "cell_type": "code",
   "execution_count": 16,
   "id": "6c5b29b4",
   "metadata": {},
   "outputs": [],
   "source": [
    "function bin_grid(Emu_TT, Emu_TE, Emu_EE, facTT, facTE)\n",
    "    result = zeros(613,48)\n",
    "    for i in 1:48\n",
    "    result[:, i] =  PlanckLite.bin_Cℓ(Emu_TT.PolyGrid[1:2507,i]./facTT,\n",
    "                             Emu_TE.PolyGrid[1:1995,i]./facTE,\n",
    "                             Emu_EE.PolyGrid[1:1995,i]./facTE)\n",
    "    end\n",
    "    return result\n",
    "end\n",
    "\n",
    "binned_grid_std = bin_grid(CℓTT_emu, CℓTE_emu, CℓEE_emu, facTT, facTE);"
   ]
  },
  {
   "cell_type": "code",
   "execution_count": 17,
   "id": "c3d0eacb",
   "metadata": {},
   "outputs": [
    {
     "data": {
      "text/plain": [
       "theory_fast (generic function with 1 method)"
      ]
     },
     "execution_count": 17,
     "metadata": {},
     "output_type": "execute_result"
    }
   ],
   "source": [
    "function fast_computation(θ, CℓTT_emu, CℓTE_emu, CℓEE_emu, binned_grid)\n",
    "    coeff_TT = Capse.get_chebcoefs(θ, CℓTT_emu)\n",
    "    coeff_TE = Capse.get_chebcoefs(θ, CℓTE_emu)\n",
    "    coeff_EE = Capse.get_chebcoefs(θ, CℓEE_emu)\n",
    "    TT = binned_grid[1:215,:]   * coeff_TT\n",
    "    TE = binned_grid[216:414,:] * coeff_TE\n",
    "    EE = binned_grid[415:613,:] * coeff_EE\n",
    "\n",
    "    return vcat(TT, TE, EE)\n",
    "end\n",
    "\n",
    "function super_fast_computation(θ, CℓTT_emu, CℓTE_emu, CℓEE_emu, binned_grid_TT, binned_grid_TE, binned_grid_EE)\n",
    "    #coeff_TT = Capse.get_chebcoefs(θ, CℓTT_emu)\n",
    "    #coeff_TE = Capse.get_chebcoefs(θ, CℓTE_emu)\n",
    "    #coeff_EE = Capse.get_chebcoefs(θ, CℓEE_emu)\n",
    "    #TT = binned_grid_TT   * coeff_TT\n",
    "    #TE = binned_grid_TE * coeff_TE\n",
    "    #EE = binned_grid_TT * coeff_EE\n",
    "\n",
    "    return binned_grid_TT * Capse.get_chebcoefs(θ, CℓTT_emu) +\n",
    "                binned_grid_TE * Capse.get_chebcoefs(θ, CℓTE_emu) +\n",
    "                binned_grid_EE * Capse.get_chebcoefs(θ, CℓEE_emu)\n",
    "end \n",
    "\n",
    "binned_grid_TT_std = binned_grid_std[1:215,:]\n",
    "binned_grid_TE_std = binned_grid_std[216:414,:]\n",
    "\n",
    "binned_grid_TT = zeros(613,48)\n",
    "binned_grid_TE = zeros(613,48)\n",
    "binned_grid_EE = zeros(613,48)\n",
    "\n",
    "binned_grid_TT[1:215,:]   = binned_grid_std[1:215,:]\n",
    "binned_grid_TE[216:414,:] = binned_grid_std[216:414,:]\n",
    "binned_grid_EE[415:613,:] = binned_grid_std[415:613,:]\n",
    "\n",
    "binned_grid_TT = iΓ * binned_grid_TT\n",
    "binned_grid_TE = iΓ * binned_grid_TE\n",
    "binned_grid_EE = iΓ * binned_grid_EE\n",
    "\n",
    "\n",
    "theory_fast_std(θ) = fast_computation(θ, CℓTT_emu, CℓTE_emu, CℓEE_emu, binned_grid_std)\n",
    "theory_fast(θ) = super_fast_computation(θ, CℓTT_emu, CℓTE_emu, CℓEE_emu, binned_grid_TT, binned_grid_TE, binned_grid_EE)"
   ]
  },
  {
   "cell_type": "code",
   "execution_count": 18,
   "id": "42899597",
   "metadata": {},
   "outputs": [
    {
     "data": {
      "text/plain": [
       "613-element Vector{Float64}:\n",
       " -1.6653345369377348e-15\n",
       "  6.661338147750939e-16\n",
       " -6.661338147750939e-16\n",
       "  1.9984014443252818e-15\n",
       " -1.5543122344752192e-15\n",
       " -6.661338147750939e-16\n",
       "  2.4424906541753444e-15\n",
       " -6.661338147750939e-16\n",
       " -6.661338147750939e-16\n",
       "  0.0\n",
       " -1.5543122344752192e-15\n",
       " -2.220446049250313e-15\n",
       "  2.220446049250313e-16\n",
       "  ⋮\n",
       " -3.7730235602495554e-17\n",
       "  1.1102230246251565e-16\n",
       " -1.8735013540549517e-16\n",
       "  8.326672684688674e-17\n",
       " -1.1102230246251565e-16\n",
       " -9.71445146547012e-17\n",
       "  7.28583859910259e-17\n",
       " -2.7755575615628914e-17\n",
       " -1.1796119636642288e-16\n",
       " -8.326672684688674e-17\n",
       "  6.938893903907228e-18\n",
       "  1.1102230246251565e-16"
      ]
     },
     "execution_count": 18,
     "metadata": {},
     "output_type": "execute_result"
    }
   ],
   "source": [
    "iΓ * theory_fast_std(ones(6)) .- theory_fast(ones(6))"
   ]
  },
  {
   "cell_type": "code",
   "execution_count": 19,
   "id": "01fa7581",
   "metadata": {},
   "outputs": [
    {
     "data": {
      "text/plain": [
       "BenchmarkTools.Trial: 10000 samples with 1 evaluation.\n",
       " Range \u001b[90m(\u001b[39m\u001b[36m\u001b[1mmin\u001b[22m\u001b[39m … \u001b[35mmax\u001b[39m\u001b[90m):  \u001b[39m\u001b[36m\u001b[1m23.114 μs\u001b[22m\u001b[39m … \u001b[35m 5.523 ms\u001b[39m  \u001b[90m┊\u001b[39m GC \u001b[90m(\u001b[39mmin … max\u001b[90m): \u001b[39m0.00% … 84.80%\n",
       " Time  \u001b[90m(\u001b[39m\u001b[34m\u001b[1mmedian\u001b[22m\u001b[39m\u001b[90m):     \u001b[39m\u001b[34m\u001b[1m30.806 μs              \u001b[22m\u001b[39m\u001b[90m┊\u001b[39m GC \u001b[90m(\u001b[39mmedian\u001b[90m):    \u001b[39m0.00%\n",
       " Time  \u001b[90m(\u001b[39m\u001b[32m\u001b[1mmean\u001b[22m\u001b[39m ± \u001b[32mσ\u001b[39m\u001b[90m):   \u001b[39m\u001b[32m\u001b[1m31.179 μs\u001b[22m\u001b[39m ± \u001b[32m56.831 μs\u001b[39m  \u001b[90m┊\u001b[39m GC \u001b[90m(\u001b[39mmean ± σ\u001b[90m):  \u001b[39m1.50% ±  0.85%\n",
       "\n",
       "  \u001b[39m \u001b[39m \u001b[39m \u001b[39m▁\u001b[39m▆\u001b[39m█\u001b[39m▇\u001b[39m▄\u001b[39m▂\u001b[39m▁\u001b[39m \u001b[39m \u001b[39m \u001b[39m \u001b[39m \u001b[39m \u001b[39m \u001b[39m \u001b[39m \u001b[39m \u001b[39m \u001b[39m \u001b[34m▃\u001b[39m\u001b[32m▅\u001b[39m\u001b[39m▄\u001b[39m▃\u001b[39m▃\u001b[39m▁\u001b[39m▁\u001b[39m \u001b[39m \u001b[39m \u001b[39m \u001b[39m \u001b[39m \u001b[39m \u001b[39m \u001b[39m \u001b[39m \u001b[39m \u001b[39m \u001b[39m \u001b[39m \u001b[39m \u001b[39m \u001b[39m \u001b[39m \u001b[39m \u001b[39m \u001b[39m \u001b[39m \u001b[39m \u001b[39m \u001b[39m \u001b[39m \u001b[39m \u001b[39m \u001b[39m \u001b[39m \u001b[39m \u001b[39m \n",
       "  \u001b[39m▁\u001b[39m▂\u001b[39m▅\u001b[39m█\u001b[39m█\u001b[39m█\u001b[39m█\u001b[39m█\u001b[39m█\u001b[39m█\u001b[39m█\u001b[39m▇\u001b[39m▅\u001b[39m▄\u001b[39m▄\u001b[39m▃\u001b[39m▂\u001b[39m▃\u001b[39m▃\u001b[39m▄\u001b[39m▅\u001b[39m█\u001b[34m█\u001b[39m\u001b[32m█\u001b[39m\u001b[39m█\u001b[39m█\u001b[39m█\u001b[39m█\u001b[39m█\u001b[39m▇\u001b[39m▆\u001b[39m▅\u001b[39m▅\u001b[39m▄\u001b[39m▄\u001b[39m▃\u001b[39m▄\u001b[39m▄\u001b[39m▃\u001b[39m▃\u001b[39m▄\u001b[39m▃\u001b[39m▃\u001b[39m▄\u001b[39m▃\u001b[39m▃\u001b[39m▃\u001b[39m▂\u001b[39m▂\u001b[39m▂\u001b[39m▂\u001b[39m▂\u001b[39m▂\u001b[39m▂\u001b[39m▂\u001b[39m▂\u001b[39m▂\u001b[39m▁\u001b[39m▁\u001b[39m \u001b[39m▄\n",
       "  23.1 μs\u001b[90m         Histogram: frequency by time\u001b[39m        43.4 μs \u001b[0m\u001b[1m<\u001b[22m\n",
       "\n",
       " Memory estimate\u001b[90m: \u001b[39m\u001b[33m25.20 KiB\u001b[39m, allocs estimate\u001b[90m: \u001b[39m\u001b[33m32\u001b[39m."
      ]
     },
     "execution_count": 19,
     "metadata": {},
     "output_type": "execute_result"
    }
   ],
   "source": [
    "@benchmark theory_fast(ones(6))"
   ]
  },
  {
   "cell_type": "code",
   "execution_count": 20,
   "id": "16203ab4",
   "metadata": {},
   "outputs": [
    {
     "data": {
      "text/plain": [
       "DynamicPPL.Model{typeof(CMB_planck_ultra_fast), (:D,), (), (), Tuple{Vector{Float64}}, Tuple{}, DynamicPPL.DefaultContext}(CMB_planck_ultra_fast, (D = [9.643012835639828, 10.803277764202981, 12.837021443612652, 12.159764105419248, 11.744821016084751, 13.713281787419634, 13.957299336082897, 15.005683408044218, 15.585981279991291, 13.764821092399968  …  -0.4208097528485547, 0.9948910443777017, 3.0065727299752423, 0.38248077476446013, -1.567094536865492, 1.6989024589667159, 1.0732606672031262, -1.6425448532692997, 2.311295810549454, 0.6863715328875395],), NamedTuple(), DynamicPPL.DefaultContext())"
      ]
     },
     "execution_count": 20,
     "metadata": {},
     "output_type": "execute_result"
    }
   ],
   "source": [
    "@model function CMB_planck_ultra_fast(D)\n",
    "    #prior on model parameters\n",
    "    ln10As ~ Uniform(0.25, 0.35)\n",
    "    ns     ~ Uniform(0.88, 1.06)\n",
    "    h0     ~ Uniform(0.60, 0.80)\n",
    "    ωb     ~ Uniform(0.1985, 0.25)\n",
    "    ωc     ~ Uniform(0.08, 0.20)\n",
    "    τ      ~ Normal(0.0506, 0.0086)\n",
    "    yₚ     ~ Normal(1.0, 0.0025)\n",
    "\n",
    "    θ = [10*ln10As, ns, 100*h0, ωb/10, ωc, τ]\n",
    "    #compute theoretical prediction\n",
    "    pred = theory_fast(θ) ./(yₚ^2)\n",
    "    #compute likelihood\n",
    "    D ~ MvNormal(pred, I)\n",
    "\n",
    "    return nothing\n",
    "end\n",
    "\n",
    "CMB_model_planck_ultra_fast = CMB_planck_ultra_fast(D)"
   ]
  },
  {
   "cell_type": "code",
   "execution_count": 21,
   "id": "b167fd64",
   "metadata": {},
   "outputs": [
    {
     "data": {
      "text/plain": [
       "ModeResult with maximized lp of -836.24\n",
       "[0.305187288403472, 0.9634362838080817, 0.6713595762487367, 0.223418397764578, 0.12063380739590789, 0.057132455205567215, 1.0005309971887266]"
      ]
     },
     "execution_count": 21,
     "metadata": {},
     "output_type": "execute_result"
    }
   ],
   "source": [
    "bestfit_Planck = optimize(CMB_model_planck_ultra_fast, MAP(), Optim.Options(iterations=100000, allow_f_increases=true))"
   ]
  },
  {
   "cell_type": "code",
   "execution_count": 22,
   "id": "6f59746e",
   "metadata": {},
   "outputs": [
    {
     "data": {
      "text/plain": [
       "BenchmarkTools.Trial: 89 samples with 1 evaluation.\n",
       " Range \u001b[90m(\u001b[39m\u001b[36m\u001b[1mmin\u001b[22m\u001b[39m … \u001b[35mmax\u001b[39m\u001b[90m):  \u001b[39m\u001b[36m\u001b[1m33.255 ms\u001b[22m\u001b[39m … \u001b[35m114.834 ms\u001b[39m  \u001b[90m┊\u001b[39m GC \u001b[90m(\u001b[39mmin … max\u001b[90m): \u001b[39m0.00% … 4.30%\n",
       " Time  \u001b[90m(\u001b[39m\u001b[34m\u001b[1mmedian\u001b[22m\u001b[39m\u001b[90m):     \u001b[39m\u001b[34m\u001b[1m54.234 ms               \u001b[22m\u001b[39m\u001b[90m┊\u001b[39m GC \u001b[90m(\u001b[39mmedian\u001b[90m):    \u001b[39m0.00%\n",
       " Time  \u001b[90m(\u001b[39m\u001b[32m\u001b[1mmean\u001b[22m\u001b[39m ± \u001b[32mσ\u001b[39m\u001b[90m):   \u001b[39m\u001b[32m\u001b[1m56.819 ms\u001b[22m\u001b[39m ± \u001b[32m 15.992 ms\u001b[39m  \u001b[90m┊\u001b[39m GC \u001b[90m(\u001b[39mmean ± σ\u001b[90m):  \u001b[39m3.68% ± 4.54%\n",
       "\n",
       "  \u001b[39m \u001b[39m \u001b[39m▂\u001b[39m▂\u001b[39m \u001b[39m \u001b[39m▅\u001b[39m \u001b[39m▂\u001b[39m \u001b[39m \u001b[39m▂\u001b[39m█\u001b[39m▅\u001b[39m \u001b[39m \u001b[39m█\u001b[39m▂\u001b[34m \u001b[39m\u001b[39m▅\u001b[32m \u001b[39m\u001b[39m \u001b[39m▂\u001b[39m \u001b[39m▅\u001b[39m▂\u001b[39m▂\u001b[39m \u001b[39m▅\u001b[39m \u001b[39m \u001b[39m \u001b[39m \u001b[39m \u001b[39m \u001b[39m \u001b[39m \u001b[39m \u001b[39m \u001b[39m \u001b[39m \u001b[39m \u001b[39m \u001b[39m \u001b[39m \u001b[39m \u001b[39m \u001b[39m \u001b[39m \u001b[39m \u001b[39m \u001b[39m \u001b[39m \u001b[39m \u001b[39m \u001b[39m \u001b[39m \u001b[39m \u001b[39m \u001b[39m \u001b[39m \u001b[39m \n",
       "  \u001b[39m▅\u001b[39m▅\u001b[39m█\u001b[39m█\u001b[39m▅\u001b[39m█\u001b[39m█\u001b[39m█\u001b[39m█\u001b[39m▅\u001b[39m█\u001b[39m█\u001b[39m█\u001b[39m█\u001b[39m▅\u001b[39m▁\u001b[39m█\u001b[39m█\u001b[34m█\u001b[39m\u001b[39m█\u001b[32m█\u001b[39m\u001b[39m▅\u001b[39m█\u001b[39m▅\u001b[39m█\u001b[39m█\u001b[39m█\u001b[39m█\u001b[39m█\u001b[39m▁\u001b[39m▅\u001b[39m▅\u001b[39m▅\u001b[39m▅\u001b[39m█\u001b[39m▁\u001b[39m▁\u001b[39m▅\u001b[39m▁\u001b[39m▁\u001b[39m▁\u001b[39m▅\u001b[39m▁\u001b[39m▁\u001b[39m█\u001b[39m█\u001b[39m▁\u001b[39m▁\u001b[39m▁\u001b[39m▁\u001b[39m▅\u001b[39m▁\u001b[39m▁\u001b[39m▅\u001b[39m▁\u001b[39m▁\u001b[39m▁\u001b[39m▁\u001b[39m▁\u001b[39m▅\u001b[39m \u001b[39m▁\n",
       "  33.3 ms\u001b[90m         Histogram: frequency by time\u001b[39m          103 ms \u001b[0m\u001b[1m<\u001b[22m\n",
       "\n",
       " Memory estimate\u001b[90m: \u001b[39m\u001b[33m24.23 MiB\u001b[39m, allocs estimate\u001b[90m: \u001b[39m\u001b[33m12218\u001b[39m."
      ]
     },
     "execution_count": 22,
     "metadata": {},
     "output_type": "execute_result"
    }
   ],
   "source": [
    "@benchmark optimize(CMB_model_planck_ultra_fast, MAP(), Optim.Options(iterations=100000, allow_f_increases=true))"
   ]
  },
  {
   "cell_type": "code",
   "execution_count": 23,
   "id": "606c0b77",
   "metadata": {},
   "outputs": [
    {
     "name": "stderr",
     "output_type": "stream",
     "text": [
      "\u001b[33m\u001b[1m┌ \u001b[22m\u001b[39m\u001b[33m\u001b[1mWarning: \u001b[22m\u001b[39m1 (0.3%) updates to the inverse Hessian estimate were rejected to keep it positive definite.\n",
      "\u001b[33m\u001b[1m└ \u001b[22m\u001b[39m\u001b[90m@ Pathfinder ~/.julia/packages/Pathfinder/1B4yO/src/singlepath.jl:212\u001b[39m\n",
      "\u001b[33m\u001b[1m┌ \u001b[22m\u001b[39m\u001b[33m\u001b[1mWarning: \u001b[22m\u001b[39m2 (0.8%) updates to the inverse Hessian estimate were rejected to keep it positive definite.\n",
      "\u001b[33m\u001b[1m└ \u001b[22m\u001b[39m\u001b[90m@ Pathfinder ~/.julia/packages/Pathfinder/1B4yO/src/singlepath.jl:212\u001b[39m\n",
      "\u001b[33m\u001b[1m┌ \u001b[22m\u001b[39m\u001b[33m\u001b[1mWarning: \u001b[22m\u001b[39m1 (1.1%) updates to the inverse Hessian estimate were rejected to keep it positive definite.\n",
      "\u001b[33m\u001b[1m└ \u001b[22m\u001b[39m\u001b[90m@ Pathfinder ~/.julia/packages/Pathfinder/1B4yO/src/singlepath.jl:212\u001b[39m\n",
      "\u001b[33m\u001b[1m┌ \u001b[22m\u001b[39m\u001b[33m\u001b[1mWarning: \u001b[22m\u001b[39m1 (0.2%) updates to the inverse Hessian estimate were rejected to keep it positive definite.\n",
      "\u001b[33m\u001b[1m└ \u001b[22m\u001b[39m\u001b[90m@ Pathfinder ~/.julia/packages/Pathfinder/1B4yO/src/singlepath.jl:212\u001b[39m\n",
      "\u001b[33m\u001b[1m┌ \u001b[22m\u001b[39m\u001b[33m\u001b[1mWarning: \u001b[22m\u001b[39m1 (1.0%) updates to the inverse Hessian estimate were rejected to keep it positive definite.\n",
      "\u001b[33m\u001b[1m└ \u001b[22m\u001b[39m\u001b[90m@ Pathfinder ~/.julia/packages/Pathfinder/1B4yO/src/singlepath.jl:212\u001b[39m\n",
      "\u001b[33m\u001b[1m┌ \u001b[22m\u001b[39m\u001b[33m\u001b[1mWarning: \u001b[22m\u001b[39m1 (0.2%) updates to the inverse Hessian estimate were rejected to keep it positive definite.\n",
      "\u001b[33m\u001b[1m└ \u001b[22m\u001b[39m\u001b[90m@ Pathfinder ~/.julia/packages/Pathfinder/1B4yO/src/singlepath.jl:212\u001b[39m\n",
      "\u001b[33m\u001b[1m┌ \u001b[22m\u001b[39m\u001b[33m\u001b[1mWarning: \u001b[22m\u001b[39m1 (0.3%) updates to the inverse Hessian estimate were rejected to keep it positive definite.\n",
      "\u001b[33m\u001b[1m└ \u001b[22m\u001b[39m\u001b[90m@ Pathfinder ~/.julia/packages/Pathfinder/1B4yO/src/singlepath.jl:212\u001b[39m\n",
      "\u001b[33m\u001b[1m┌ \u001b[22m\u001b[39m\u001b[33m\u001b[1mWarning: \u001b[22m\u001b[39m2 (0.4%) updates to the inverse Hessian estimate were rejected to keep it positive definite.\n",
      "\u001b[33m\u001b[1m└ \u001b[22m\u001b[39m\u001b[90m@ Pathfinder ~/.julia/packages/Pathfinder/1B4yO/src/singlepath.jl:212\u001b[39m\n",
      "\u001b[33m\u001b[1m┌ \u001b[22m\u001b[39m\u001b[33m\u001b[1mWarning: \u001b[22m\u001b[39m1 (0.3%) updates to the inverse Hessian estimate were rejected to keep it positive definite.\n",
      "\u001b[33m\u001b[1m└ \u001b[22m\u001b[39m\u001b[90m@ Pathfinder ~/.julia/packages/Pathfinder/1B4yO/src/singlepath.jl:212\u001b[39m\n",
      "\u001b[33m\u001b[1m┌ \u001b[22m\u001b[39m\u001b[33m\u001b[1mWarning: \u001b[22m\u001b[39m1 (0.4%) updates to the inverse Hessian estimate were rejected to keep it positive definite.\n",
      "\u001b[33m\u001b[1m└ \u001b[22m\u001b[39m\u001b[90m@ Pathfinder ~/.julia/packages/Pathfinder/1B4yO/src/singlepath.jl:212\u001b[39m\n",
      "\u001b[33m\u001b[1m┌ \u001b[22m\u001b[39m\u001b[33m\u001b[1mWarning: \u001b[22m\u001b[39m2 (0.6%) updates to the inverse Hessian estimate were rejected to keep it positive definite.\n",
      "\u001b[33m\u001b[1m└ \u001b[22m\u001b[39m\u001b[90m@ Pathfinder ~/.julia/packages/Pathfinder/1B4yO/src/singlepath.jl:212\u001b[39m\n",
      "\u001b[33m\u001b[1m┌ \u001b[22m\u001b[39m\u001b[33m\u001b[1mWarning: \u001b[22m\u001b[39m1 (0.2%) updates to the inverse Hessian estimate were rejected to keep it positive definite.\n",
      "\u001b[33m\u001b[1m└ \u001b[22m\u001b[39m\u001b[90m@ Pathfinder ~/.julia/packages/Pathfinder/1B4yO/src/singlepath.jl:212\u001b[39m\n",
      "\u001b[33m\u001b[1m┌ \u001b[22m\u001b[39m\u001b[33m\u001b[1mWarning: \u001b[22m\u001b[39mPareto shape k = 0.86 > 0.7. Resulting importance sampling estimates are likely to be unstable.\n",
      "\u001b[33m\u001b[1m└ \u001b[22m\u001b[39m\u001b[90m@ PSIS ~/.julia/packages/PSIS/WKXih/src/core.jl:314\u001b[39m\n"
     ]
    },
    {
     "name": "stdout",
     "output_type": "stream",
     "text": [
      "  2.372071 seconds (3.07 M allocations: 2.156 GiB, 7.45% gc time)\n"
     ]
    },
    {
     "data": {
      "text/plain": [
       "Multi-path Pathfinder result\n",
       "  runs: 6\n",
       "  draws: 5000\n",
       "  Pareto shape diagnostic: 0.86 (bad)"
      ]
     },
     "execution_count": 23,
     "metadata": {},
     "output_type": "execute_result"
    }
   ],
   "source": [
    "result_multi = multipathfinder(CMB_model_planck_ultra_fast, 5000; nruns=6, executor = Transducers.PreferParallel())\n",
    "@time result_multi = multipathfinder(CMB_model_planck_ultra_fast, 5000; nruns=6, executor = Transducers.PreferParallel())"
   ]
  },
  {
   "cell_type": "code",
   "execution_count": 24,
   "id": "a655650c",
   "metadata": {},
   "outputs": [
    {
     "data": {
      "text/plain": [
       "Chains MCMC chain (5000×7×1 Array{Float64, 3}):\n",
       "\n",
       "Iterations        = 1:1:5000\n",
       "Number of chains  = 1\n",
       "Samples per chain = 5000\n",
       "parameters        = ln10As, ns, h0, ωb, ωc, τ, yₚ\n",
       "\n",
       "Summary Statistics\n",
       " \u001b[1m parameters \u001b[0m \u001b[1m    mean \u001b[0m \u001b[1m     std \u001b[0m \u001b[1m naive_se \u001b[0m \u001b[1m    mcse \u001b[0m \u001b[1m       ess \u001b[0m \u001b[1m    rhat \u001b[0m\n",
       " \u001b[90m     Symbol \u001b[0m \u001b[90m Float64 \u001b[0m \u001b[90m Float64 \u001b[0m \u001b[90m  Float64 \u001b[0m \u001b[90m Float64 \u001b[0m \u001b[90m   Float64 \u001b[0m \u001b[90m Float64 \u001b[0m\n",
       "\n",
       "      ln10As    0.3052    0.0015     0.0000    0.0000   4956.0946    0.9999\n",
       "          ns    0.9641    0.0044     0.0001    0.0001   4761.1231    1.0000\n",
       "          h0    0.6724    0.0066     0.0001    0.0001   4678.8754    0.9999\n",
       "          ωb    0.2234    0.0014     0.0000    0.0000   4498.5708    1.0002\n",
       "          ωc    0.1204    0.0015     0.0000    0.0000   4847.6505    0.9999\n",
       "           τ    0.0575    0.0074     0.0001    0.0001   4965.5844    0.9998\n",
       "          yₚ    1.0004    0.0024     0.0000    0.0000   4752.8772    0.9998\n",
       "\n",
       "Quantiles\n",
       " \u001b[1m parameters \u001b[0m \u001b[1m    2.5% \u001b[0m \u001b[1m   25.0% \u001b[0m \u001b[1m   50.0% \u001b[0m \u001b[1m   75.0% \u001b[0m \u001b[1m   97.5% \u001b[0m\n",
       " \u001b[90m     Symbol \u001b[0m \u001b[90m Float64 \u001b[0m \u001b[90m Float64 \u001b[0m \u001b[90m Float64 \u001b[0m \u001b[90m Float64 \u001b[0m \u001b[90m Float64 \u001b[0m\n",
       "\n",
       "      ln10As    0.3022    0.3040    0.3052    0.3062    0.3082\n",
       "          ns    0.9549    0.9611    0.9641    0.9670    0.9722\n",
       "          h0    0.6599    0.6679    0.6724    0.6762    0.6871\n",
       "          ωb    0.2206    0.2225    0.2236    0.2243    0.2262\n",
       "          ωc    0.1169    0.1195    0.1205    0.1214    0.1230\n",
       "           τ    0.0429    0.0525    0.0582    0.0623    0.0721\n",
       "          yₚ    0.9961    0.9986    1.0002    1.0021    1.0052\n"
      ]
     },
     "execution_count": 24,
     "metadata": {},
     "output_type": "execute_result"
    }
   ],
   "source": [
    "result_multi.draws_transformed"
   ]
  },
  {
   "cell_type": "code",
   "execution_count": 25,
   "id": "09ad0dd0",
   "metadata": {},
   "outputs": [],
   "source": [
    "nsteps = 5000\n",
    "nadapts = 500\n",
    "nchains = 6\n",
    "\n",
    "init_params = collect.(eachrow(result_multi.draws_transformed.value[1:nchains, :, 1]));"
   ]
  },
  {
   "cell_type": "code",
   "execution_count": 26,
   "id": "feb81894",
   "metadata": {},
   "outputs": [
    {
     "name": "stderr",
     "output_type": "stream",
     "text": [
      "\u001b[36m\u001b[1m┌ \u001b[22m\u001b[39m\u001b[36m\u001b[1mInfo: \u001b[22m\u001b[39mFound initial step size\n",
      "\u001b[36m\u001b[1m└ \u001b[22m\u001b[39m  ϵ = 0.00078125\n",
      "\u001b[36m\u001b[1m┌ \u001b[22m\u001b[39m\u001b[36m\u001b[1mInfo: \u001b[22m\u001b[39mFound initial step size\n",
      "\u001b[36m\u001b[1m└ \u001b[22m\u001b[39m  ϵ = 0.00078125\n",
      "\u001b[36m\u001b[1m┌ \u001b[22m\u001b[39m\u001b[36m\u001b[1mInfo: \u001b[22m\u001b[39mFound initial step size\n",
      "\u001b[36m\u001b[1m└ \u001b[22m\u001b[39m  ϵ = 0.00078125\n",
      "\u001b[36m\u001b[1m┌ \u001b[22m\u001b[39m\u001b[36m\u001b[1mInfo: \u001b[22m\u001b[39mFound initial step size\n",
      "\u001b[36m\u001b[1m└ \u001b[22m\u001b[39m  ϵ = 0.00078125\n",
      "\u001b[36m\u001b[1m┌ \u001b[22m\u001b[39m\u001b[36m\u001b[1mInfo: \u001b[22m\u001b[39mFound initial step size\n",
      "\u001b[36m\u001b[1m└ \u001b[22m\u001b[39m  ϵ = 0.00078125\n",
      "\u001b[36m\u001b[1m┌ \u001b[22m\u001b[39m\u001b[36m\u001b[1mInfo: \u001b[22m\u001b[39mFound initial step size\n",
      "\u001b[36m\u001b[1m└ \u001b[22m\u001b[39m  ϵ = 0.00078125\n",
      "\u001b[32mSampling (6 threads): 100%|█████████████████████████████| Time: 0:01:59\u001b[39m\n"
     ]
    },
    {
     "data": {
      "text/plain": [
       "Chains MCMC chain (5000×19×6 Array{Float64, 3}):\n",
       "\n",
       "Iterations        = 501:1:5500\n",
       "Number of chains  = 6\n",
       "Samples per chain = 5000\n",
       "Wall duration     = 276.41 seconds\n",
       "Compute duration  = 1118.97 seconds\n",
       "parameters        = ln10As, ns, h0, ωb, ωc, τ, yₚ\n",
       "internals         = lp, n_steps, is_accept, acceptance_rate, log_density, hamiltonian_energy, hamiltonian_energy_error, max_hamiltonian_energy_error, tree_depth, numerical_error, step_size, nom_step_size\n",
       "\n",
       "Summary Statistics\n",
       " \u001b[1m parameters \u001b[0m \u001b[1m    mean \u001b[0m \u001b[1m     std \u001b[0m \u001b[1m naive_se \u001b[0m \u001b[1m    mcse \u001b[0m \u001b[1m        ess \u001b[0m \u001b[1m    rhat \u001b[0m \u001b[1m\u001b[0m ⋯\n",
       " \u001b[90m     Symbol \u001b[0m \u001b[90m Float64 \u001b[0m \u001b[90m Float64 \u001b[0m \u001b[90m  Float64 \u001b[0m \u001b[90m Float64 \u001b[0m \u001b[90m    Float64 \u001b[0m \u001b[90m Float64 \u001b[0m \u001b[90m\u001b[0m ⋯\n",
       "\n",
       "      ln10As    0.3052    0.0017     0.0000    0.0000   11639.8212    1.0004   ⋯\n",
       "          ns    0.9635    0.0044     0.0000    0.0000   10188.7458    1.0002   ⋯\n",
       "          h0    0.6714    0.0061     0.0000    0.0001    8512.0156    1.0004   ⋯\n",
       "          ωb    0.2234    0.0015     0.0000    0.0000   11909.8875    1.0002   ⋯\n",
       "          ωc    0.1206    0.0014     0.0000    0.0000    8789.3753    1.0004   ⋯\n",
       "           τ    0.0570    0.0083     0.0000    0.0001   11579.4606    1.0005   ⋯\n",
       "          yₚ    1.0005    0.0025     0.0000    0.0000   40100.0853    1.0000   ⋯\n",
       "\u001b[36m                                                                1 column omitted\u001b[0m\n",
       "\n",
       "Quantiles\n",
       " \u001b[1m parameters \u001b[0m \u001b[1m    2.5% \u001b[0m \u001b[1m   25.0% \u001b[0m \u001b[1m   50.0% \u001b[0m \u001b[1m   75.0% \u001b[0m \u001b[1m   97.5% \u001b[0m\n",
       " \u001b[90m     Symbol \u001b[0m \u001b[90m Float64 \u001b[0m \u001b[90m Float64 \u001b[0m \u001b[90m Float64 \u001b[0m \u001b[90m Float64 \u001b[0m \u001b[90m Float64 \u001b[0m\n",
       "\n",
       "      ln10As    0.3018    0.3040    0.3052    0.3063    0.3085\n",
       "          ns    0.9547    0.9605    0.9634    0.9665    0.9721\n",
       "          h0    0.6594    0.6672    0.6713    0.6755    0.6835\n",
       "          ωb    0.2206    0.2224    0.2234    0.2244    0.2263\n",
       "          ωc    0.1179    0.1197    0.1206    0.1216    0.1234\n",
       "           τ    0.0407    0.0515    0.0570    0.0625    0.0733\n",
       "          yₚ    0.9957    0.9989    1.0005    1.0022    1.0054\n"
      ]
     },
     "execution_count": 26,
     "metadata": {},
     "output_type": "execute_result"
    }
   ],
   "source": [
    "chains_planck_std_NUTS = sample(CMB_model_planck_ultra_fast, NUTS(nadapts, 0.65), MCMCThreads(), 5000, nchains; init_params = init_params)"
   ]
  },
  {
   "cell_type": "code",
   "execution_count": 27,
   "id": "886b8e17",
   "metadata": {},
   "outputs": [
    {
     "data": {
      "text/plain": [
       "13.113964795355797"
      ]
     },
     "execution_count": 27,
     "metadata": {},
     "output_type": "execute_result"
    }
   ],
   "source": [
    "CPU_s_Planck_NUTS = compute_duration(chains_planck_std_NUTS)\n",
    "Planck_NUTS_ESS = mean(MCMCDiagnosticTools.ess_rhat(chains_planck_std_NUTS)[[:ln10As, :ns, :h0, :ωb,:ωc, :τ, :yₚ],:ess])\n",
    "Planck_NUTS_ESS_s = Planck_NUTS_ESS/CPU_s_Planck_NUTS"
   ]
  },
  {
   "attachments": {},
   "cell_type": "markdown",
   "id": "feb0984e",
   "metadata": {},
   "source": [
    "## MCHMC Stuff"
   ]
  },
  {
   "cell_type": "code",
   "execution_count": 28,
   "id": "0cf26200",
   "metadata": {},
   "outputs": [
    {
     "name": "stderr",
     "output_type": "stream",
     "text": [
      "\u001b[36m\u001b[1m[ \u001b[22m\u001b[39m\u001b[36m\u001b[1mInfo: \u001b[22m\u001b[39mTuning sigma ⏳\n",
      "\u001b[36m\u001b[1m[ \u001b[22m\u001b[39m\u001b[36m\u001b[1mInfo: \u001b[22m\u001b[39mTuning eps ⏳\n",
      "\u001b[32mMCHMC (tuning):  19%|██████▌                            |  ETA: 0:00:08\u001b[39m"
     ]
    },
    {
     "name": "stdout",
     "output_type": "stream",
     "text": [
      "Burn in step: 4000\n",
      "eps --->0.0008829448115867843\n"
     ]
    },
    {
     "name": "stderr",
     "output_type": "stream",
     "text": [
      "\u001b[32mMCHMC (tuning):  39%|█████████████▊                     |  ETA: 0:00:05\u001b[39m"
     ]
    },
    {
     "name": "stdout",
     "output_type": "stream",
     "text": [
      "Burn in step: 8000\n",
      "eps --->0.02966841877080876\n"
     ]
    },
    {
     "name": "stderr",
     "output_type": "stream",
     "text": [
      "\u001b[32mMCHMC (tuning):  60%|████████████████████▉              |  ETA: 0:00:03\u001b[39m"
     ]
    },
    {
     "name": "stdout",
     "output_type": "stream",
     "text": [
      "Burn in step: 12000\n",
      "eps --->0.029843598044139125\n"
     ]
    },
    {
     "name": "stderr",
     "output_type": "stream",
     "text": [
      "\u001b[32mMCHMC (tuning):  79%|███████████████████████████▊       |  ETA: 0:00:02\u001b[39m"
     ]
    },
    {
     "name": "stdout",
     "output_type": "stream",
     "text": [
      "Burn in step: 16000\n",
      "eps --->0.02533791589915911\n"
     ]
    },
    {
     "name": "stderr",
     "output_type": "stream",
     "text": [
      "\u001b[A2mMCHMC (tuning): 100%|███████████████████████████████████| Time: 0:00:08\u001b[39m"
     ]
    },
    {
     "name": "stdout",
     "output_type": "stream",
     "text": [
      "Burn in step: 20000\n",
      "eps --->0.040625519544314585\n"
     ]
    },
    {
     "name": "stderr",
     "output_type": "stream",
     "text": [
      "\u001b[36m\u001b[1m[ \u001b[22m\u001b[39m\u001b[36m\u001b[1mInfo: \u001b[22m\u001b[39meps: 0.040625519544314585\n",
      "\u001b[36m\u001b[1m[ \u001b[22m\u001b[39m\u001b[36m\u001b[1mInfo: \u001b[22m\u001b[39mL: 2.6457513110645907\n",
      "\u001b[36m\u001b[1m[ \u001b[22m\u001b[39m\u001b[36m\u001b[1mInfo: \u001b[22m\u001b[39mnu: 0.06674730901284426\n",
      "\u001b[36m\u001b[1m[ \u001b[22m\u001b[39m\u001b[36m\u001b[1mInfo: \u001b[22m\u001b[39msigma: [0.1634958803877195, 0.8212187234497526, 0.262846033343063, 0.21954311540080532, 0.3475448868158938, 0.016689597632101504, 0.0026615390685791906]\n",
      "\u001b[36m\u001b[1m[ \u001b[22m\u001b[39m\u001b[36m\u001b[1mInfo: \u001b[22m\u001b[39madaptive: true\n",
      "\u001b[A2mMCHMC: 100%|████████████████████████████████████████████| Time: 0:01:07\u001b[39m"
     ]
    },
    {
     "name": "stdout",
     "output_type": "stream",
     "text": [
      " 79.793967 seconds (71.28 M allocations: 73.658 GiB, 8.91% gc time, 4.28% compilation time: <1% of which was recompilation)\n"
     ]
    },
    {
     "data": {
      "text/plain": [
       "79.8123459815979"
      ]
     },
     "execution_count": 28,
     "metadata": {},
     "output_type": "execute_result"
    }
   ],
   "source": [
    "d = 7\n",
    "target = TuringTarget(CMB_model_planck_ultra_fast)\n",
    "nadapts = 20_000\n",
    "nsteps = 200000\n",
    "\n",
    "spl = MCHMC(nadapts, 0.001; init_eps=0.05, L=sqrt(d),# sigma=ones(d),  #try higher init_eps\n",
    "            adaptive=true)\n",
    "start_mchmc = time()\n",
    "@time planck_mchmc = Sample(spl, target, nsteps;\n",
    "                    progress=true,\n",
    "                    dialog=true, file_name=\"chain_1\",\n",
    "                    initial_x=bestfit_Planck.values.array)\n",
    "end_mchmc = time()\n",
    "end_mchmc - start_mchmc"
   ]
  },
  {
   "cell_type": "code",
   "execution_count": 29,
   "id": "66667ae4",
   "metadata": {},
   "outputs": [
    {
     "name": "stderr",
     "output_type": "stream",
     "text": [
      "\u001b[36m\u001b[1m[ \u001b[22m\u001b[39m\u001b[36m\u001b[1mInfo: \u001b[22m\u001b[39mTuning sigma ⏳\n",
      "\u001b[36m\u001b[1m[ \u001b[22m\u001b[39m\u001b[36m\u001b[1mInfo: \u001b[22m\u001b[39mTuning eps ⏳\n",
      "\u001b[32mMCHMC (tuning):  19%|██████▊                            |  ETA: 0:00:06\u001b[39m"
     ]
    },
    {
     "name": "stdout",
     "output_type": "stream",
     "text": [
      "Burn in step: 4000\n",
      "eps --->0.0013449731916332305\n"
     ]
    },
    {
     "name": "stderr",
     "output_type": "stream",
     "text": [
      "\u001b[32mMCHMC (tuning):  40%|█████████████▉                     |  ETA: 0:00:04\u001b[39m"
     ]
    },
    {
     "name": "stdout",
     "output_type": "stream",
     "text": [
      "Burn in step: 8000\n",
      "eps --->0.019980299044730494\n"
     ]
    },
    {
     "name": "stderr",
     "output_type": "stream",
     "text": [
      "\u001b[32mMCHMC (tuning):  59%|████████████████████▊              |  ETA: 0:00:03\u001b[39m"
     ]
    },
    {
     "name": "stdout",
     "output_type": "stream",
     "text": [
      "Burn in step: 12000\n",
      "eps --->0.01862988518083222\n"
     ]
    },
    {
     "name": "stderr",
     "output_type": "stream",
     "text": [
      "\u001b[32mMCHMC (tuning):  79%|███████████████████████████▊       |  ETA: 0:00:02\u001b[39m"
     ]
    },
    {
     "name": "stdout",
     "output_type": "stream",
     "text": [
      "Burn in step: 16000\n",
      "eps --->0.02592944204619462\n"
     ]
    },
    {
     "name": "stderr",
     "output_type": "stream",
     "text": [
      "\u001b[A2mMCHMC (tuning): 100%|███████████████████████████████████| Time: 0:00:08\u001b[39m"
     ]
    },
    {
     "name": "stdout",
     "output_type": "stream",
     "text": [
      "Burn in step: 20000\n",
      "eps --->0.043868544136649125\n"
     ]
    },
    {
     "name": "stderr",
     "output_type": "stream",
     "text": [
      "\u001b[36m\u001b[1m[ \u001b[22m\u001b[39m\u001b[36m\u001b[1mInfo: \u001b[22m\u001b[39meps: 0.043868544136649125\n",
      "\u001b[36m\u001b[1m[ \u001b[22m\u001b[39m\u001b[36m\u001b[1mInfo: \u001b[22m\u001b[39mL: 2.6457513110645907\n",
      "\u001b[36m\u001b[1m[ \u001b[22m\u001b[39m\u001b[36m\u001b[1mInfo: \u001b[22m\u001b[39mnu: 0.0694030398099291\n",
      "\u001b[36m\u001b[1m[ \u001b[22m\u001b[39m\u001b[36m\u001b[1mInfo: \u001b[22m\u001b[39msigma: [0.25680592153641824, 0.20055287900132526, 0.6062114562216662, 0.25136564281333457, 0.20150830626346186, 0.025137689252103006, 0.006237074846953144]\n",
      "\u001b[36m\u001b[1m[ \u001b[22m\u001b[39m\u001b[36m\u001b[1mInfo: \u001b[22m\u001b[39madaptive: true\n",
      "\u001b[A2mMCHMC: 100%|████████████████████████████████████████████| Time: 0:01:10\u001b[39m\u001b[36m\u001b[1m[ \u001b[22m\u001b[39m\u001b[36m\u001b[1mInfo: \u001b[22m\u001b[39mTuning sigma ⏳\n",
      "\u001b[36m\u001b[1m[ \u001b[22m\u001b[39m\u001b[36m\u001b[1mInfo: \u001b[22m\u001b[39mTuning eps ⏳\n",
      "\u001b[32mMCHMC (tuning):  20%|██████▉                            |  ETA: 0:00:06\u001b[39m"
     ]
    },
    {
     "name": "stdout",
     "output_type": "stream",
     "text": [
      "Burn in step: 4000\n",
      "eps --->0.0014753473541276416\n"
     ]
    },
    {
     "name": "stderr",
     "output_type": "stream",
     "text": [
      "\u001b[32mMCHMC (tuning):  39%|█████████████▊                     |  ETA: 0:00:05\u001b[39m"
     ]
    },
    {
     "name": "stdout",
     "output_type": "stream",
     "text": [
      "Burn in step: 8000\n",
      "eps --->0.016610930737759155\n"
     ]
    },
    {
     "name": "stderr",
     "output_type": "stream",
     "text": [
      "\u001b[32mMCHMC (tuning):  60%|████████████████████▉              |  ETA: 0:00:03\u001b[39m"
     ]
    },
    {
     "name": "stdout",
     "output_type": "stream",
     "text": [
      "Burn in step: 12000\n",
      "eps --->0.016756065462298655\n"
     ]
    },
    {
     "name": "stderr",
     "output_type": "stream",
     "text": [
      "\u001b[32mMCHMC (tuning):  80%|███████████████████████████▉       |  ETA: 0:00:02\u001b[39m"
     ]
    },
    {
     "name": "stdout",
     "output_type": "stream",
     "text": [
      "Burn in step: 16000\n",
      "eps --->0.014290416392221185\n"
     ]
    },
    {
     "name": "stderr",
     "output_type": "stream",
     "text": [
      "\u001b[A2mMCHMC (tuning): 100%|███████████████████████████████████| Time: 0:00:08\u001b[39m"
     ]
    },
    {
     "name": "stdout",
     "output_type": "stream",
     "text": [
      "Burn in step: 20000\n",
      "eps --->0.018107129668612502\n"
     ]
    },
    {
     "name": "stderr",
     "output_type": "stream",
     "text": [
      "\u001b[36m\u001b[1m[ \u001b[22m\u001b[39m\u001b[36m\u001b[1mInfo: \u001b[22m\u001b[39meps: 0.018107129668612502\n",
      "\u001b[36m\u001b[1m[ \u001b[22m\u001b[39m\u001b[36m\u001b[1mInfo: \u001b[22m\u001b[39mL: 2.6457513110645907\n",
      "\u001b[36m\u001b[1m[ \u001b[22m\u001b[39m\u001b[36m\u001b[1mInfo: \u001b[22m\u001b[39mnu: 0.0443714981412406\n",
      "\u001b[36m\u001b[1m[ \u001b[22m\u001b[39m\u001b[36m\u001b[1mInfo: \u001b[22m\u001b[39msigma: [0.17091482953569923, 0.7818296153287377, 0.6538226504773079, 0.26698359051927145, 0.7631834297024751, 0.009693936537677875, 0.002718700488156737]\n",
      "\u001b[36m\u001b[1m[ \u001b[22m\u001b[39m\u001b[36m\u001b[1mInfo: \u001b[22m\u001b[39madaptive: true\n",
      "\u001b[A2mMCHMC: 100%|████████████████████████████████████████████| Time: 0:01:06\u001b[39m\u001b[36m\u001b[1m[ \u001b[22m\u001b[39m\u001b[36m\u001b[1mInfo: \u001b[22m\u001b[39mTuning sigma ⏳\n",
      "\u001b[36m\u001b[1m[ \u001b[22m\u001b[39m\u001b[36m\u001b[1mInfo: \u001b[22m\u001b[39mTuning eps ⏳\n",
      "\u001b[32mMCHMC (tuning):  20%|██████▉                            |  ETA: 0:00:05\u001b[39m"
     ]
    },
    {
     "name": "stdout",
     "output_type": "stream",
     "text": [
      "Burn in step: 4000\n",
      "eps --->0.001246149401440086\n"
     ]
    },
    {
     "name": "stderr",
     "output_type": "stream",
     "text": [
      "\u001b[32mMCHMC (tuning):  40%|█████████████▉                     |  ETA: 0:00:04\u001b[39m"
     ]
    },
    {
     "name": "stdout",
     "output_type": "stream",
     "text": [
      "Burn in step: 8000\n",
      "eps --->0.02387924121423621\n"
     ]
    },
    {
     "name": "stderr",
     "output_type": "stream",
     "text": [
      "\u001b[32mMCHMC (tuning):  59%|████████████████████▋              |  ETA: 0:00:03\u001b[39m"
     ]
    },
    {
     "name": "stdout",
     "output_type": "stream",
     "text": [
      "Burn in step: 12000\n",
      "eps --->0.023677761401292394\n"
     ]
    },
    {
     "name": "stderr",
     "output_type": "stream",
     "text": [
      "\u001b[32mMCHMC (tuning):  79%|███████████████████████████▊       |  ETA: 0:00:02\u001b[39m"
     ]
    },
    {
     "name": "stdout",
     "output_type": "stream",
     "text": [
      "Burn in step: 16000\n",
      "eps --->0.03350080508713381\n"
     ]
    },
    {
     "name": "stderr",
     "output_type": "stream",
     "text": [
      "\u001b[A2mMCHMC (tuning): 100%|███████████████████████████████████| Time: 0:00:08\u001b[39m"
     ]
    },
    {
     "name": "stdout",
     "output_type": "stream",
     "text": [
      "Burn in step: 20000\n",
      "eps --->0.03937270867456345\n"
     ]
    },
    {
     "name": "stderr",
     "output_type": "stream",
     "text": [
      "\u001b[36m\u001b[1m[ \u001b[22m\u001b[39m\u001b[36m\u001b[1mInfo: \u001b[22m\u001b[39meps: 0.03937270867456345\n",
      "\u001b[36m\u001b[1m[ \u001b[22m\u001b[39m\u001b[36m\u001b[1mInfo: \u001b[22m\u001b[39mL: 2.6457513110645907\n",
      "\u001b[36m\u001b[1m[ \u001b[22m\u001b[39m\u001b[36m\u001b[1mInfo: \u001b[22m\u001b[39mnu: 0.065694438159419\n",
      "\u001b[36m\u001b[1m[ \u001b[22m\u001b[39m\u001b[36m\u001b[1mInfo: \u001b[22m\u001b[39msigma: [0.22072638675224698, 0.5921380931522368, 0.6187270846312162, 0.3376309611234896, 0.25698216724641293, 0.014704115110827753, 0.006824927429159037]\n",
      "\u001b[36m\u001b[1m[ \u001b[22m\u001b[39m\u001b[36m\u001b[1mInfo: \u001b[22m\u001b[39madaptive: true\n",
      "\u001b[A2mMCHMC: 100%|████████████████████████████████████████████| Time: 0:01:08\u001b[39m\u001b[36m\u001b[1m[ \u001b[22m\u001b[39m\u001b[36m\u001b[1mInfo: \u001b[22m\u001b[39mTuning sigma ⏳\n",
      "\u001b[36m\u001b[1m[ \u001b[22m\u001b[39m\u001b[36m\u001b[1mInfo: \u001b[22m\u001b[39mTuning eps ⏳\n",
      "\u001b[32mMCHMC (tuning):  19%|██████▊                            |  ETA: 0:00:06\u001b[39m"
     ]
    },
    {
     "name": "stdout",
     "output_type": "stream",
     "text": [
      "Burn in step: 4000\n",
      "eps --->0.0013863830772652846\n"
     ]
    },
    {
     "name": "stderr",
     "output_type": "stream",
     "text": [
      "\u001b[32mMCHMC (tuning):  40%|██████████████                     |  ETA: 0:00:04\u001b[39m"
     ]
    },
    {
     "name": "stdout",
     "output_type": "stream",
     "text": [
      "Burn in step: 8000\n",
      "eps --->0.03250846424110592\n"
     ]
    },
    {
     "name": "stderr",
     "output_type": "stream",
     "text": [
      "\u001b[32mMCHMC (tuning):  59%|████████████████████▋              |  ETA: 0:00:03\u001b[39m"
     ]
    },
    {
     "name": "stdout",
     "output_type": "stream",
     "text": [
      "Burn in step: 12000\n",
      "eps --->0.04162347309975169\n"
     ]
    },
    {
     "name": "stderr",
     "output_type": "stream",
     "text": [
      "\u001b[32mMCHMC (tuning):  80%|███████████████████████████▉       |  ETA: 0:00:02\u001b[39m"
     ]
    },
    {
     "name": "stdout",
     "output_type": "stream",
     "text": [
      "Burn in step: 16000\n",
      "eps --->0.043869662150601604\n"
     ]
    },
    {
     "name": "stderr",
     "output_type": "stream",
     "text": [
      "\u001b[A2mMCHMC (tuning): 100%|███████████████████████████████████| Time: 0:00:08\u001b[39m"
     ]
    },
    {
     "name": "stdout",
     "output_type": "stream",
     "text": [
      "Burn in step: 20000\n",
      "eps --->0.04888621056961595\n"
     ]
    },
    {
     "name": "stderr",
     "output_type": "stream",
     "text": [
      "\u001b[36m\u001b[1m[ \u001b[22m\u001b[39m\u001b[36m\u001b[1mInfo: \u001b[22m\u001b[39meps: 0.04888621056961595\n",
      "\u001b[36m\u001b[1m[ \u001b[22m\u001b[39m\u001b[36m\u001b[1mInfo: \u001b[22m\u001b[39mL: 2.6457513110645907\n",
      "\u001b[36m\u001b[1m[ \u001b[22m\u001b[39m\u001b[36m\u001b[1mInfo: \u001b[22m\u001b[39mnu: 0.07333466201691945\n",
      "\u001b[36m\u001b[1m[ \u001b[22m\u001b[39m\u001b[36m\u001b[1mInfo: \u001b[22m\u001b[39msigma: [0.11878455947644172, 0.21643818548171934, 0.48912201794295357, 0.6135499160757449, 0.13132072651847282, 0.01247726899861755, 0.0030821101748852503]\n",
      "\u001b[36m\u001b[1m[ \u001b[22m\u001b[39m\u001b[36m\u001b[1mInfo: \u001b[22m\u001b[39madaptive: true\n",
      "\u001b[A2mMCHMC: 100%|████████████████████████████████████████████| Time: 0:01:08\u001b[39m\u001b[36m\u001b[1m[ \u001b[22m\u001b[39m\u001b[36m\u001b[1mInfo: \u001b[22m\u001b[39mTuning sigma ⏳\n",
      "\u001b[36m\u001b[1m[ \u001b[22m\u001b[39m\u001b[36m\u001b[1mInfo: \u001b[22m\u001b[39mTuning eps ⏳\n",
      "\u001b[32mMCHMC (tuning):  19%|██████▌                            |  ETA: 0:00:06\u001b[39m"
     ]
    },
    {
     "name": "stdout",
     "output_type": "stream",
     "text": [
      "Burn in step: 4000\n",
      "eps --->0.0008270512809983288\n"
     ]
    },
    {
     "name": "stderr",
     "output_type": "stream",
     "text": [
      "\u001b[32mMCHMC (tuning):  40%|█████████████▉                     |  ETA: 0:00:05\u001b[39m"
     ]
    },
    {
     "name": "stdout",
     "output_type": "stream",
     "text": [
      "Burn in step: 8000\n",
      "eps --->0.010955583097204818\n"
     ]
    },
    {
     "name": "stderr",
     "output_type": "stream",
     "text": [
      "\u001b[32mMCHMC (tuning):  60%|████████████████████▉              |  ETA: 0:00:03\u001b[39m"
     ]
    },
    {
     "name": "stdout",
     "output_type": "stream",
     "text": [
      "Burn in step: 12000\n",
      "eps --->0.01781813974501131\n"
     ]
    },
    {
     "name": "stderr",
     "output_type": "stream",
     "text": [
      "\u001b[32mMCHMC (tuning):  80%|███████████████████████████▉       |  ETA: 0:00:02\u001b[39m"
     ]
    },
    {
     "name": "stdout",
     "output_type": "stream",
     "text": [
      "Burn in step: 16000\n",
      "eps --->0.024006352348185194\n"
     ]
    },
    {
     "name": "stderr",
     "output_type": "stream",
     "text": [
      "\u001b[A2mMCHMC (tuning): 100%|███████████████████████████████████| Time: 0:00:08\u001b[39m"
     ]
    },
    {
     "name": "stdout",
     "output_type": "stream",
     "text": [
      "Burn in step: 20000\n",
      "eps --->0.018836996088219548\n"
     ]
    },
    {
     "name": "stderr",
     "output_type": "stream",
     "text": [
      "\u001b[36m\u001b[1m[ \u001b[22m\u001b[39m\u001b[36m\u001b[1mInfo: \u001b[22m\u001b[39meps: 0.018836996088219548\n",
      "\u001b[36m\u001b[1m[ \u001b[22m\u001b[39m\u001b[36m\u001b[1mInfo: \u001b[22m\u001b[39mL: 2.6457513110645907\n",
      "\u001b[36m\u001b[1m[ \u001b[22m\u001b[39m\u001b[36m\u001b[1mInfo: \u001b[22m\u001b[39mnu: 0.045263189411676924\n",
      "\u001b[36m\u001b[1m[ \u001b[22m\u001b[39m\u001b[36m\u001b[1mInfo: \u001b[22m\u001b[39msigma: [0.44844543169193624, 0.1934457071460337, 0.2730860751129681, 0.2919774947104515, 0.09743948753798433, 0.02994146265024506, 0.00973025796851606]\n",
      "\u001b[36m\u001b[1m[ \u001b[22m\u001b[39m\u001b[36m\u001b[1mInfo: \u001b[22m\u001b[39madaptive: true\n",
      "\u001b[A2mMCHMC: 100%|████████████████████████████████████████████| Time: 0:01:08\u001b[39m\u001b[36m\u001b[1m[ \u001b[22m\u001b[39m\u001b[36m\u001b[1mInfo: \u001b[22m\u001b[39mTuning sigma ⏳\n",
      "\u001b[36m\u001b[1m[ \u001b[22m\u001b[39m\u001b[36m\u001b[1mInfo: \u001b[22m\u001b[39mTuning eps ⏳\n",
      "\u001b[32mMCHMC (tuning):  20%|██████▉                            |  ETA: 0:00:06\u001b[39m"
     ]
    },
    {
     "name": "stdout",
     "output_type": "stream",
     "text": [
      "Burn in step: 4000\n",
      "eps --->0.0011362815815864314\n"
     ]
    },
    {
     "name": "stderr",
     "output_type": "stream",
     "text": [
      "\u001b[32mMCHMC (tuning):  39%|█████████████▊                     |  ETA: 0:00:05\u001b[39m"
     ]
    },
    {
     "name": "stdout",
     "output_type": "stream",
     "text": [
      "Burn in step: 8000\n",
      "eps --->0.048015623252826795\n"
     ]
    },
    {
     "name": "stderr",
     "output_type": "stream",
     "text": [
      "\u001b[32mMCHMC (tuning):  59%|████████████████████▊              |  ETA: 0:00:03\u001b[39m"
     ]
    },
    {
     "name": "stdout",
     "output_type": "stream",
     "text": [
      "Burn in step: 12000\n",
      "eps --->0.07049827677333437\n"
     ]
    },
    {
     "name": "stderr",
     "output_type": "stream",
     "text": [
      "\u001b[32mMCHMC (tuning):  79%|███████████████████████████▊       |  ETA: 0:00:02\u001b[39m"
     ]
    },
    {
     "name": "stdout",
     "output_type": "stream",
     "text": [
      "Burn in step: 16000\n",
      "eps --->0.09059055053697662\n"
     ]
    },
    {
     "name": "stderr",
     "output_type": "stream",
     "text": [
      "\u001b[A2mMCHMC (tuning): 100%|███████████████████████████████████| Time: 0:00:08\u001b[39m"
     ]
    },
    {
     "name": "stdout",
     "output_type": "stream",
     "text": [
      "Burn in step: 20000\n",
      "eps --->0.09580528197047496\n"
     ]
    },
    {
     "name": "stderr",
     "output_type": "stream",
     "text": [
      "\u001b[36m\u001b[1m[ \u001b[22m\u001b[39m\u001b[36m\u001b[1mInfo: \u001b[22m\u001b[39meps: 0.09580528197047496\n",
      "\u001b[36m\u001b[1m[ \u001b[22m\u001b[39m\u001b[36m\u001b[1mInfo: \u001b[22m\u001b[39mL: 2.6457513110645907\n",
      "\u001b[36m\u001b[1m[ \u001b[22m\u001b[39m\u001b[36m\u001b[1mInfo: \u001b[22m\u001b[39mnu: 0.10358497483436328\n",
      "\u001b[36m\u001b[1m[ \u001b[22m\u001b[39m\u001b[36m\u001b[1mInfo: \u001b[22m\u001b[39msigma: [0.08598148346307614, 0.6283480746616772, 0.26121270562213605, 0.43046267218443574, 0.06982834946904665, 0.010709674458709505, 0.0026408372504911886]\n",
      "\u001b[36m\u001b[1m[ \u001b[22m\u001b[39m\u001b[36m\u001b[1mInfo: \u001b[22m\u001b[39madaptive: true\n",
      "\u001b[A2mMCHMC: 100%|████████████████████████████████████████████| Time: 0:01:08\u001b[39m\u001b[36m\u001b[1m[ \u001b[22m\u001b[39m\u001b[36m\u001b[1mInfo: \u001b[22m\u001b[39mTuning sigma ⏳\n",
      "\u001b[36m\u001b[1m[ \u001b[22m\u001b[39m\u001b[36m\u001b[1mInfo: \u001b[22m\u001b[39mTuning eps ⏳\n",
      "\u001b[32mMCHMC (tuning):  19%|██████▊                            |  ETA: 0:00:06\u001b[39m"
     ]
    },
    {
     "name": "stdout",
     "output_type": "stream",
     "text": [
      "Burn in step: 4000\n",
      "eps --->0.001150150243592848\n"
     ]
    },
    {
     "name": "stderr",
     "output_type": "stream",
     "text": [
      "\u001b[32mMCHMC (tuning):  39%|█████████████▋                     |  ETA: 0:00:04\u001b[39m"
     ]
    },
    {
     "name": "stdout",
     "output_type": "stream",
     "text": [
      "Burn in step: 8000\n",
      "eps --->0.01710626356420542\n"
     ]
    },
    {
     "name": "stderr",
     "output_type": "stream",
     "text": [
      "\u001b[32mMCHMC (tuning):  60%|████████████████████▉              |  ETA: 0:00:03\u001b[39m"
     ]
    },
    {
     "name": "stdout",
     "output_type": "stream",
     "text": [
      "Burn in step: 12000\n",
      "eps --->0.028862366462219294\n"
     ]
    },
    {
     "name": "stderr",
     "output_type": "stream",
     "text": [
      "\u001b[32mMCHMC (tuning):  80%|████████████████████████████       |  ETA: 0:00:02\u001b[39m"
     ]
    },
    {
     "name": "stdout",
     "output_type": "stream",
     "text": [
      "Burn in step: 16000\n",
      "eps --->0.03576190370083832\n"
     ]
    },
    {
     "name": "stderr",
     "output_type": "stream",
     "text": [
      "\u001b[A2mMCHMC (tuning): 100%|███████████████████████████████████| Time: 0:00:08\u001b[39m"
     ]
    },
    {
     "name": "stdout",
     "output_type": "stream",
     "text": [
      "Burn in step: 20000\n",
      "eps --->0.04405990928638161\n"
     ]
    },
    {
     "name": "stderr",
     "output_type": "stream",
     "text": [
      "\u001b[36m\u001b[1m[ \u001b[22m\u001b[39m\u001b[36m\u001b[1mInfo: \u001b[22m\u001b[39meps: 0.04405990928638161\n",
      "\u001b[36m\u001b[1m[ \u001b[22m\u001b[39m\u001b[36m\u001b[1mInfo: \u001b[22m\u001b[39mL: 2.6457513110645907\n",
      "\u001b[36m\u001b[1m[ \u001b[22m\u001b[39m\u001b[36m\u001b[1mInfo: \u001b[22m\u001b[39mnu: 0.06955678084841024\n",
      "\u001b[36m\u001b[1m[ \u001b[22m\u001b[39m\u001b[36m\u001b[1mInfo: \u001b[22m\u001b[39msigma: [0.11487761082062531, 0.12769266875677945, 0.31057229368615696, 0.5044361841927906, 0.334772696554643, 0.014288163075227917, 0.0032421706827797723]\n",
      "\u001b[36m\u001b[1m[ \u001b[22m\u001b[39m\u001b[36m\u001b[1mInfo: \u001b[22m\u001b[39madaptive: true\n",
      "\u001b[A2mMCHMC: 100%|████████████████████████████████████████████| Time: 0:01:09\u001b[39m\u001b[36m\u001b[1m[ \u001b[22m\u001b[39m\u001b[36m\u001b[1mInfo: \u001b[22m\u001b[39mTuning sigma ⏳\n",
      "\u001b[36m\u001b[1m[ \u001b[22m\u001b[39m\u001b[36m\u001b[1mInfo: \u001b[22m\u001b[39mTuning eps ⏳\n",
      "\u001b[32mMCHMC (tuning):  19%|██████▊                            |  ETA: 0:00:06\u001b[39m"
     ]
    },
    {
     "name": "stdout",
     "output_type": "stream",
     "text": [
      "Burn in step: 4000\n",
      "eps --->0.002178755492108674\n"
     ]
    },
    {
     "name": "stderr",
     "output_type": "stream",
     "text": [
      "\u001b[32mMCHMC (tuning):  39%|█████████████▋                     |  ETA: 0:00:05\u001b[39m"
     ]
    },
    {
     "name": "stdout",
     "output_type": "stream",
     "text": [
      "Burn in step: 8000\n",
      "eps --->0.0047645998005947455\n"
     ]
    },
    {
     "name": "stderr",
     "output_type": "stream",
     "text": [
      "\u001b[32mMCHMC (tuning):  60%|████████████████████▉              |  ETA: 0:00:03\u001b[39m"
     ]
    },
    {
     "name": "stdout",
     "output_type": "stream",
     "text": [
      "Burn in step: 12000\n",
      "eps --->0.0035478036171247987\n"
     ]
    },
    {
     "name": "stderr",
     "output_type": "stream",
     "text": [
      "\u001b[32mMCHMC (tuning):  79%|███████████████████████████▊       |  ETA: 0:00:02\u001b[39m"
     ]
    },
    {
     "name": "stdout",
     "output_type": "stream",
     "text": [
      "Burn in step: 16000\n",
      "eps --->0.00498175424546503\n"
     ]
    },
    {
     "name": "stderr",
     "output_type": "stream",
     "text": [
      "\u001b[A2mMCHMC (tuning): 100%|███████████████████████████████████| Time: 0:00:08\u001b[39m"
     ]
    },
    {
     "name": "stdout",
     "output_type": "stream",
     "text": [
      "Burn in step: 20000\n",
      "eps --->0.004367432679407797\n"
     ]
    },
    {
     "name": "stderr",
     "output_type": "stream",
     "text": [
      "\u001b[36m\u001b[1m[ \u001b[22m\u001b[39m\u001b[36m\u001b[1mInfo: \u001b[22m\u001b[39meps: 0.004367432679407797\n",
      "\u001b[36m\u001b[1m[ \u001b[22m\u001b[39m\u001b[36m\u001b[1mInfo: \u001b[22m\u001b[39mL: 2.6457513110645907\n",
      "\u001b[36m\u001b[1m[ \u001b[22m\u001b[39m\u001b[36m\u001b[1mInfo: \u001b[22m\u001b[39mnu: 0.02173517436475978\n",
      "\u001b[36m\u001b[1m[ \u001b[22m\u001b[39m\u001b[36m\u001b[1mInfo: \u001b[22m\u001b[39msigma: [1.8539839306045331, 1.046719649926175, 0.7433681891444796, 0.24270596474824502, 0.3953075484982785, 0.031656218640451664, 0.04896061482102929]\n",
      "\u001b[36m\u001b[1m[ \u001b[22m\u001b[39m\u001b[36m\u001b[1mInfo: \u001b[22m\u001b[39madaptive: true\n",
      "\u001b[A2mMCHMC: 100%|████████████████████████████████████████████| Time: 0:01:11\u001b[39m"
     ]
    },
    {
     "name": "stdout",
     "output_type": "stream",
     "text": [
      "637.483093 seconds (521.41 M allocations: 633.998 GiB, 9.16% gc time)\n"
     ]
    },
    {
     "data": {
      "text/plain": [
       "637.5245652198792"
      ]
     },
     "execution_count": 29,
     "metadata": {},
     "output_type": "execute_result"
    }
   ],
   "source": [
    "n_parallel_mchmc = 8\n",
    "chains = Vector{Any}(undef, n_parallel_mchmc)\n",
    "vec_ess = zeros(n_parallel_mchmc)\n",
    "\n",
    "start_mchmc = time()\n",
    "@time for i in 1:n_parallel_mchmc\n",
    "    chains[i] = Sample(MCHMC(nadapts, 0.001; init_eps=0.05, L=sqrt(d), adaptive=true), target, nsteps;\n",
    "                       progress=true,\n",
    "                       dialog=true, file_name=\"chain_1\",\n",
    "                       initial_x=bestfit_Planck.values.array)\n",
    "    vec_ess[i] = mean(Summarize(chains[i])[1][1:7])\n",
    "end\n",
    "\n",
    "end_mchmc = time()\n",
    "time_mchmc_parallel_Planck = end_mchmc - start_mchmc"
   ]
  },
  {
   "cell_type": "code",
   "execution_count": 30,
   "id": "f6e0df3d",
   "metadata": {},
   "outputs": [
    {
     "data": {
      "text/plain": [
       "36.53307303904201"
      ]
     },
     "execution_count": 30,
     "metadata": {},
     "output_type": "execute_result"
    }
   ],
   "source": [
    "Planck_MCHMC_parallel_ESS_s = sum(vec_ess)/time_mchmc_parallel_Planck"
   ]
  },
  {
   "cell_type": "code",
   "execution_count": 31,
   "id": "86bf6655",
   "metadata": {},
   "outputs": [],
   "source": [
    "x = [mapreduce(permutedims, vcat, chains[i]) for i in 1:n_parallel_mchmc]\n",
    "\n",
    "planck_mchmc_multi_chains = zeros(nsteps*n_parallel_mchmc, 7)\n",
    "for i in 1:7\n",
    "    planck_mchmc_multi_chains[:,i] = extract_single(x, i, n_parallel_mchmc)\n",
    "end"
   ]
  },
  {
   "cell_type": "code",
   "execution_count": 33,
   "id": "f361c7a7",
   "metadata": {},
   "outputs": [],
   "source": [
    "npzwrite(\"chains_Planck_cheb_PlanckLite_MCHMC_multi.npy\", planck_mchmc_multi_chains)"
   ]
  },
  {
   "cell_type": "code",
   "execution_count": null,
   "id": "7a03439d",
   "metadata": {},
   "outputs": [],
   "source": []
  }
 ],
 "metadata": {
  "kernelspec": {
   "display_name": "nt 8 1.9.2",
   "language": "julia",
   "name": "nt-8-1.9"
  },
  "language_info": {
   "file_extension": ".jl",
   "mimetype": "application/julia",
   "name": "julia",
   "version": "1.9.2"
  }
 },
 "nbformat": 4,
 "nbformat_minor": 5
}
