{
 "cells": [
  {
   "attachments": {},
   "cell_type": "markdown",
   "id": "1615754a-e12f-4fe2-ae64-575d450133d1",
   "metadata": {},
   "source": [
    "# Check Capse.jl\n",
    "In this notebook we are going to check the accuracy of our emulators."
   ]
  },
  {
   "cell_type": "code",
   "execution_count": null,
   "id": "60e13df4",
   "metadata": {},
   "outputs": [],
   "source": [
    "using Pkg\n",
    "Pkg.activate(\".\")\n",
    "Pkg.instantiate()\n",
    "Pkg.resolve()"
   ]
  },
  {
   "cell_type": "code",
   "execution_count": null,
   "id": "cc147a0e-3648-4149-bdf2-584acbf98b15",
   "metadata": {},
   "outputs": [],
   "source": [
    "using Statistics, DataFrames, JSON3, Plots, LinearAlgebra, BenchmarkTools, NPZ, Random\n",
    "using Base: @kwdef\n",
    "using BSON: @save\n",
    "using BSON: @load\n",
    "using BSON\n",
    "using LaTeXStrings\n",
    "using SimpleChains\n",
    "using Static\n",
    "using NPZ\n",
    "using Capse"
   ]
  },
  {
   "cell_type": "code",
   "execution_count": null,
   "id": "1b88c578-05e3-47cb-8300-387b0c3aced5",
   "metadata": {},
   "outputs": [],
   "source": [
    "path_test = \"../data/Capse_Extended_20000/aacwdoenqixtxi/\"\n",
    "json_string_test = read(path_test*\"cosmology_capse.json\", String)\n",
    "cosmo_pars_test = JSON3.read(json_string_test)\n",
    "CℓTT_test = npzread(path_test*\"clTT.npy\")[3:5001]\n",
    "CℓEE_test = npzread(path_test*\"clEE.npy\")[3:5001]\n",
    "CℓTE_test = npzread(path_test*\"clTE.npy\")[3:5001]\n",
    "CℓPP_test = npzread(path_test*\"clPP.npy\")[3:5001]\n",
    "ℓ = npzread(path_test*\"ll.npy\")[3:5001];"
   ]
  },
  {
   "cell_type": "code",
   "execution_count": null,
   "id": "491b448d",
   "metadata": {},
   "outputs": [],
   "source": [
    "ll_SO = npzread(\"../data/noise/noise_SO_ll.npy\")\n",
    "ll_SO = ll_SO[3:4999]\n",
    "fac = ll_SO .* (ll_SO .+ 1) ./ (2π)\n",
    "TT_n_SO = npzread(\"../data/noise/noise_SO_TT.npy\")[3:4999] .* fac\n",
    "EE_n_SO = npzread(\"../data/noise/noise_SO_EE.npy\")[3:4999] .* fac\n",
    "PP_n_SO = npzread(\"../data/noise/noise_SO_PP.npy\")[3:4999];"
   ]
  },
  {
   "cell_type": "code",
   "execution_count": null,
   "id": "e78df107",
   "metadata": {},
   "outputs": [],
   "source": [
    "ll_S4 = npzread(\"../data/noise/noise_S4_ll.npy\")[3:4999]\n",
    "fac = ll_S4 .* (ll_S4 .+ 1) ./ (2π)\n",
    "fac_kk = (ll_S4 .* (ll_S4 .* 1)).^2 / 4\n",
    "TT_n_S4 = npzread(\"../data/noise/noise_S4_TT.npy\")[3:4999] .* fac\n",
    "EE_n_S4 = npzread(\"../data/noise/noise_S4_EE.npy\")[3:4999] .* fac\n",
    "PP_n_S4 = npzread(\"../data/noise/noise_S4_PP.npy\")[3:4999];"
   ]
  },
  {
   "cell_type": "code",
   "execution_count": null,
   "id": "2a269baa",
   "metadata": {},
   "outputs": [],
   "source": [
    "plot_font = \"Computer Modern\"\n",
    "\n",
    "Plots.default(titlefont = (16, plot_font), fontfamily=plot_font,\n",
    "        linewidth=2, framestyle=:box, fg_legend =:black, label=nothing, grid=false, tickfontsize=12, size = (550, 400), labelfontsize = 13, dpi = 200, minorgrid = true, xticks = [1,10,100, 1000], xscale=:log10)\n",
    "\n",
    "plt = plot(ll_SO, TT_n_SO)\n",
    "plot!(plt, ll_S4, TT_n_S4)"
   ]
  },
  {
   "cell_type": "code",
   "execution_count": null,
   "id": "b692dc6c",
   "metadata": {},
   "outputs": [],
   "source": [
    "plot_font = \"Computer Modern\"\n",
    "\n",
    "Plots.default(titlefont = (16, plot_font), fontfamily=plot_font,\n",
    "        linewidth=2, framestyle=:box, fg_legend =:black, label=nothing, grid=false, tickfontsize=12, size = (550, 400), labelfontsize = 13, dpi = 200, minorgrid = true, xticks = [1,10,100, 1000], xscale=:log10)\n",
    "\n",
    "plt = plot(ll_SO, EE_n_SO)\n",
    "plot!(plt, ll_S4, EE_n_S4)"
   ]
  },
  {
   "cell_type": "code",
   "execution_count": null,
   "id": "bd526fb9",
   "metadata": {},
   "outputs": [],
   "source": [
    "plot(PP_n_SO, xscale=:log10, yscale=:log10)\n",
    "plot!(CℓPP_test)\n",
    "plot!(PP_n_S4)\n",
    "#plot!(PP_n_S4)"
   ]
  },
  {
   "cell_type": "code",
   "execution_count": null,
   "id": "872afee4-38bb-44d5-9bfa-517fb0c511fe",
   "metadata": {},
   "outputs": [],
   "source": [
    "input_test = [cosmo_pars_test[\"ln10As\"], cosmo_pars_test[\"ns\"], cosmo_pars_test[\"H0\"], cosmo_pars_test[\"ombh2\"], cosmo_pars_test[\"omch2\"], cosmo_pars_test[\"tau\"]];"
   ]
  },
  {
   "cell_type": "code",
   "execution_count": null,
   "id": "1650d8eb-098a-4d8b-a805-d3eab6d06a0c",
   "metadata": {},
   "outputs": [],
   "source": [
    "mlpd = SimpleChain(\n",
    "  static(6),\n",
    "  TurboDense(tanh, 64),\n",
    "  TurboDense(tanh, 64),\n",
    "  TurboDense(tanh, 64),\n",
    "  TurboDense(tanh, 64),\n",
    "  TurboDense(tanh, 64),\n",
    "  TurboDense(identity, 4999)\n",
    ");"
   ]
  },
  {
   "attachments": {},
   "cell_type": "markdown",
   "id": "f4d2366d-5d1c-4c76-be3d-9263181e6bea",
   "metadata": {},
   "source": [
    "# $C^{TT}(\\ell)$ emulator test"
   ]
  },
  {
   "cell_type": "code",
   "execution_count": null,
   "id": "800c2a88-1000-4b69-bd9d-0d9a7835ac85",
   "metadata": {},
   "outputs": [],
   "source": [
    "weights_folder = \"../data/weights/weights_cosmopowerspace_10000/\"\n",
    "ℓ = npzread(weights_folder*\"l.npy\")\n",
    "\n",
    "weights_TT = npzread(weights_folder*\"weights_TT_lcdm.npy\")\n",
    "trained_emu_TT = Capse.SimpleChainsEmulator(Architecture= mlpd, Weights = weights_TT)\n",
    "CℓTT_emu = Capse.CℓEmulator(TrainedEmulator = trained_emu_TT, ℓgrid = ℓ,\n",
    "                             InMinMax = npzread(weights_folder*\"inMinMax_lcdm.npy\"),\n",
    "                             OutMinMax = npzread(weights_folder*\"outMinMaxCℓTT_lcdm.npy\"));"
   ]
  },
  {
   "cell_type": "code",
   "execution_count": null,
   "id": "89d230ed-db5e-4658-a2ac-b7f4bd1b880d",
   "metadata": {},
   "outputs": [],
   "source": [
    "CℓTT_capse = Capse.get_Cℓ(input_test, CℓTT_emu);"
   ]
  },
  {
   "cell_type": "code",
   "execution_count": null,
   "id": "a778abad-adb1-491f-9a42-a1ae324d6ee7",
   "metadata": {},
   "outputs": [],
   "source": [
    "@benchmark Capse.get_Cℓ($input_test, $CℓTT_emu)"
   ]
  },
  {
   "cell_type": "code",
   "execution_count": null,
   "id": "70f8f83e-c123-4f89-bb67-faaaf7e07bec",
   "metadata": {},
   "outputs": [],
   "source": [
    "plt = Plots.plot(xlabel=L\"ℓ\", ylabel=L\"\\frac{\\ell(\\ell+1)}{2\\pi}C^{TT}(\\ell)\",legend=:bottomright)\n",
    "Plots.plot!(plt, ℓ, CℓTT_test)\n",
    "Plots.plot!(plt, ℓ, CℓTT_capse)# .* ℓ .*(ℓ .+1))\n",
    "plt"
   ]
  },
  {
   "attachments": {},
   "cell_type": "markdown",
   "id": "c09964c8-ef65-4d97-8c3d-45e6c724c746",
   "metadata": {},
   "source": [
    "$$\n",
    "\\sigma_{\\ell, \\mathrm{CMB}}^{\\{\\mathrm{TT}, \\mathrm{EE}\\}}=\\sqrt{\\frac{2}{f_{\\mathrm{sky}}(2 \\ell+1)}}\\left(C_{\\ell, \\text { true }}^{\\{\\mathrm{TT}, \\mathrm{EE}\\}}+N_{\\ell}^{\\{\\mathrm{TT}, \\mathrm{EE}, \\phi \\phi\\}}\\right)\n",
    "$$\n",
    "with $f_\\mathrm{sky} = 1$ and $N_\\ell=0$"
   ]
  },
  {
   "cell_type": "code",
   "execution_count": null,
   "id": "84c77f68-cdbc-4851-90e1-b680148c05ed",
   "metadata": {},
   "outputs": [],
   "source": [
    "function compute_σXX(CℓXX, ℓ)\n",
    "    result = Float64.(similar(ℓ))\n",
    "    for i in 1:length(ℓ)\n",
    "        result[i] = sqrt(2/( (2. *ℓ[i]+1.))) * (CℓXX[i])\n",
    "    end\n",
    "    return result\n",
    "end\n",
    "\n",
    "function compute_σXX(CℓXX, ℓ, NXX, f_sky)\n",
    "    result = Float64.(similar(ℓ))\n",
    "    for i in 1:length(ℓ)\n",
    "        result[i] = sqrt(2/(f_sky .* (2. *ℓ[i]+1.))) * (CℓXX[i] + NXX[i])\n",
    "    end\n",
    "    return result\n",
    "end"
   ]
  },
  {
   "cell_type": "code",
   "execution_count": null,
   "id": "65014977-c64c-4cc5-936e-fe306024970e",
   "metadata": {},
   "outputs": [],
   "source": [
    "σTT = compute_σXX(CℓTT_test, ℓ[3:5001]);\n",
    "σTT_n = compute_σXX(CℓTT_test[1:4997], ℓ[3:4999], TT_n_SO, 1. );"
   ]
  },
  {
   "attachments": {},
   "cell_type": "markdown",
   "id": "34f8210a-5b5d-4c0d-aeac-1fdd6cfb1b61",
   "metadata": {},
   "source": [
    "## Deep test"
   ]
  },
  {
   "cell_type": "code",
   "execution_count": null,
   "id": "7197e42f-e2b2-4ab6-a956-4c17f695c8e8",
   "metadata": {},
   "outputs": [],
   "source": [
    "Cℓ_directory = \"../data/HiCapse_extended_10000/\"\n",
    "Cℓ_directory = \"../data/Capse_Extended_20000/\"\n",
    "function evaluate_residuals_XX(Directory,  CℓXX_emu, XX::String)\n",
    "    my_values = zeros(20000, 4999)\n",
    "    i = 0\n",
    "    for (root, dirs, files) in walkdir(Directory)\n",
    "        for file in files\n",
    "            file_extension = file[findlast(isequal('.'),file):end]\n",
    "            if file_extension == \".json\"\n",
    "                res = read_Cℓ_compute_res_XX(root, CℓXX_emu, XX)\n",
    "                i += 1\n",
    "                my_values[i, :] = res\n",
    "            end\n",
    "        end\n",
    "    end\n",
    "    return my_values\n",
    "end\n",
    "\n",
    "\n",
    "function read_Cℓ_compute_res_XX(location, CℓXX_emu, XX::String)\n",
    "    json_string = read(location*\"/cosmology_capse.json\", String)\n",
    "    cosmo_pars_test = JSON3.read(json_string)\n",
    "    \n",
    "    input_test = [cosmo_pars_test[\"ln10As\"],\n",
    "        cosmo_pars_test[\"ns\"],\n",
    "        cosmo_pars_test[\"H0\"],\n",
    "        cosmo_pars_test[\"ombh2\"],\n",
    "        cosmo_pars_test[\"omch2\"],\n",
    "        cosmo_pars_test[\"tau\"]]\n",
    "\n",
    "    ℓ = npzread(location*\"/ll.npy\")[3:5001]\n",
    "    fac = ℓ .* (ℓ .*1) ./ (2π)\n",
    "    \n",
    "    CℓXX_test = (npzread(location*\"/cl\"*XX*\".npy\")[3:5001]) ./ fac\n",
    "    \n",
    "    CℓXX_capse = Capse.get_Cℓ(input_test, CℓXX_emu) ./ fac\n",
    "    σXX = compute_σXX(CℓXX_test, ℓ)\n",
    "    \n",
    "    res = abs.(CℓXX_test .- CℓXX_capse)./σXX\n",
    "        \n",
    "    return res\n",
    "end\n",
    "\n",
    "function evaluate_residuals_XX(Directory, CℓXX_emu, XX::String, N_XX)\n",
    "    my_values = zeros(20000, 4997)\n",
    "    i = 0\n",
    "    for (root, dirs, files) in walkdir(Directory)\n",
    "        for file in files\n",
    "            file_extension = file[findlast(isequal('.'),file):end]\n",
    "            if file_extension == \".json\"\n",
    "                res = read_Cℓ_compute_res_XX(root, CℓXX_emu, XX, N_XX)\n",
    "                i += 1\n",
    "                my_values[i, :] = res\n",
    "            end\n",
    "        end\n",
    "    end\n",
    "    return my_values\n",
    "end\n",
    "\n",
    "\n",
    "function read_Cℓ_compute_res_XX(location, CℓXX_emu, XX::String, N_XX)\n",
    "    json_string = read(location*\"/cosmology_capse.json\", String)\n",
    "    cosmo_pars_test = JSON3.read(json_string)\n",
    "    \n",
    "    input_test = [cosmo_pars_test[\"ln10As\"],\n",
    "        cosmo_pars_test[\"ns\"],\n",
    "        cosmo_pars_test[\"H0\"],\n",
    "        cosmo_pars_test[\"ombh2\"],\n",
    "        cosmo_pars_test[\"omch2\"],\n",
    "        cosmo_pars_test[\"tau\"]]\n",
    "\n",
    "    ℓ = npzread(location*\"/ll.npy\")[3:4999]\n",
    "    fac = ℓ .* (ℓ .*1) ./ (2π)\n",
    "    \n",
    "    CℓXX_test = (npzread(location*\"/cl\"*XX*\".npy\")[3:4999])# ./ fac\n",
    "    \n",
    "    CℓXX_capse = Capse.get_Cℓ(input_test, CℓXX_emu)[1:4997]# ./ fac\n",
    "    σXX = compute_σXX(CℓXX_test, ℓ, N_XX, 0.4)\n",
    "    \n",
    "    res = abs.(CℓXX_test .- CℓXX_capse)./σXX\n",
    "        \n",
    "    return res\n",
    "end"
   ]
  },
  {
   "cell_type": "code",
   "execution_count": null,
   "id": "f2d69caf",
   "metadata": {},
   "outputs": [],
   "source": [
    "function sort_residuals(residuals, n_output, n_elements)\n",
    "    sorted_residuals = zeros(n_elements, n_output)\n",
    "    for i in 1:n_output\n",
    "        sorted_residuals[:,i] = sort(residuals[:,i])\n",
    "    end\n",
    "    final_residuals = zeros(3, n_output)\n",
    "\n",
    "    final_residuals[1,:] = sorted_residuals[trunc(Int, (20000*0.68)),:]\n",
    "    final_residuals[2,:] = sorted_residuals[trunc(Int, (20000*0.95)),:]\n",
    "    final_residuals[3,:] = sorted_residuals[trunc(Int, (20000*0.99)),:]\n",
    "\n",
    "    return final_residuals\n",
    "end"
   ]
  },
  {
   "cell_type": "code",
   "execution_count": null,
   "id": "641eeb2a",
   "metadata": {},
   "outputs": [],
   "source": [
    "function evaluate_sorted_residuals_XX(Directory, CℓXX_emu, XX::String, N_XX)\n",
    "    residuals = evaluate_residuals_XX(Directory, CℓXX_emu, XX::String, N_XX)\n",
    "    n_elements, n_output = size(residuals)\n",
    "    return sort_residuals(residuals, n_output, n_elements)\n",
    "end\n",
    "\n",
    "function evaluate_sorted_residuals_XX(Directory, CℓXX_emu, XX::String)\n",
    "    residuals = evaluate_residuals_XX(Directory, CℓXX_emu, XX::String)\n",
    "    n_elements, n_output = size(residuals)\n",
    "    return sort_residuals(residuals, n_output, n_elements)\n",
    "end"
   ]
  },
  {
   "cell_type": "code",
   "execution_count": null,
   "id": "650988b3-0b60-49c5-979b-830cef1e6305",
   "metadata": {},
   "outputs": [],
   "source": [
    "sorted_residuals_TT = evaluate_sorted_residuals_XX(Cℓ_directory, CℓTT_emu, \"TT\")\n",
    "sorted_residuals_TT_SO = evaluate_sorted_residuals_XX(Cℓ_directory, CℓTT_emu, \"TT\", TT_n_SO)\n",
    "sorted_residuals_TT_S4 = evaluate_sorted_residuals_XX(Cℓ_directory, CℓTT_emu, \"TT\", TT_n_S4);"
   ]
  },
  {
   "cell_type": "code",
   "execution_count": null,
   "id": "51e2b043-02c6-4bdc-8570-ce4225856c9b",
   "metadata": {},
   "outputs": [],
   "source": [
    "npzwrite(\"sorted_residuals_TT.npy\", sorted_residuals_TT)\n",
    "npzwrite(\"sorted_residuals_TT_SO.npy\", sorted_residuals_TT_SO)\n",
    "npzwrite(\"sorted_residuals_TT_S4.npy\", sorted_residuals_TT_S4)"
   ]
  },
  {
   "cell_type": "code",
   "execution_count": null,
   "id": "ac6db374-2957-4011-a595-7099f10bb5cc",
   "metadata": {},
   "outputs": [],
   "source": [
    "plt = Plots.plot(sorted_residuals_TT[1,:], xlabel=L\"ℓ\", ylabel=L\"\\frac{\\left|\\Delta C^{TT}\\right|}{\\sigma_{{TT}}}(\\ell)\\quad \\mathrm{distribution}\",legend=:topleft, label = L\"68\\%\")\n",
    "Plots.plot!(plt, sorted_residuals_TT[2,:], label = L\"95\\%\")\n",
    "Plots.plot!(plt, sorted_residuals_TT[3,:], label = L\"99\\%\")\n",
    "savefig(\"error_distribution_TT_CV.png\")\n",
    "savefig(\"error_distribution_TT_CV.pdf\")\n",
    "plt"
   ]
  },
  {
   "cell_type": "code",
   "execution_count": null,
   "id": "fe54c6d3",
   "metadata": {},
   "outputs": [],
   "source": [
    "plt = Plots.plot(sorted_residuals_TT_SO[1,:], xlabel=L\"ℓ\", ylabel=L\"\\frac{\\left|\\Delta C^{TT}\\right|}{\\sigma_{{TT}}}(\\ell)\\quad \\mathrm{distribution}\",legend=:topleft, label = L\"68\\%\")\n",
    "Plots.plot!(plt, sorted_residuals_TT_SO[2,:], label = L\"95\\%\")\n",
    "Plots.plot!(plt, sorted_residuals_TT_SO[3,:], label = L\"99\\%\", xscale=:log10)\n",
    "savefig(\"error_distribution_TT_SO.png\")\n",
    "savefig(\"error_distribution_TT_SO.pdf\")\n",
    "plt"
   ]
  },
  {
   "cell_type": "code",
   "execution_count": null,
   "id": "51a1e488",
   "metadata": {},
   "outputs": [],
   "source": [
    "plt = Plots.plot(sorted_residuals_TT_S4[1,:], xlabel=L\"ℓ\", ylabel=L\"\\frac{\\left|\\Delta C^{TT}\\right|}{\\sigma_{{TT}}}(\\ell)\\quad \\mathrm{distribution}\",legend=:topleft, label = L\"68\\%\")\n",
    "Plots.plot!(plt, sorted_residuals_TT_S4[2,:], label = L\"95\\%\")\n",
    "Plots.plot!(plt, sorted_residuals_TT_S4[3,:], label = L\"99\\%\", xscale=:log10)\n",
    "savefig(\"error_distribution_TT_S4.png\")\n",
    "savefig(\"error_distribution_TT_S4.pdf\")\n",
    "plt"
   ]
  },
  {
   "attachments": {},
   "cell_type": "markdown",
   "id": "7a758a86-a766-4354-a5e9-1b154643676b",
   "metadata": {},
   "source": [
    "# $C^{EE}(\\ell)$ emulator test"
   ]
  },
  {
   "cell_type": "code",
   "execution_count": null,
   "id": "32753f13-ce21-433e-be5d-61a7e683b29d",
   "metadata": {},
   "outputs": [],
   "source": [
    "weights_EE = npzread(weights_folder*\"weights_EE_lcdm.npy\")\n",
    "trained_emu_EE = Capse.SimpleChainsEmulator(Architecture= mlpd, Weights = weights_EE)\n",
    "CℓEE_emu = Capse.CℓEmulator(TrainedEmulator = trained_emu_EE, ℓgrid = ℓ,\n",
    "                             InMinMax = npzread(weights_folder*\"inMinMax_lcdm.npy\"),\n",
    "                             OutMinMax = npzread(weights_folder*\"outMinMaxCℓEE_lcdm.npy\"));"
   ]
  },
  {
   "attachments": {},
   "cell_type": "markdown",
   "id": "75b0b37b-ded6-4382-8cfa-bf2de7ff031c",
   "metadata": {},
   "source": [
    "## Quick test"
   ]
  },
  {
   "cell_type": "code",
   "execution_count": null,
   "id": "143df76d-7ccb-4651-84ea-6998893c86fc",
   "metadata": {},
   "outputs": [],
   "source": [
    "CℓEE_capse = Capse.get_Cℓ(input_test, CℓEE_emu);"
   ]
  },
  {
   "cell_type": "code",
   "execution_count": null,
   "id": "15893e3e-f3fd-490d-9f6a-7408d94096a9",
   "metadata": {},
   "outputs": [],
   "source": [
    "plot_font = \"Computer Modern\"\n",
    "\n",
    "Plots.default(titlefont = (16, plot_font), fontfamily=plot_font,\n",
    "        linewidth=2, framestyle=:box, fg_legend =:black, label=nothing, grid=false, tickfontsize=12, size = (550, 400), labelfontsize = 13, dpi = 200)\n",
    "\n",
    "plt = Plots.plot(xlabel=L\"ℓ\", ylabel=L\"\\frac{\\ell(\\ell+1)}{2\\pi}C^{EE}(\\ell)\",legend=:bottomright)\n",
    "Plots.plot!(plt, ℓ, CℓEE_test)# .* ℓ .*(ℓ .+1))\n",
    "Plots.plot!(plt, ℓ, CℓEE_capse)# .* ℓ .*(ℓ .+1))"
   ]
  },
  {
   "cell_type": "code",
   "execution_count": null,
   "id": "409388a1-343f-46a7-9a8d-60300da1728f",
   "metadata": {},
   "outputs": [],
   "source": [
    "σEE = compute_σXX(CℓEE_test[1:4999], ℓ[3:5001]);"
   ]
  },
  {
   "cell_type": "code",
   "execution_count": null,
   "id": "5585ad47-ebac-4497-9986-944802d76bc2",
   "metadata": {},
   "outputs": [],
   "source": [
    "plt = Plots.plot(xlabel=L\"ℓ\", ylabel=L\"\\frac{\\left|\\Delta C^{EE}\\right|}{\\sigma_{EE}}(\\ell)\",legend=:bottomright)\n",
    "Plots.plot!(plt, ℓ[3:5001], abs.(CℓEE_test .- CℓEE_capse)./σEE )\n",
    "savefig(\"residuals_ClEE.png\")\n",
    "plt"
   ]
  },
  {
   "attachments": {},
   "cell_type": "markdown",
   "id": "936ac955-7842-44c4-ba5d-b525de507161",
   "metadata": {},
   "source": [
    "## Deep Test"
   ]
  },
  {
   "cell_type": "code",
   "execution_count": null,
   "id": "3ea650a3-0e8f-4ac7-8d0f-b9964559f7a2",
   "metadata": {},
   "outputs": [],
   "source": [
    "sorted_residuals_EE = evaluate_sorted_residuals_XX(Cℓ_directory, CℓEE_emu, \"EE\")\n",
    "sorted_residuals_EE_SO = evaluate_sorted_residuals_XX(Cℓ_directory, CℓEE_emu, \"EE\", EE_n_SO)\n",
    "sorted_residuals_EE_S4 = evaluate_sorted_residuals_XX(Cℓ_directory, CℓEE_emu, \"EE\", EE_n_S4);"
   ]
  },
  {
   "cell_type": "code",
   "execution_count": null,
   "id": "a82e70d5-6459-4bd8-863b-0302150db47e",
   "metadata": {},
   "outputs": [],
   "source": [
    "npzwrite(\"sorted_residuals_EE.npy\",    sorted_residuals_EE)\n",
    "npzwrite(\"sorted_residuals_EE_SO.npy\", sorted_residuals_EE_SO)\n",
    "npzwrite(\"sorted_residuals_EE_S4.npy\", sorted_residuals_EE_S4)"
   ]
  },
  {
   "cell_type": "code",
   "execution_count": null,
   "id": "885d4382-8d3d-4326-878c-354280bf4e23",
   "metadata": {},
   "outputs": [],
   "source": [
    "plt = Plots.plot(sorted_residuals_EE[1,:], xlabel=L\"ℓ\", ylabel=L\"\\frac{\\left|\\Delta C^{EE}\\right|}{\\sigma_{EE}}(\\ell)\\quad \\mathrm{distribution}\",legend=:topright, label = L\"68\\%\")\n",
    "Plots.plot!(plt, sorted_residuals_EE[2,:], label = L\"95\\%\")\n",
    "Plots.plot!(plt, sorted_residuals_EE[3,:], label = L\"99\\%\")\n",
    "savefig(\"error_distribution_EE_CV.png\")\n",
    "savefig(\"error_distribution_EE_CV.pdf\")\n",
    "plt"
   ]
  },
  {
   "cell_type": "code",
   "execution_count": null,
   "id": "4c58aec1",
   "metadata": {},
   "outputs": [],
   "source": [
    "plt = Plots.plot(sorted_residuals_EE[1,:], xlabel=L\"ℓ\", ylabel=L\"\\frac{\\left|\\Delta C^{EE}\\right|}{\\sigma_{EE}}(\\ell)\\quad \\mathrm{distribution}\",legend=:topright, label = L\"68\\%\")\n",
    "Plots.plot!(plt, sorted_residuals_EE[2,:], label = L\"95\\%\")\n",
    "Plots.plot!(plt, sorted_residuals_EE[3,:], label = L\"99\\%\", ylimit = [0,1])\n",
    "savefig(\"error_distribution_EE_CV_zoom.png\")\n",
    "savefig(\"error_distribution_EE_CV_zoom.pdf\")\n",
    "plt"
   ]
  },
  {
   "cell_type": "code",
   "execution_count": null,
   "id": "a2e7e1fd",
   "metadata": {},
   "outputs": [],
   "source": [
    "plt = Plots.plot(sorted_residuals_EE_SO[1,:], xlabel=L\"ℓ\", ylabel=L\"\\frac{\\left|\\Delta C^{EE}\\right|}{\\sigma_{EE}}(\\ell)\\quad \\mathrm{distribution}\",legend=:topright, label = L\"68\\%\")\n",
    "Plots.plot!(plt, sorted_residuals_EE_SO[2,:], label = L\"95\\%\")\n",
    "Plots.plot!(plt, sorted_residuals_EE_SO[3,:], label = L\"99\\%\", xscale=:log10, ylim = [0,0.10])\n",
    "savefig(\"error_distribution_EE_SO.png\")\n",
    "savefig(\"error_distribution_EE_SO.pdf\")\n",
    "plt"
   ]
  },
  {
   "cell_type": "code",
   "execution_count": null,
   "id": "19853e25",
   "metadata": {},
   "outputs": [],
   "source": [
    "plt = Plots.plot(sorted_residuals_EE_S4[1,:], xlabel=L\"ℓ\", ylabel=L\"\\frac{\\left|\\Delta C^{EE}\\right|}{\\sigma_{EE}}(\\ell)\\quad \\mathrm{distribution}\",legend=:topright, label = L\"68\\%\")\n",
    "Plots.plot!(plt, sorted_residuals_EE_S4[2,:], label = L\"95\\%\")\n",
    "Plots.plot!(plt, sorted_residuals_EE_S4[3,:], label = L\"99\\%\", xscale=:log10)\n",
    "savefig(\"error_distribution_EE.png\")\n",
    "plt"
   ]
  },
  {
   "cell_type": "code",
   "execution_count": null,
   "id": "3eeddab9",
   "metadata": {},
   "outputs": [],
   "source": [
    "plt = Plots.plot(sorted_residuals_EE_S4[1,:], xlabel=L\"ℓ\", ylabel=L\"\\frac{\\left|\\Delta C^{EE}\\right|}{\\sigma_{EE}}(\\ell)\\quad \\mathrm{distribution}\",legend=:topright, label = L\"68\\%\")\n",
    "Plots.plot!(plt, sorted_residuals_EE_S4[2,:], label = L\"95\\%\")\n",
    "Plots.plot!(plt, sorted_residuals_EE_S4[3,:], label = L\"99\\%\", ylim=[0,0.1])\n",
    "savefig(\"error_distribution_EE_S4.png\")\n",
    "savefig(\"error_distribution_EE_S4.pdf\")\n",
    "plt"
   ]
  },
  {
   "attachments": {},
   "cell_type": "markdown",
   "id": "b6cb4606-357f-4dbf-8bc3-b61a0cb81b9d",
   "metadata": {},
   "source": [
    "# $C^{TE}(\\ell)$ emulator test"
   ]
  },
  {
   "cell_type": "code",
   "execution_count": null,
   "id": "bba1312a-c04d-431d-97ec-6694fc7b66b7",
   "metadata": {},
   "outputs": [],
   "source": [
    "weights_TE = npzread(weights_folder*\"weights_TE_lcdm.npy\")\n",
    "trained_emu_TE = Capse.SimpleChainsEmulator(Architecture= mlpd, Weights = weights_TE)\n",
    "CℓTE_emu = Capse.CℓEmulator(TrainedEmulator = trained_emu_TE, ℓgrid = ℓ,\n",
    "                             InMinMax = npzread(weights_folder*\"inMinMax_lcdm.npy\"),\n",
    "                             OutMinMax = npzread(weights_folder*\"outMinMaxCℓTE_lcdm.npy\"));"
   ]
  },
  {
   "cell_type": "code",
   "execution_count": null,
   "id": "e9812802-817c-402f-bb3b-b696ce1a81bb",
   "metadata": {},
   "outputs": [],
   "source": [
    "function compute_σTE(CℓTT, CℓEE, CℓTE, ℓ)\n",
    "    result = Float64.(similar(ℓ))\n",
    "    for i in 1:length(ℓ)\n",
    "        result[i] = sqrt((CℓTT[i]*CℓEE[i]+(CℓTE[i])^2)/(2. *ℓ[i]+1.))\n",
    "    end\n",
    "    return result\n",
    "end\n",
    "\n",
    "function compute_σTE(CℓTT, CℓEE, CℓTE, NTT, NEE, ℓ, f_sky)\n",
    "    result = Float64.(similar(ℓ))\n",
    "    CℓTT .+= NTT\n",
    "    CℓEE .+= NEE\n",
    "    for i in 1:length(ℓ)\n",
    "        result[i] = sqrt((CℓTT[i]*CℓEE[i]+(CℓTE[i])^2)/ (f_sky .* (2. *ℓ[i]+1.)))\n",
    "    end\n",
    "    return result\n",
    "end"
   ]
  },
  {
   "attachments": {},
   "cell_type": "markdown",
   "id": "6118bf64-8e0c-496d-aed9-2747b8b7257a",
   "metadata": {},
   "source": [
    "$$\n",
    "\\sigma_{\\ell, \\mathrm{CMB}}^{\\mathrm{TE}} =\\sqrt{\\frac{1}{f_{\\mathrm{sky}}(2 \\ell+1)}} \\times \\sqrt{C_{\\ell, \\text { true }}^{\\mathrm{TE}} C_{\\ell, \\text { true }}^{\\mathrm{TE}}+\\left(C_{\\ell, \\text { true }}^{\\mathrm{TT}}+N_{\\ell}^{\\mathrm{TT}}\\right)\\left(C_{\\ell, \\text { true }}^{\\mathrm{EE}}+N_{\\ell}^{\\mathrm{EE}}\\right)},\n",
    "$$\n",
    "with $f_\\mathrm{sky}=1$."
   ]
  },
  {
   "cell_type": "code",
   "execution_count": null,
   "id": "733f1637-41d3-41f1-8860-89cc35b34eae",
   "metadata": {},
   "outputs": [],
   "source": [
    "CℓTE_capse = Capse.get_Cℓ(input_test, CℓTE_emu);"
   ]
  },
  {
   "cell_type": "code",
   "execution_count": null,
   "id": "beea06a2-a966-4d1e-9cdc-777403e69780",
   "metadata": {},
   "outputs": [],
   "source": [
    "plot_font = \"Computer Modern\"\n",
    "\n",
    "Plots.default(titlefont = (16, plot_font), fontfamily=plot_font,\n",
    "        linewidth=2, framestyle=:box, fg_legend =:black, label=nothing, grid=false, tickfontsize=12, size = (550, 400), labelfontsize = 13, dpi = 200)\n",
    "\n",
    "plt = Plots.plot(xlabel=L\"ℓ\", ylabel=L\"\\frac{\\ell(\\ell+1)}{2\\pi}C^{TE}(\\ell)\",legend=:bottomright)\n",
    "Plots.plot!(plt, ℓ, CℓTE_test)# .* ℓ .*(ℓ .+1))\n",
    "Plots.plot!(plt, ℓ, CℓTE_capse)# .* ℓ .*(ℓ .+1))"
   ]
  },
  {
   "cell_type": "code",
   "execution_count": null,
   "id": "902885cf-a2df-4b97-82e6-532a3c918f9c",
   "metadata": {},
   "outputs": [],
   "source": [
    "σTE = compute_σTE(CℓTT_test, CℓEE_test, CℓTE_test, ℓ[3:5001]);"
   ]
  },
  {
   "cell_type": "code",
   "execution_count": null,
   "id": "ca3775fb-051a-4c02-a822-0cd879d37f40",
   "metadata": {},
   "outputs": [],
   "source": [
    "plt = Plots.plot(xlabel=L\"ℓ\", ylabel=L\"\\frac{\\left|\\Delta C^{TE}\\right|}{\\sigma_{{TE}}}(\\ell)\",legend=:bottomright)\n",
    "Plots.plot!(plt, ℓ[3:5001], abs.(CℓTE_test .- CℓTE_capse)./σTE )\n",
    "savefig(\"residuals_ClTE.png\")\n",
    "plt"
   ]
  },
  {
   "attachments": {},
   "cell_type": "markdown",
   "id": "f0f7de0a-a964-4017-99c1-d1bc202c9d96",
   "metadata": {},
   "source": [
    "## Deep Test"
   ]
  },
  {
   "cell_type": "code",
   "execution_count": null,
   "id": "437e35b7-4042-48e4-88d7-dd12f98152b0",
   "metadata": {},
   "outputs": [],
   "source": [
    "function evaluate_residuals_TE(Directory,  CℓTE_emu)\n",
    "    my_values = zeros(20000, 4999)\n",
    "    i = 0\n",
    "    for (root, dirs, files) in walkdir(Directory)\n",
    "        for file in files\n",
    "            file_extension = file[findlast(isequal('.'),file):end]\n",
    "            if file_extension == \".json\"\n",
    "                res = read_Cℓ_compute_res_TE(root, CℓTE_emu)\n",
    "                i += 1\n",
    "                my_values[i, :] = res\n",
    "            end\n",
    "        end\n",
    "    end\n",
    "    return my_values\n",
    "end\n",
    "\n",
    "\n",
    "function read_Cℓ_compute_res_TE(location, CℓTE_emu)\n",
    "    json_string = read(location*\"/cosmology_capse.json\", String)\n",
    "    cosmo_pars_test = JSON3.read(json_string)\n",
    "    \n",
    "    input_test = [cosmo_pars_test[\"ln10As\"],\n",
    "        cosmo_pars_test[\"ns\"],\n",
    "        cosmo_pars_test[\"H0\"],\n",
    "        cosmo_pars_test[\"ombh2\"],\n",
    "        cosmo_pars_test[\"omch2\"],\n",
    "        cosmo_pars_test[\"tau\"]]\n",
    "    \n",
    "    CℓTT_test = npzread(location*\"/clTT.npy\")[3:5001]\n",
    "    CℓEE_test = npzread(location*\"/clEE.npy\")[3:5001]\n",
    "    CℓTE_test = npzread(location*\"/clTE.npy\")[3:5001]\n",
    "    \n",
    "    ℓ = npzread(location*\"/ll.npy\")[3:5001]\n",
    "    \n",
    "    CℓTE_capse = Capse.get_Cℓ(input_test, CℓTE_emu)\n",
    "    σTE = compute_σTE(CℓTT_test, CℓEE_test, CℓTE_test, ℓ)\n",
    "    \n",
    "    res = abs.(CℓTE_test .- CℓTE_capse)./σTE\n",
    "        \n",
    "    return res\n",
    "end\n",
    "\n",
    "function evaluate_residuals_TE(Directory,  CℓTE_emu, NTT, NEE, f_sky)\n",
    "    my_values = zeros(20000, 4997)\n",
    "    i = 0\n",
    "    for (root, dirs, files) in walkdir(Directory)\n",
    "        for file in files\n",
    "            file_extension = file[findlast(isequal('.'),file):end]\n",
    "            if file_extension == \".json\"\n",
    "                res = read_Cℓ_compute_res_TE(root, CℓTE_emu, NTT, NEE, f_sky)\n",
    "                i += 1\n",
    "                my_values[i, :] = res\n",
    "            end\n",
    "        end\n",
    "    end\n",
    "    return my_values\n",
    "end\n",
    "\n",
    "\n",
    "function read_Cℓ_compute_res_TE(location, CℓTE_emu, NTT, NEE, f_sky)\n",
    "    json_string = read(location*\"/cosmology_capse.json\", String)\n",
    "    cosmo_pars_test = JSON3.read(json_string)\n",
    "    \n",
    "    input_test = [cosmo_pars_test[\"ln10As\"],\n",
    "        cosmo_pars_test[\"ns\"],\n",
    "        cosmo_pars_test[\"H0\"],\n",
    "        cosmo_pars_test[\"ombh2\"],\n",
    "        cosmo_pars_test[\"omch2\"],\n",
    "        cosmo_pars_test[\"tau\"]]\n",
    "    \n",
    "    CℓTT_test = npzread(location*\"/clTT.npy\")[3:4999]\n",
    "    CℓEE_test = npzread(location*\"/clEE.npy\")[3:4999]\n",
    "    CℓTE_test = npzread(location*\"/clTE.npy\")[3:4999]\n",
    "    \n",
    "    ℓ = npzread(location*\"/ll.npy\")[3:4999]\n",
    "    \n",
    "    CℓTE_capse = Capse.get_Cℓ(input_test, CℓTE_emu)[1:4997]\n",
    "    σTE = compute_σTE(CℓTT_test, CℓEE_test, CℓTE_test, NTT, NEE, ℓ, f_sky)\n",
    "    \n",
    "    res = abs.(CℓTE_test .- CℓTE_capse)./σTE\n",
    "        \n",
    "    return res\n",
    "end\n",
    "\n",
    "function evaluate_sorted_residuals_TE(Directory, CℓXX_emu, N_TT, N_EE, f_sky)\n",
    "    residuals = evaluate_residuals_TE(Directory, CℓXX_emu, N_TT, N_EE, f_sky)\n",
    "    n_elements, n_output = size(residuals)\n",
    "    return sort_residuals(residuals, n_output, n_elements)\n",
    "end\n",
    "\n",
    "function evaluate_sorted_residuals_TE(Directory, CℓXX_emu)\n",
    "    residuals = evaluate_residuals_TE(Directory, CℓXX_emu)\n",
    "    n_elements, n_output = size(residuals)\n",
    "    return sort_residuals(residuals, n_output, n_elements)\n",
    "end"
   ]
  },
  {
   "cell_type": "code",
   "execution_count": null,
   "id": "63ded627",
   "metadata": {},
   "outputs": [],
   "source": [
    "sorted_residuals_TE = evaluate_sorted_residuals_TE(Cℓ_directory, CℓTE_emu)\n",
    "sorted_residuals_TE_SO = evaluate_sorted_residuals_TE(Cℓ_directory, CℓTE_emu, TT_n_SO, EE_n_SO, 0.4)\n",
    "sorted_residuals_TE_S4 = evaluate_sorted_residuals_TE(Cℓ_directory, CℓTE_emu, TT_n_S4, EE_n_S4, 0.4);"
   ]
  },
  {
   "cell_type": "code",
   "execution_count": null,
   "id": "5cee5f51-fbfe-4719-a735-84ab69ef5170",
   "metadata": {},
   "outputs": [],
   "source": [
    "npzwrite(\"sorted_residuals_TE.npy\",    sorted_residuals_TE)\n",
    "npzwrite(\"sorted_residuals_TE_SO.npy\", sorted_residuals_TE_SO)\n",
    "npzwrite(\"sorted_residuals_TE_S4.npy\", sorted_residuals_TE_S4)"
   ]
  },
  {
   "cell_type": "code",
   "execution_count": null,
   "id": "5030bc46-eeca-423c-838d-e5ce21b5f31d",
   "metadata": {},
   "outputs": [],
   "source": [
    "plt = Plots.plot(sorted_residuals_TE[1,:],xlabel=L\"ℓ\", ylabel=L\"\\frac{\\left|\\Delta C^{TE}\\right|}{\\sigma_{{TE}}}(\\ell)\\quad \\mathrm{distribution}\",legend=:topright, label = L\"68\\%\")\n",
    "Plots.plot!(plt, sorted_residuals_TE[2,:], label = L\"95\\%\")\n",
    "Plots.plot!(plt, sorted_residuals_TE[3,:], label = L\"99\\%\")\n",
    "savefig(\"error_distribution_TE_CV.png\")\n",
    "savefig(\"error_distribution_TE_CV.pdf\")\n",
    "plt"
   ]
  },
  {
   "cell_type": "code",
   "execution_count": null,
   "id": "8dcbd310",
   "metadata": {},
   "outputs": [],
   "source": [
    "plt = Plots.plot(sorted_residuals_TE_SO[1,:],xlabel=L\"ℓ\", ylabel=L\"\\frac{\\left|\\Delta C^{TE}\\right|}{\\sigma_{{TE}}}(\\ell)\\quad \\mathrm{distribution}\",legend=:topright, label = L\"68\\%\")\n",
    "Plots.plot!(plt, sorted_residuals_TE_SO[2,:], label = L\"95\\%\")\n",
    "Plots.plot!(plt, sorted_residuals_TE_SO[3,:], label = L\"99\\%\", xscale=:log10)\n",
    "savefig(\"error_distribution_TE_SO.png\")\n",
    "savefig(\"error_distribution_TE_SO.pdf\")\n",
    "plt"
   ]
  },
  {
   "cell_type": "code",
   "execution_count": null,
   "id": "a1ab352c",
   "metadata": {},
   "outputs": [],
   "source": [
    "plt = Plots.plot(sorted_residuals_TE_S4[1,:],xlabel=L\"ℓ\", ylabel=L\"\\frac{\\left|\\Delta C^{TE}\\right|}{\\sigma_{{TE}}}(\\ell)\\quad \\mathrm{distribution}\",legend=:topright, label = L\"68\\%\")\n",
    "Plots.plot!(plt, sorted_residuals_TE_S4[2,:], label = L\"95\\%\")\n",
    "Plots.plot!(plt, sorted_residuals_TE_S4[3,:], label = L\"99\\%\", xscale=:log10)\n",
    "savefig(\"error_distribution_TE_S4.png\")\n",
    "savefig(\"error_distribution_TE_S4.pdf\")\n",
    "plt"
   ]
  },
  {
   "attachments": {},
   "cell_type": "markdown",
   "id": "8297d6e5-83e2-42d3-a946-eee5a9045b4d",
   "metadata": {},
   "source": [
    "# $C^{\\phi\\phi}(\\ell)$ emulator test"
   ]
  },
  {
   "cell_type": "code",
   "execution_count": null,
   "id": "54c7ed21-a18d-4bdf-b91d-279f036995d6",
   "metadata": {},
   "outputs": [],
   "source": [
    "weights_PP = npzread(weights_folder*\"weights_PP_lcdm.npy\")\n",
    "trained_emu_PP = Capse.SimpleChainsEmulator(Architecture= mlpd, Weights = weights_PP)\n",
    "CℓPP_emu = Capse.CℓEmulator(TrainedEmulator = trained_emu_PP, ℓgrid = ℓ,\n",
    "                             InMinMax = npzread(weights_folder*\"inMinMax_lcdm.npy\"),\n",
    "                             OutMinMax = npzread(weights_folder*\"outMinMaxCℓPP_lcdm.npy\"));"
   ]
  },
  {
   "cell_type": "code",
   "execution_count": null,
   "id": "68eed7c7-cee3-4986-a4b9-0c3cebf866b2",
   "metadata": {},
   "outputs": [],
   "source": [
    "CℓPP_capse = Capse.get_Cℓ(input_test, CℓPP_emu);"
   ]
  },
  {
   "cell_type": "code",
   "execution_count": null,
   "id": "70d98a3f-1161-476c-be5e-ad3f74864545",
   "metadata": {},
   "outputs": [],
   "source": [
    "plot_font = \"Computer Modern\"\n",
    "\n",
    "Plots.default(titlefont = (16, plot_font), fontfamily=plot_font,\n",
    "        linewidth=2, framestyle=:box, fg_legend =:black, label=nothing, grid=false, tickfontsize=12, size = (550, 400), labelfontsize = 13, dpi = 200)\n",
    "\n",
    "plt = Plots.plot(xlabel=L\"ℓ\", ylabel=L\"\\frac{(\\ell(\\ell+1))^2}{2\\pi}C^{PP}(\\ell)\",legend=:bottomright)\n",
    "Plots.plot!(plt, ℓ, CℓPP_test)\n",
    "Plots.plot!(plt, ℓ, CℓPP_capse)"
   ]
  },
  {
   "cell_type": "code",
   "execution_count": null,
   "id": "547b0ec6-7390-4329-9b96-1b163eee41c7",
   "metadata": {},
   "outputs": [],
   "source": [
    "σPP = compute_σXX(CℓPP_test[1:4999], ℓ[3:5001]);"
   ]
  },
  {
   "cell_type": "code",
   "execution_count": null,
   "id": "d1c0b8fa-8390-4170-bf83-4690e11aceff",
   "metadata": {},
   "outputs": [],
   "source": [
    "plt = Plots.plot(xlabel=L\"ℓ\", ylabel=L\"\\frac{\\left|\\Delta C^{PP}\\right|}{\\sigma_{C^{PP}}}(\\ell)\",legend=:bottomright)\n",
    "Plots.plot!(plt, ℓ[3:5001], abs.(CℓPP_test .- CℓPP_capse)./σPP )\n",
    "savefig(\"residuals_ClPP.png\")\n",
    "plt"
   ]
  },
  {
   "attachments": {},
   "cell_type": "markdown",
   "id": "300b9d47-3de7-4caf-8656-aca946a41407",
   "metadata": {},
   "source": [
    "## Deep Test"
   ]
  },
  {
   "cell_type": "code",
   "execution_count": null,
   "id": "6519df71",
   "metadata": {},
   "outputs": [],
   "source": [
    "sorted_residuals_PP = evaluate_sorted_residuals_XX(Cℓ_directory, CℓPP_emu, \"PP\")\n",
    "sorted_residuals_PP_SO = evaluate_sorted_residuals_XX(Cℓ_directory, CℓPP_emu, \"PP\", PP_n_SO)\n",
    "sorted_residuals_PP_S4 = evaluate_sorted_residuals_XX(Cℓ_directory, CℓPP_emu, \"PP\", PP_n_S4);"
   ]
  },
  {
   "cell_type": "code",
   "execution_count": null,
   "id": "be133b0b-177e-4597-981a-b8725463ce4c",
   "metadata": {},
   "outputs": [],
   "source": [
    "npzwrite(\"sorted_residuals_PP.npy\",    sorted_residuals_PP)\n",
    "npzwrite(\"sorted_residuals_PP_SO.npy\", sorted_residuals_PP_SO)\n",
    "npzwrite(\"sorted_residuals_PP_S4.npy\", sorted_residuals_PP_S4)"
   ]
  },
  {
   "cell_type": "code",
   "execution_count": null,
   "id": "1ad508eb-d7e5-428f-b906-5e86834f7a50",
   "metadata": {},
   "outputs": [],
   "source": [
    "plt = Plots.plot(sorted_residuals_PP[1,:], xlabel=L\"ℓ\", ylabel=L\"\\frac{\\left|\\Delta C^{PP}\\right|}{\\sigma_{PP}}(\\ell)\\quad \\mathrm{distribution}\",legend=:topright, label = L\"68\\%\")\n",
    "Plots.plot!(plt, sorted_residuals_PP[2,:], label = L\"95\\%\")\n",
    "Plots.plot!(plt, sorted_residuals_PP[3,:], label = L\"99\\%\", xscale=:log10)\n",
    "savefig(\"error_distribution_PP_CV.png\")\n",
    "savefig(\"error_distribution_PP_CV.pdf\")\n",
    "plt"
   ]
  },
  {
   "cell_type": "code",
   "execution_count": null,
   "id": "7a92e48b",
   "metadata": {},
   "outputs": [],
   "source": [
    "plt = Plots.plot(sorted_residuals_PP_SO[1,:], xlabel=L\"ℓ\", ylabel=L\"\\frac{\\left|\\Delta C^{PP}\\right|}{\\sigma_{PP}}(\\ell)\\quad \\mathrm{distribution}\",legend=:topright, label = L\"68\\%\")\n",
    "Plots.plot!(plt, sorted_residuals_PP_SO[2,:], label = L\"95\\%\")\n",
    "Plots.plot!(plt, sorted_residuals_PP_SO[3,:], label = L\"99\\%\", xscale=:log10)\n",
    "savefig(\"error_distribution_PP_SO.png\")\n",
    "savefig(\"error_distribution_PP_SO.pdf\")\n",
    "plt"
   ]
  },
  {
   "cell_type": "code",
   "execution_count": null,
   "id": "220420ad",
   "metadata": {},
   "outputs": [],
   "source": [
    "plt = Plots.plot(sorted_residuals_PP_S4[1,:], xlabel=L\"ℓ\", ylabel=L\"\\frac{\\left|\\Delta C^{PP}\\right|}{\\sigma_{PP}}(\\ell)\\quad \\mathrm{distribution}\",legend=:topright, label = L\"68\\%\")\n",
    "Plots.plot!(plt, sorted_residuals_PP_S4[2,:], label = L\"95\\%\")\n",
    "Plots.plot!(plt, sorted_residuals_PP_S4[3,:], label = L\"99\\%\", xscale=:log10)\n",
    "savefig(\"error_distribution_PP_S4.png\")\n",
    "savefig(\"error_distribution_PP_S4.pdf\")\n",
    "plt"
   ]
  },
  {
   "cell_type": "code",
   "execution_count": null,
   "id": "ff0e61ef",
   "metadata": {},
   "outputs": [],
   "source": []
  }
 ],
 "metadata": {
  "kernelspec": {
   "display_name": "nt 8 1.9.2",
   "language": "julia",
   "name": "nt-8-1.9"
  },
  "language_info": {
   "file_extension": ".jl",
   "mimetype": "application/julia",
   "name": "julia",
   "version": "1.9.2"
  }
 },
 "nbformat": 4,
 "nbformat_minor": 5
}
