{
 "cells": [
  {
   "cell_type": "code",
   "execution_count": null,
   "id": "3c61a07d-4ff6-4074-a0ae-3c69eb098a90",
   "metadata": {},
   "outputs": [],
   "source": [
    "using Pkg\n",
    "Pkg.activate(\".\")\n",
    "Pkg.instantiate()\n",
    "Pkg.resolve()"
   ]
  },
  {
   "cell_type": "code",
   "execution_count": null,
   "id": "b490784f-4c7c-4114-bf56-6f9bd10d7b85",
   "metadata": {},
   "outputs": [],
   "source": [
    "using Turing, Optim, SPTLikelihoods\n",
    "using ForwardDiff\n",
    "using Capse\n",
    "using JSON\n",
    "using BenchmarkTools\n",
    "using NPZ\n",
    "using MicroCanonicalHMC\n",
    "using LinearAlgebra\n",
    "using MCMCDiagnosticTools\n",
    "import MCMCChains: compute_duration\n",
    "include(\"utils.jl\")"
   ]
  },
  {
   "cell_type": "code",
   "execution_count": null,
   "id": "9c69dfad-73ba-4de5-8ebc-2df517f5019f",
   "metadata": {},
   "outputs": [],
   "source": [
    "weights_folder = \"../data/weights/weights_cosmopowerspace_10000/\"\n",
    "\n",
    "emu_TT = Capse.load_emulator(weights_folder*\"TT/\")#, Capse.SimpleChainsEmulator)\n",
    "emu_EE = Capse.load_emulator(weights_folder*\"EE/\")#, Capse.SimpleChainsEmulator)\n",
    "emu_TE = Capse.load_emulator(weights_folder*\"TE/\")#, Capse.SimpleChainsEmulator)\n",
    "emu_PP = Capse.load_emulator(weights_folder*\"PP/\");#, Capse.SimpleChainsEmulator);"
   ]
  },
  {
   "cell_type": "code",
   "execution_count": null,
   "id": "19e0f3ed-520c-4438-b667-c587f27db5d1",
   "metadata": {},
   "outputs": [],
   "source": [
    "function call_emu_planck(θ, Emu_TT, Emu_TE, Emu_EE)\n",
    "    return vcat(0, Capse.get_Cℓ(θ, Emu_TT)[1:3199]),\n",
    "           vcat(0, Capse.get_Cℓ(θ, Emu_TE)[1:3199]),\n",
    "           vcat(0, Capse.get_Cℓ(θ, Emu_EE)[1:3199])\n",
    "end"
   ]
  },
  {
   "cell_type": "code",
   "execution_count": null,
   "id": "ebaf8ccf-86b5-4e3c-989e-dc697c3fa3f7",
   "metadata": {},
   "outputs": [],
   "source": [
    "theory(θ) = call_emu_planck(θ, emu_TT, emu_TE, emu_EE)"
   ]
  },
  {
   "cell_type": "code",
   "execution_count": null,
   "id": "8957717a-4af2-4f07-8bd4-edf1014216cc",
   "metadata": {},
   "outputs": [],
   "source": [
    "x = rand(6)\n",
    "@benchmark theory($x)"
   ]
  },
  {
   "cell_type": "code",
   "execution_count": null,
   "id": "5f1a496e-7571-4478-9e04-9a1e6c3856c5",
   "metadata": {},
   "outputs": [],
   "source": [
    "a, b, c = theory([3.034, 0.97, 68.3, 0.02224, 0.1166, 0.054])"
   ]
  },
  {
   "cell_type": "code",
   "execution_count": null,
   "id": "13bfedae-dafa-4734-94c9-b2a26982ef4d",
   "metadata": {},
   "outputs": [],
   "source": [
    "model_matrix = SPTLikelihoods.compute_theory(a,b,c, 0.00,\n",
    "    62.61, 27.9, 24.3, 16.7, 28.6, 78.5,\n",
    "    0.041, 0.0177, 0.0157, 0.0115, 0.0188, 0.048,\n",
    "    1.93, -2.53, 1.48, 5.2, 0.8, 1.85, 4.7, 0.09,\n",
    "    3.7, 0.052, -2.42, 1.51, 0.138, -2.42, 1.51,\n",
    "    1., 0.9975, 0.9930, 1.0009, 1.002, 1.019, 3200)\n",
    "Σ = SPTLikelihoods.compute_cov(model_matrix)\n",
    "\n",
    "Γ = sqrt(Σ)\n",
    "iΓ = inv(Γ);"
   ]
  },
  {
   "cell_type": "code",
   "execution_count": null,
   "id": "4c00a973-3a6c-425c-9302-696adb34c338",
   "metadata": {},
   "outputs": [],
   "source": [
    "@model function SPT3G_TTTEEE(data, iΓ)\n",
    "    # cosmo params\n",
    "    ln10As ~ Uniform(0.25, 0.35)\n",
    "    ns     ~ Uniform(0.88, 1.06)\n",
    "    h0     ~ Uniform(0.60, 0.80)\n",
    "    ωb     ~ Uniform(0.1985, 0.25)\n",
    "    ωc     ~ Uniform(0.08, 0.20)\n",
    "    τ      ~ Normal(0.065, 0.015)\n",
    "    \n",
    "    θ = [10*ln10As, ns, 100*h0, ωb/10, ωc, τ]\n",
    "    Dl_TT, Dl_TE, Dl_EE = theory(θ)\n",
    "    \n",
    "    κ100 ~ Normal(0, 0.045)\n",
    "    κ = κ100/100\n",
    "    \n",
    "    D_TT_90_90 ~ Normal(51.3, 9.4)# 62.61\n",
    "    D_TT_90_150 ~ Normal(22.4, 7.1)#27.9\n",
    "    D_TT_90_220 ~ Normal(20.7, 5.9)#24.3\n",
    "    D_TT_150_150 ~ Normal(15.3, 4.1)#16.7\n",
    "    D_TT_150_220 ~ Normal(28.4, 4.2)#28.6\n",
    "    D_TT_220_220 ~ Normal(76.0, 14.9)# 78.5\n",
    "    \n",
    "    D_EE_90_90 ~ Normal(0.041, 0.012)# 0.041\n",
    "    D_EE_90_150 ~ Normal(0.0180, 0.0054)#0.0177\n",
    "    D_EE_90_220 ~ Normal(0.0157, 0.0047)# 0.0157\n",
    "    D_EE_150_150 ~ Normal(0.0115, 0.0034)#0.0115\n",
    "    D_EE_150_220 ~ Normal(0.0190, 0.0057)# 0.0188\n",
    "    D_EE_220_220 ~ Normal(0.048, 0.014)#0.048\n",
    "    \n",
    "    A_80_cirrus ~ Normal(1.88, 0.48)#1.93\n",
    "    α_cirrus ~ Normal(-2.53, 0.05)#-2.53\n",
    "    β_cirrus ~ Normal(1.48, 0.02)#1.48\n",
    "    \n",
    "    A_80_cib ~ Normal(3.2, 1.8)#5.2\n",
    "    α_cib = 0.8\n",
    "    β_cib ~ Normal(2.26, 0.38)#1.85\n",
    "    \n",
    "    A_tSZ ~ Normal(3.2, 2.4)#4.7\n",
    "    ξ_tsz_CIB ~ Normal(0.18, 0.33)#0.09\n",
    "    A_kSZ ~ Normal(3.7, 4.6)#3.7\n",
    "    \n",
    "    A_80_EE ~ Normal(0.05, 0.022)#0.052\n",
    "    α_EE ~ Normal(-2.42, 0.04)#-2.42\n",
    "    β_EE ~ Normal(1.51, 0.04)#1.51\n",
    "    \n",
    "    A_80_TE ~ Normal(0.12, 0.051)#0.138\n",
    "    α_TE ~ Normal(-2.42, 0.04)#-2.42\n",
    "    β_TE ~ Normal(1.51, 0.04)#1.51\n",
    "    \n",
    "    T_E_cal ~ MvNormal(ones(6), SPTLikelihoods.cal_cov)\n",
    "    cal_T_90, cal_T_150, cal_T_220, cal_E_90, cal_E_150, cal_E_220 = T_E_cal\n",
    "    \n",
    "    model_matrix = SPTLikelihoods.compute_theory(Dl_TT, Dl_TE, Dl_EE, κ,\n",
    "    D_TT_90_90, D_TT_90_150, D_TT_90_220, D_TT_150_150, D_TT_150_220, D_TT_220_220,\n",
    "    D_EE_90_90, D_EE_90_150, D_EE_90_220, D_EE_150_150, D_EE_150_220, D_EE_220_220,\n",
    "    A_80_cirrus, α_cirrus, β_cirrus, A_80_cib, α_cib, β_cib, A_tSZ, ξ_tsz_CIB,\n",
    "    A_kSZ, A_80_EE, α_EE, β_EE, A_80_TE, α_TE, β_TE,\n",
    "    cal_T_90, cal_T_150, cal_T_220, cal_E_90, cal_E_150, cal_E_220, 3200)\n",
    "    \n",
    "    vec_residuals = iΓ * SPTLikelihoods.slice_theory(model_matrix)\n",
    "    \n",
    "    data ~ MvNormal(vec_residuals, I)\n",
    "    \n",
    "    return nothing\n",
    "    \n",
    "end\n",
    "\n",
    "SPT3G_TTTEEE_model = SPT3G_TTTEEE(zeros(728), iΓ);"
   ]
  },
  {
   "cell_type": "code",
   "execution_count": null,
   "id": "66d445a1-5989-42a2-992b-2988e3c3ab73",
   "metadata": {},
   "outputs": [],
   "source": [
    "bestfit_SPT = optimize(SPT3G_TTTEEE_model, MAP(), Optim.Options(iterations=1000000, allow_f_increases=true, show_trace=true))"
   ]
  },
  {
   "cell_type": "code",
   "execution_count": null,
   "id": "d3b947e9-917e-45ea-a491-02358f0b5e3f",
   "metadata": {},
   "outputs": [],
   "source": [
    "chains_SPT_NUTS = sample(SPT3G_TTTEEE_model, NUTS(500, 0.65), 2000, init_params=bestfit_SPT.values.array)"
   ]
  },
  {
   "cell_type": "code",
   "execution_count": null,
   "id": "45ee9b92-fa20-4df4-a920-a54d9eb6a799",
   "metadata": {},
   "outputs": [],
   "source": [
    "npzwrite(\"chains_NUTS_SPT.npy\", chains_SPT_NUTS.value.data[:,:,1])"
   ]
  },
  {
   "cell_type": "code",
   "execution_count": null,
   "id": "407cef7d-524f-4abe-b28c-80e9afe97cc7",
   "metadata": {},
   "outputs": [],
   "source": [
    "CPU_s_SPT_NUTS = compute_duration(chains_SPT_NUTS)\n",
    "SPT_NUTS_ESS = mean(MCMCDiagnosticTools.ess_rhat(chains_SPT_NUTS)[chains_SPT_NUTS.name_map[:parameters],:ess])\n",
    "SPT_NUTS_ESS_s = SPT_NUTS_ESS/CPU_s_SPT_NUTS"
   ]
  },
  {
   "cell_type": "code",
   "execution_count": null,
   "id": "137b22e2-7611-4e3b-ad5c-8dd4c42acec4",
   "metadata": {},
   "outputs": [],
   "source": [
    "SPT_NUTS_ESS"
   ]
  },
  {
   "cell_type": "code",
   "execution_count": null,
   "id": "6267874f-075d-440f-8db4-3e8a8ebeb5a8",
   "metadata": {},
   "outputs": [],
   "source": [
    "d = length(bestfit_SPT.values.array)\n",
    "\n",
    "\n",
    "target = TuringTarget(SPT3G_TTTEEE_model)\n",
    "nadapts = 20_000\n",
    "nsteps = 100_000\n",
    "spl = MCHMC(nadapts, 0.001; init_eps=0.005, L=sqrt(d),# sigma=ones(d),\n",
    "            adaptive=true)\n",
    "@time spt_mchmc = Sample(spl, target, nsteps;\n",
    "                       progress=true,\n",
    "                       dialog=true, file_name=\"chain_1\",\n",
    "                       initial_x=bestfit_SPT.values.array);"
   ]
  },
  {
   "cell_type": "code",
   "execution_count": null,
   "id": "b313821f-63f7-4d85-8e53-89f9cfd90ec7",
   "metadata": {},
   "outputs": [],
   "source": [
    "chains_SPT_MCHMC = mapreduce(permutedims, vcat, spt_mchmc)[:,1:39];"
   ]
  },
  {
   "cell_type": "code",
   "execution_count": null,
   "id": "2641f116-8029-4aef-981c-ecf8b9192b72",
   "metadata": {},
   "outputs": [],
   "source": [
    "mean(chains_SPT_MCHMC[:,1])"
   ]
  },
  {
   "cell_type": "code",
   "execution_count": null,
   "id": "500fedc0-d65a-46cc-88a5-da7e9fdcdade",
   "metadata": {},
   "outputs": [],
   "source": [
    "npzwrite(\"chains_MCHMC_SPT.npy\", chains_SPT_MCHMC)"
   ]
  },
  {
   "cell_type": "code",
   "execution_count": null,
   "id": "020b3bb2-a3f1-482a-81b1-4bccb0f9571d",
   "metadata": {},
   "outputs": [],
   "source": [
    "vec_ess = Summarize(spt_mchmc)[1][1:7]"
   ]
  },
  {
   "cell_type": "code",
   "execution_count": null,
   "id": "65bb52cf-1c86-4761-a049-b112d6fc2143",
   "metadata": {},
   "outputs": [],
   "source": [
    "mean(Summarize(spt_mchmc)[1][1:34])"
   ]
  },
  {
   "cell_type": "code",
   "execution_count": null,
   "id": "6e520081-9de9-47bd-a861-749fc4c25c74",
   "metadata": {},
   "outputs": [],
   "source": [
    "mean(vec_ess)"
   ]
  },
  {
   "cell_type": "code",
   "execution_count": null,
   "id": "9adaff6d-38f9-4649-864a-7310f3f3f93a",
   "metadata": {},
   "outputs": [],
   "source": []
  }
 ],
 "metadata": {
  "kernelspec": {
   "display_name": "nt 8 1.9.2",
   "language": "julia",
   "name": "nt-8-1.9"
  },
  "language_info": {
   "file_extension": ".jl",
   "mimetype": "application/julia",
   "name": "julia",
   "version": "1.9.2"
  }
 },
 "nbformat": 4,
 "nbformat_minor": 5
}
